{
  "nbformat": 4,
  "nbformat_minor": 0,
  "metadata": {
    "colab": {
      "name": "CNN_FINAL_baseline_dropouts.ipynb",
      "provenance": [],
      "collapsed_sections": []
    },
    "kernelspec": {
      "name": "python3",
      "display_name": "Python 3"
    },
    "language_info": {
      "name": "python"
    },
    "accelerator": "GPU"
  },
  "cells": [
    {
      "cell_type": "markdown",
      "metadata": {
        "id": "J7qH_K40dLu0"
      },
      "source": [
        "#Dropouts - 0.25,0.50,0.75"
      ]
    },
    {
      "cell_type": "code",
      "metadata": {
        "id": "w2F6iYP5TTim"
      },
      "source": [
        "from sklearn.datasets import fetch_openml\n",
        "mnist=fetch_openml(\"mnist_784\",version=1)"
      ],
      "execution_count": null,
      "outputs": []
    },
    {
      "cell_type": "code",
      "metadata": {
        "id": "Ea34yu4lTZLD"
      },
      "source": [
        "from sklearn.datasets import fetch_openml\n",
        "import numpy as np\n",
        "import pandas as pd\n",
        "import matplotlib as mpl\n",
        "from torch.utils.data import DataLoader, TensorDataset\n",
        "import matplotlib.pyplot as plt\n",
        "from torchvision.utils import make_grid\n",
        "from sklearn.model_selection import StratifiedShuffleSplit\n",
        "import collections\n",
        "import torch\n",
        "import torch.nn as nn\n",
        "import torch.nn.functional as F\n",
        "from torch.autograd import Variable\n",
        "import torch.optim as optim\n",
        "import torch.utils.data as data\n",
        "import random\n",
        "from scipy.io import savemat\n",
        "import os \n",
        "from os import path\n",
        "from sklearn.preprocessing import normalize\n",
        "from torch.nn.utils import clip_grad_norm_\n",
        "import torch.nn.parallel.data_parallel as data_parallel\n",
        "from sklearn.metrics import confusion_matrix\n",
        "from torch.optim.lr_scheduler import StepLR"
      ],
      "execution_count": null,
      "outputs": []
    },
    {
      "cell_type": "markdown",
      "metadata": {
        "id": "hBkPy_-wZTLS"
      },
      "source": [
        "Storing the MNSIT data into X and y"
      ]
    },
    {
      "cell_type": "code",
      "metadata": {
        "colab": {
          "base_uri": "https://localhost:8080/"
        },
        "id": "26R6URhvTa4P",
        "outputId": "020a25ff-a1b3-47a6-8b02-b170234f1ff0"
      },
      "source": [
        "import numpy as np\n",
        "X,y=mnist[\"data\"],mnist[\"target\"]\n",
        "y=y.astype(int)\n",
        "X=((X/255.)-.5)*2\n",
        "print(X.shape,y.shape)\n",
        "print(min(y),max(y))\n",
        "print(type(X),type(y))\n",
        "print(np.min(X), np.max(X))"
      ],
      "execution_count": null,
      "outputs": [
        {
          "output_type": "stream",
          "text": [
            "(70000, 784) (70000,)\n",
            "0 9\n",
            "<class 'numpy.ndarray'> <class 'numpy.ndarray'>\n",
            "-1.0 1.0\n"
          ],
          "name": "stdout"
        }
      ]
    },
    {
      "cell_type": "markdown",
      "metadata": {
        "id": "9fokla-NZXRr"
      },
      "source": [
        "Defining a class hyperparam to store the values of learning rate, number of epochs,mini-batch size and momentum."
      ]
    },
    {
      "cell_type": "code",
      "metadata": {
        "id": "-eR9-XmUTc15"
      },
      "source": [
        "# Define key hyperparameters\n",
        "class hyperparam:\n",
        "    \n",
        "    lr = 0.05  # learning rate\n",
        "    num_epochs = 50  # Number of epochs\n",
        "    bs = 50  # Mini-batch size \n",
        "    moment = 0.9 # Momentum SGD "
      ],
      "execution_count": null,
      "outputs": []
    },
    {
      "cell_type": "markdown",
      "metadata": {
        "id": "EL4fK8FqZqsP"
      },
      "source": [
        "###Splitting into train and test data"
      ]
    },
    {
      "cell_type": "code",
      "metadata": {
        "id": "LI8tBGiUTeo0"
      },
      "source": [
        "X_train, X_test, y_train, y_test = X[:60000], X[60000:], y[:60000], y[60000:] #train_images, val_images, train_labels, val_labels"
      ],
      "execution_count": null,
      "outputs": []
    },
    {
      "cell_type": "markdown",
      "metadata": {
        "id": "CGpBsvgyZvdh"
      },
      "source": [
        "Separate into labels and training images and reshape the images"
      ]
    },
    {
      "cell_type": "code",
      "metadata": {
        "colab": {
          "base_uri": "https://localhost:8080/"
        },
        "id": "naPtAwABTh5o",
        "outputId": "ce1dea79-b6e9-47bc-80a8-f57859ee710d"
      },
      "source": [
        "split = StratifiedShuffleSplit(n_splits=1, test_size=0.1, random_state = 42)\n",
        "\n",
        "for train_index, val_index in split.split(X_train,y_train):\n",
        "    X_train_strat = X[train_index,:]\n",
        "    y_train_strat = y[train_index]\n",
        "    \n",
        "    X_dev_strat = X[val_index,:]\n",
        "    y_dev_strat = y[val_index]\n",
        "\n",
        "print(X_train_strat.shape,y_train_strat.shape,X_dev_strat.shape,y_dev_strat.shape)"
      ],
      "execution_count": null,
      "outputs": [
        {
          "output_type": "stream",
          "text": [
            "(54000, 784) (54000,) (6000, 784) (6000,)\n"
          ],
          "name": "stdout"
        }
      ]
    },
    {
      "cell_type": "code",
      "metadata": {
        "id": "xfC1GOTmTkF7"
      },
      "source": [
        "train_images = X_train_strat.reshape(X_train_strat.shape[0], 28, 28) #reshape the images to 54000,28,28 from 54000,784\n",
        "val_images = X_dev_strat.reshape(X_dev_strat.shape[0], 28, 28)\n",
        "test_images = X_test.reshape(X_test.shape[0], 28, 28)"
      ],
      "execution_count": null,
      "outputs": []
    },
    {
      "cell_type": "markdown",
      "metadata": {
        "id": "dWsEuhRJZyxf"
      },
      "source": [
        "Converting images to tensors and normalising them"
      ]
    },
    {
      "cell_type": "code",
      "metadata": {
        "id": "fp5bcLXJTl3O"
      },
      "source": [
        "#train\n",
        "train_images_tensor = torch.tensor(train_images)/255.0\n",
        "train_labels_tensor = torch.tensor(y_train_strat)\n",
        "train_tensor = TensorDataset(train_images_tensor, train_labels_tensor)\n",
        "\n",
        "#val\n",
        "val_images_tensor = torch.tensor(val_images)/255.0\n",
        "val_labels_tensor = torch.tensor(y_dev_strat)\n",
        "val_tensor = TensorDataset(val_images_tensor, val_labels_tensor)\n",
        "\n",
        "#test\n",
        "test_images_tensor = torch.tensor(test_images)/255.0"
      ],
      "execution_count": null,
      "outputs": []
    },
    {
      "cell_type": "markdown",
      "metadata": {
        "id": "j7SJWChnZ1kD"
      },
      "source": [
        "Load images into the data generator"
      ]
    },
    {
      "cell_type": "code",
      "metadata": {
        "colab": {
          "base_uri": "https://localhost:8080/"
        },
        "id": "m_3eLvX8Tnpa",
        "outputId": "e54d0e38-9fe3-451a-ea64-b6b1d105284a"
      },
      "source": [
        "train_loader = DataLoader(train_tensor, batch_size=50, num_workers=6, shuffle=True)\n",
        "val_loader = DataLoader(val_tensor, batch_size=50, num_workers=6, shuffle=True)\n",
        "test_loader = DataLoader(test_images_tensor, batch_size=50, num_workers=6, shuffle=False)"
      ],
      "execution_count": null,
      "outputs": [
        {
          "output_type": "stream",
          "text": [
            "/usr/local/lib/python3.7/dist-packages/torch/utils/data/dataloader.py:477: UserWarning: This DataLoader will create 6 worker processes in total. Our suggested max number of worker in current system is 2, which is smaller than what this DataLoader is going to create. Please be aware that excessive worker creation might get DataLoader running slow or even freeze, lower the worker number to avoid potential slowness/freeze if necessary.\n",
            "  cpuset_checked))\n"
          ],
          "name": "stderr"
        }
      ]
    },
    {
      "cell_type": "markdown",
      "metadata": {
        "id": "1oPs8-zcZ9P0"
      },
      "source": [
        "##Define the CNN Model\n",
        "####dropout-0.25"
      ]
    },
    {
      "cell_type": "markdown",
      "metadata": {
        "id": "H2PNiIf01XRC"
      },
      "source": [
        "Dropout of 0.25 added to the CNN Model"
      ]
    },
    {
      "cell_type": "code",
      "metadata": {
        "id": "Ha2nWUE7TpvN"
      },
      "source": [
        "class Net(nn.Module):\n",
        "    def __init__(self):\n",
        "        super(Net, self).__init__()\n",
        "        \n",
        "        self.conv_block = nn.Sequential(\n",
        "            nn.Conv2d(1, 32, kernel_size=3, stride=1, padding=1),\n",
        "            nn.ReLU(inplace=True),\n",
        "            nn.Conv2d(32, 64, kernel_size=3, stride=1, padding=1),\n",
        "            nn.ReLU(inplace=True),\n",
        "            nn.MaxPool2d(kernel_size=2, stride=2),\n",
        "            nn.Conv2d(64, 128, kernel_size=3, stride=1, padding=1),\n",
        "            nn.ReLU(inplace=True),\n",
        "            nn.MaxPool2d(kernel_size=2, stride=2) \n",
        "        )\n",
        "        self.linear_block = nn.Sequential(\n",
        "            nn.Linear(128*7*7, 128),\n",
        "            nn.BatchNorm1d(128),\n",
        "            nn.ReLU(inplace=True),\n",
        "            nn.Dropout(0.25), #dropout of 0.25 added\n",
        "            nn.Linear(128, 64),\n",
        "            nn.BatchNorm1d(64),\n",
        "            nn.ReLU(inplace=True),\n",
        "            nn.Dropout(0.25), #dropout of 0.25 added\n",
        "            nn.Linear(64, 10)\n",
        "        )\n",
        "    def forward(self, x):\n",
        "        x = self.conv_block(x)\n",
        "        x = x.view(x.size(0), -1)\n",
        "        x = self.linear_block(x)\n",
        "        \n",
        "        return x"
      ],
      "execution_count": null,
      "outputs": []
    },
    {
      "cell_type": "markdown",
      "metadata": {
        "id": "1XvWyFS-mzq9"
      },
      "source": [
        "Glorat Initialisation "
      ]
    },
    {
      "cell_type": "code",
      "metadata": {
        "id": "EBTX-Kb7SddR"
      },
      "source": [
        "def init_weights(m): \n",
        "  if type(m) == nn.Linear:\n",
        "    torch.nn.init.xavier_normal_(m.weight)"
      ],
      "execution_count": null,
      "outputs": []
    },
    {
      "cell_type": "code",
      "metadata": {
        "colab": {
          "base_uri": "https://localhost:8080/"
        },
        "id": "ZK8dHwjSTzGC",
        "outputId": "baaf25af-0d17-4fd1-9b00-917485995b8f"
      },
      "source": [
        "conv_model = Net()\n",
        "conv_model.apply(init_weights) #Initialising the weights using the glorat Initialisation method\n",
        "conv_model "
      ],
      "execution_count": null,
      "outputs": [
        {
          "output_type": "execute_result",
          "data": {
            "text/plain": [
              "Net(\n",
              "  (conv_block): Sequential(\n",
              "    (0): Conv2d(1, 32, kernel_size=(3, 3), stride=(1, 1), padding=(1, 1))\n",
              "    (1): ReLU(inplace=True)\n",
              "    (2): Conv2d(32, 64, kernel_size=(3, 3), stride=(1, 1), padding=(1, 1))\n",
              "    (3): ReLU(inplace=True)\n",
              "    (4): MaxPool2d(kernel_size=2, stride=2, padding=0, dilation=1, ceil_mode=False)\n",
              "    (5): Conv2d(64, 128, kernel_size=(3, 3), stride=(1, 1), padding=(1, 1))\n",
              "    (6): ReLU(inplace=True)\n",
              "    (7): MaxPool2d(kernel_size=2, stride=2, padding=0, dilation=1, ceil_mode=False)\n",
              "  )\n",
              "  (linear_block): Sequential(\n",
              "    (0): Linear(in_features=6272, out_features=128, bias=True)\n",
              "    (1): BatchNorm1d(128, eps=1e-05, momentum=0.1, affine=True, track_running_stats=True)\n",
              "    (2): ReLU(inplace=True)\n",
              "    (3): Dropout(p=0.25, inplace=False)\n",
              "    (4): Linear(in_features=128, out_features=64, bias=True)\n",
              "    (5): BatchNorm1d(64, eps=1e-05, momentum=0.1, affine=True, track_running_stats=True)\n",
              "    (6): ReLU(inplace=True)\n",
              "    (7): Dropout(p=0.25, inplace=False)\n",
              "    (8): Linear(in_features=64, out_features=10, bias=True)\n",
              "  )\n",
              ")"
            ]
          },
          "metadata": {
            "tags": []
          },
          "execution_count": 12
        }
      ]
    },
    {
      "cell_type": "markdown",
      "metadata": {
        "id": "F3AT7c_SnUmI"
      },
      "source": [
        "###Defining the optimizer and loss functions\n",
        "\n",
        "SGD Optimiser - \n",
        "params:- learning rate-0.05,momentum-0.9 \n",
        "and using the Cross Entropy Loss Function\n",
        "\n",
        "Learning Rate Schedular adjusting 10% every 10 epochs\n",
        "\n",
        "torch.cuda to check if any gpu is available to use it. Google Collab GPU was used here to run the files."
      ]
    },
    {
      "cell_type": "code",
      "metadata": {
        "colab": {
          "base_uri": "https://localhost:8080/"
        },
        "id": "meieCQ_yVJZL",
        "outputId": "595759a0-2f5d-4201-cec7-b4efd01c8b7b"
      },
      "source": [
        "optimizer = torch.optim.SGD(params=conv_model.parameters(), lr=hyperparam.lr, momentum=hyperparam.moment)\n",
        "exp_lr_scheduler = StepLR(optimizer, step_size=10, gamma=0.10) #learning rate scheduler\n",
        "criterion = nn.CrossEntropyLoss() #cross entropy loss to calculate the loss between the predicted and the actual\n",
        "if torch.cuda.is_available(): # To check if any gpu is available to run on\n",
        "    print(\"GPU available\")\n",
        "    conv_model = conv_model.cuda()\n",
        "    criterion = criterion.cuda()"
      ],
      "execution_count": null,
      "outputs": [
        {
          "output_type": "stream",
          "text": [
            "GPU available\n"
          ],
          "name": "stdout"
        }
      ]
    },
    {
      "cell_type": "markdown",
      "metadata": {
        "id": "I8CahrmEaag4"
      },
      "source": [
        "###Training the Model"
      ]
    },
    {
      "cell_type": "code",
      "metadata": {
        "colab": {
          "base_uri": "https://localhost:8080/"
        },
        "id": "GufCZAJwdi6l",
        "outputId": "ec5f3338-0a78-457a-e4b9-1b594532c5f5"
      },
      "source": [
        "#Train the DNN\n",
        "tr_avgLoss_list = []\n",
        "tr_accuracy_list =[]\n",
        "dev_avgLoss_list = []\n",
        "dev_accuracy_list = []\n",
        "\n",
        "#loop over epochs\n",
        "for epoch in range(hyperparam.num_epochs):\n",
        "    tr_num_correct = 0\n",
        "    tr_num_samples = 0\n",
        "    tr_total_loss = 0.0\n",
        "    dev_num_correct = 0\n",
        "    dev_num_samples = 0\n",
        "    dev_total_loss = 0.0\n",
        "    \n",
        "    #Training\n",
        "    conv_model.train(True) \n",
        "    exp_lr_scheduler.step() #to decrease the lr by 10% every 10 epochs because as you move towards the minima the steps size needs to decrease so it doesnt jump over the minima\n",
        "\n",
        "    with torch.set_grad_enabled(True):\n",
        "        for local_batch, local_labels in train_loader:\n",
        "            local_batch=local_batch.unsqueeze(1)\n",
        "            \n",
        "            if torch.cuda.is_available():\n",
        "              local_batch = local_batch.cuda()\n",
        "              local_labels = local_labels.cuda()\n",
        "            \n",
        "            optimizer.zero_grad()\n",
        "            \n",
        "            \n",
        "            local_batch = local_batch.float()\n",
        "            local_labels = local_labels.float()\n",
        "            \n",
        "            #Model computations\n",
        "            out1 = conv_model(local_batch)\n",
        "            \n",
        "            #Cross Entropy loss calculation\n",
        "            ploss = criterion(out1, local_labels.long())\n",
        "            tr_total_loss += ploss*hyperparam.bs\n",
        "            \n",
        "            #Backpropogation\n",
        "            ploss.backward() #gradient calculation\n",
        "            optimizer.step() #weight update\n",
        "            \n",
        "            sel_class = torch.argmax(out1, dim=1) #chooses the maximum value of the softmax layer\n",
        "            \n",
        "            tr_num_correct += sel_class.eq(local_labels).sum().item()\n",
        "            tr_num_samples += hyperparam.bs\n",
        "        \n",
        "        tr_avgLoss = tr_total_loss/len(train_loader.dataset)\n",
        "        tr_avgLoss_list.append(tr_avgLoss)\n",
        "        \n",
        "        tr_accuracy = tr_num_correct/tr_num_samples\n",
        "        tr_accuracy_list.append(tr_accuracy)\n",
        "\n",
        "    #validation \n",
        "    with torch.set_grad_enabled(False):\n",
        "      conv_model.eval()\n",
        "\n",
        "      for local_batch,local_labels in val_loader:\n",
        "        local_batch=local_batch.unsqueeze(1)\n",
        "\n",
        "        local_batch=local_batch.float()\n",
        "        local_labels=local_labels.float()\n",
        "        #local_batch,local_labels=Variable(local_batch),Variable(local_labels)\n",
        "        \n",
        "        if torch.cuda.is_available():\n",
        "            local_batch = local_batch.cuda()\n",
        "            local_labels = local_labels.cuda()\n",
        "        #Model computations2\n",
        "        out1=conv_model(local_batch)\n",
        "\n",
        "        #CrossEntropy loss calculation\n",
        "        pLoss=criterion(out1,local_labels.long())\n",
        "        dev_total_loss +=ploss*hyperparam.bs\n",
        "        sel_class=torch.argmax(out1,dim=1)\n",
        "\n",
        "        dev_num_correct+=sel_class.eq(local_labels).sum().item()\n",
        "\n",
        "        dev_num_samples+=hyperparam.bs\n",
        "\n",
        "      dev_avgLoss=dev_total_loss/len(val_loader.dataset)\n",
        "      dev_avgLoss_list.append(dev_avgLoss)\n",
        "\n",
        "      dev_accuracy=dev_num_correct/dev_num_samples\n",
        "      dev_accuracy_list.append(dev_accuracy)\n",
        "    print(\"Accuracy for \",epoch,\" epoch -\",\"train_accuracy-\",tr_accuracy,\" Validation_accuracy- \",dev_accuracy)\n",
        "\n"
      ],
      "execution_count": null,
      "outputs": [
        {
          "output_type": "stream",
          "text": [
            "/usr/local/lib/python3.7/dist-packages/torch/optim/lr_scheduler.py:134: UserWarning: Detected call of `lr_scheduler.step()` before `optimizer.step()`. In PyTorch 1.1.0 and later, you should call them in the opposite order: `optimizer.step()` before `lr_scheduler.step()`.  Failure to do this will result in PyTorch skipping the first value of the learning rate schedule. See more details at https://pytorch.org/docs/stable/optim.html#how-to-adjust-learning-rate\n",
            "  \"https://pytorch.org/docs/stable/optim.html#how-to-adjust-learning-rate\", UserWarning)\n",
            "/usr/local/lib/python3.7/dist-packages/torch/utils/data/dataloader.py:477: UserWarning: This DataLoader will create 6 worker processes in total. Our suggested max number of worker in current system is 2, which is smaller than what this DataLoader is going to create. Please be aware that excessive worker creation might get DataLoader running slow or even freeze, lower the worker number to avoid potential slowness/freeze if necessary.\n",
            "  cpuset_checked))\n"
          ],
          "name": "stderr"
        },
        {
          "output_type": "stream",
          "text": [
            "Accuracy for  0  epoch - train_accuracy- 0.9131296296296296  Validation_accuracy-  0.20016666666666666\n",
            "Accuracy for  1  epoch - train_accuracy- 0.9515740740740741  Validation_accuracy-  0.09933333333333333\n",
            "Accuracy for  2  epoch - train_accuracy- 0.9515185185185185  Validation_accuracy-  0.09933333333333333\n",
            "Accuracy for  3  epoch - train_accuracy- 0.9677222222222223  Validation_accuracy-  0.11233333333333333\n",
            "Accuracy for  4  epoch - train_accuracy- 0.973037037037037  Validation_accuracy-  0.09866666666666667\n",
            "Accuracy for  5  epoch - train_accuracy- 0.9757592592592592  Validation_accuracy-  0.09866666666666667\n",
            "Accuracy for  6  epoch - train_accuracy- 0.9775925925925926  Validation_accuracy-  0.11233333333333333\n",
            "Accuracy for  7  epoch - train_accuracy- 0.9796296296296296  Validation_accuracy-  0.11233333333333333\n",
            "Accuracy for  8  epoch - train_accuracy- 0.9779074074074074  Validation_accuracy-  0.09983333333333333\n",
            "Accuracy for  9  epoch - train_accuracy- 0.9846666666666667  Validation_accuracy-  0.25716666666666665\n",
            "Accuracy for  10  epoch - train_accuracy- 0.9859074074074075  Validation_accuracy-  0.17933333333333334\n",
            "Accuracy for  11  epoch - train_accuracy- 0.9866481481481482  Validation_accuracy-  0.5536666666666666\n",
            "Accuracy for  12  epoch - train_accuracy- 0.9872037037037037  Validation_accuracy-  0.30916666666666665\n",
            "Accuracy for  13  epoch - train_accuracy- 0.9875925925925926  Validation_accuracy-  0.5973333333333334\n",
            "Accuracy for  14  epoch - train_accuracy- 0.9882962962962963  Validation_accuracy-  0.4003333333333333\n",
            "Accuracy for  15  epoch - train_accuracy- 0.9887592592592592  Validation_accuracy-  0.4558333333333333\n",
            "Accuracy for  16  epoch - train_accuracy- 0.9886111111111111  Validation_accuracy-  0.2806666666666667\n",
            "Accuracy for  17  epoch - train_accuracy- 0.9882222222222222  Validation_accuracy-  0.36233333333333334\n",
            "Accuracy for  18  epoch - train_accuracy- 0.9883518518518518  Validation_accuracy-  0.17733333333333334\n",
            "Accuracy for  19  epoch - train_accuracy- 0.9886666666666667  Validation_accuracy-  0.9751666666666666\n",
            "Accuracy for  20  epoch - train_accuracy- 0.9893703703703703  Validation_accuracy-  0.7735\n",
            "Accuracy for  21  epoch - train_accuracy- 0.9893703703703703  Validation_accuracy-  0.9858333333333333\n",
            "Accuracy for  22  epoch - train_accuracy- 0.9897222222222222  Validation_accuracy-  0.9818333333333333\n",
            "Accuracy for  23  epoch - train_accuracy- 0.9903518518518518  Validation_accuracy-  0.9873333333333333\n",
            "Accuracy for  24  epoch - train_accuracy- 0.9895  Validation_accuracy-  0.9868333333333333\n",
            "Accuracy for  25  epoch - train_accuracy- 0.9898333333333333  Validation_accuracy-  0.988\n",
            "Accuracy for  26  epoch - train_accuracy- 0.9897592592592592  Validation_accuracy-  0.982\n",
            "Accuracy for  27  epoch - train_accuracy- 0.9898888888888889  Validation_accuracy-  0.9231666666666667\n",
            "Accuracy for  28  epoch - train_accuracy- 0.9898148148148148  Validation_accuracy-  0.9606666666666667\n",
            "Accuracy for  29  epoch - train_accuracy- 0.990574074074074  Validation_accuracy-  0.9878333333333333\n",
            "Accuracy for  30  epoch - train_accuracy- 0.9900925925925926  Validation_accuracy-  0.9895\n",
            "Accuracy for  31  epoch - train_accuracy- 0.9901666666666666  Validation_accuracy-  0.989\n",
            "Accuracy for  32  epoch - train_accuracy- 0.9896851851851852  Validation_accuracy-  0.9881666666666666\n",
            "Accuracy for  33  epoch - train_accuracy- 0.9901851851851852  Validation_accuracy-  0.9886666666666667\n",
            "Accuracy for  34  epoch - train_accuracy- 0.9898518518518519  Validation_accuracy-  0.9878333333333333\n",
            "Accuracy for  35  epoch - train_accuracy- 0.9897407407407407  Validation_accuracy-  0.9896666666666667\n",
            "Accuracy for  36  epoch - train_accuracy- 0.9901481481481481  Validation_accuracy-  0.9888333333333333\n",
            "Accuracy for  37  epoch - train_accuracy- 0.9902962962962963  Validation_accuracy-  0.9888333333333333\n",
            "Accuracy for  38  epoch - train_accuracy- 0.9900925925925926  Validation_accuracy-  0.9888333333333333\n",
            "Accuracy for  39  epoch - train_accuracy- 0.9895555555555555  Validation_accuracy-  0.9878333333333333\n",
            "Accuracy for  40  epoch - train_accuracy- 0.9894814814814815  Validation_accuracy-  0.988\n",
            "Accuracy for  41  epoch - train_accuracy- 0.9898703703703704  Validation_accuracy-  0.9885\n",
            "Accuracy for  42  epoch - train_accuracy- 0.9897592592592592  Validation_accuracy-  0.9883333333333333\n",
            "Accuracy for  43  epoch - train_accuracy- 0.9901111111111112  Validation_accuracy-  0.9893333333333333\n",
            "Accuracy for  44  epoch - train_accuracy- 0.9902222222222222  Validation_accuracy-  0.9881666666666666\n",
            "Accuracy for  45  epoch - train_accuracy- 0.99  Validation_accuracy-  0.9888333333333333\n",
            "Accuracy for  46  epoch - train_accuracy- 0.989462962962963  Validation_accuracy-  0.9878333333333333\n",
            "Accuracy for  47  epoch - train_accuracy- 0.9902222222222222  Validation_accuracy-  0.9883333333333333\n",
            "Accuracy for  48  epoch - train_accuracy- 0.9902962962962963  Validation_accuracy-  0.9886666666666667\n",
            "Accuracy for  49  epoch - train_accuracy- 0.990574074074074  Validation_accuracy-  0.9885\n"
          ],
          "name": "stdout"
        }
      ]
    },
    {
      "cell_type": "markdown",
      "metadata": {
        "id": "VjU3RecGapPO"
      },
      "source": [
        "###Plotting the Learning Curves - for the Test and the Validation Sets"
      ]
    },
    {
      "cell_type": "code",
      "metadata": {
        "colab": {
          "base_uri": "https://localhost:8080/",
          "height": 1000
        },
        "id": "aL0uxZfO0IqN",
        "outputId": "fe0c5721-0334-4bbf-fdf7-ee7b20c07220"
      },
      "source": [
        "plt.plot(np.arange(0,hyperparam.num_epochs,1),tr_accuracy_list)\n",
        "plt.xlabel(\"epochs\")\n",
        "plt.ylabel(\"train_accuracy\")\n",
        "plt.show()\n",
        "\n",
        "plt.plot(np.arange(0,hyperparam.num_epochs,1),dev_accuracy_list)\n",
        "plt.xlabel(\"epochs\")\n",
        "plt.ylabel(\"validation_accuracy\")\n",
        "plt.show()\n",
        "\n",
        "plt.plot(np.arange(0,hyperparam.num_epochs,1),tr_avgLoss_list)\n",
        "plt.xlabel(\"epochs\")\n",
        "plt.ylabel(\"train_errors\")\n",
        "plt.show()\n",
        "\n",
        "plt.plot(np.arange(0,hyperparam.num_epochs,1),dev_avgLoss_list)\n",
        "plt.xlabel(\"epochs\")\n",
        "plt.ylabel(\"validation_errors\")\n",
        "plt.show()"
      ],
      "execution_count": null,
      "outputs": [
        {
          "output_type": "display_data",
          "data": {
            "image/png": "[encoded data removed]",
            "text/plain": [
              "<Figure size 432x288 with 1 Axes>"
            ]
          },
          "metadata": {
            "tags": [],
            "needs_background": "light"
          }
        },
        {
          "output_type": "display_data",
          "data": {
            "image/png": "[encoded data removed]",
            "text/plain": [
              "<Figure size 432x288 with 1 Axes>"
            ]
          },
          "metadata": {
            "tags": [],
            "needs_background": "light"
          }
        },
        {
          "output_type": "display_data",
          "data": {
            "image/png": "[encoded data removed]",
            "text/plain": [
              "<Figure size 432x288 with 1 Axes>"
            ]
          },
          "metadata": {
            "tags": [],
            "needs_background": "light"
          }
        },
        {
          "output_type": "display_data",
          "data": {
            "image/png": "[encoded data removed]",
            "text/plain": [
              "<Figure size 432x288 with 1 Axes>"
            ]
          },
          "metadata": {
            "tags": [],
            "needs_background": "light"
          }
        }
      ]
    },
    {
      "cell_type": "markdown",
      "metadata": {
        "id": "tFarj0NXajzj"
      },
      "source": [
        "With a dropout of 0.25 there is not much difference to the baseline SGD model. The model converges after 20 epochs and the validation accuracy improves after that and it is pretty good."
      ]
    },
    {
      "cell_type": "markdown",
      "metadata": {
        "id": "71dO3qVen0F_"
      },
      "source": [
        "###Test Set\n"
      ]
    },
    {
      "cell_type": "code",
      "metadata": {
        "id": "Ac1n9AKdVXcz"
      },
      "source": [
        " def make_predictions(data_loader):\n",
        "    conv_model.eval()\n",
        "    test_preds = torch.LongTensor()\n",
        "    \n",
        "    for i, data in enumerate(data_loader):\n",
        "        data = data.unsqueeze(1)\n",
        "        \n",
        "        if torch.cuda.is_available():\n",
        "            data = data.cuda()\n",
        "            \n",
        "        output = conv_model(data.float()) #convert to float here as well\n",
        "        \n",
        "        preds = output.cpu().data.max(1, keepdim=True)[1]\n",
        "        test_preds = torch.cat((test_preds, preds), dim=0)\n",
        "        \n",
        "    return test_preds"
      ],
      "execution_count": null,
      "outputs": []
    },
    {
      "cell_type": "code",
      "metadata": {
        "colab": {
          "base_uri": "https://localhost:8080/"
        },
        "id": "jCP57qwFXSFc",
        "outputId": "70496a57-3e1a-47f2-aa84-aecebfdd2315"
      },
      "source": [
        "test_set_preds = make_predictions(test_loader)"
      ],
      "execution_count": null,
      "outputs": [
        {
          "output_type": "stream",
          "text": [
            "/usr/local/lib/python3.7/dist-packages/torch/utils/data/dataloader.py:477: UserWarning: This DataLoader will create 6 worker processes in total. Our suggested max number of worker in current system is 2, which is smaller than what this DataLoader is going to create. Please be aware that excessive worker creation might get DataLoader running slow or even freeze, lower the worker number to avoid potential slowness/freeze if necessary.\n",
            "  cpuset_checked))\n"
          ],
          "name": "stderr"
        }
      ]
    },
    {
      "cell_type": "markdown",
      "metadata": {
        "id": "dw7xEGe5n3uQ"
      },
      "source": [
        "Predicted Labels"
      ]
    },
    {
      "cell_type": "code",
      "metadata": {
        "colab": {
          "base_uri": "https://localhost:8080/",
          "height": 202
        },
        "id": "U39xRp07XXIM",
        "outputId": "6760bd3f-18a7-4d58-ccfc-437966b17406"
      },
      "source": [
        "submission_df=pd.DataFrame()\n",
        "submission_df[\"label\"]=test_set_preds.numpy().squeeze()\n",
        "submission_df.head()"
      ],
      "execution_count": null,
      "outputs": [
        {
          "output_type": "execute_result",
          "data": {
            "text/html": [
              "<div>\n",
              "<style scoped>\n",
              "    .dataframe tbody tr th:only-of-type {\n",
              "        vertical-align: middle;\n",
              "    }\n",
              "\n",
              "    .dataframe tbody tr th {\n",
              "        vertical-align: top;\n",
              "    }\n",
              "\n",
              "    .dataframe thead th {\n",
              "        text-align: right;\n",
              "    }\n",
              "</style>\n",
              "<table border=\"1\" class=\"dataframe\">\n",
              "  <thead>\n",
              "    <tr style=\"text-align: right;\">\n",
              "      <th></th>\n",
              "      <th>label</th>\n",
              "    </tr>\n",
              "  </thead>\n",
              "  <tbody>\n",
              "    <tr>\n",
              "      <th>0</th>\n",
              "      <td>7</td>\n",
              "    </tr>\n",
              "    <tr>\n",
              "      <th>1</th>\n",
              "      <td>2</td>\n",
              "    </tr>\n",
              "    <tr>\n",
              "      <th>2</th>\n",
              "      <td>1</td>\n",
              "    </tr>\n",
              "    <tr>\n",
              "      <th>3</th>\n",
              "      <td>0</td>\n",
              "    </tr>\n",
              "    <tr>\n",
              "      <th>4</th>\n",
              "      <td>4</td>\n",
              "    </tr>\n",
              "  </tbody>\n",
              "</table>\n",
              "</div>"
            ],
            "text/plain": [
              "   label\n",
              "0      7\n",
              "1      2\n",
              "2      1\n",
              "3      0\n",
              "4      4"
            ]
          },
          "metadata": {
            "tags": []
          },
          "execution_count": 18
        }
      ]
    },
    {
      "cell_type": "markdown",
      "metadata": {
        "id": "ppvoDxbIn7zd"
      },
      "source": [
        "###Test Accuracy and the Confusion Matrix on the test Set\n"
      ]
    },
    {
      "cell_type": "code",
      "metadata": {
        "colab": {
          "base_uri": "https://localhost:8080/"
        },
        "id": "LobbPXi1XjSY",
        "outputId": "45b7b108-b4cf-4871-cdbb-510222b75907"
      },
      "source": [
        "from sklearn.metrics import confusion_matrix\n",
        "from sklearn.metrics import accuracy_score\n",
        "\n",
        "y_true = mnist[\"target\"][60000:].astype(int)\n",
        "y_pred = np.array(submission_df[\"label\"])\n",
        "accuracy=accuracy_score(y_true,y_pred)\n",
        "confusion_matrix=confusion_matrix(y_true, y_pred)\n",
        "print(\"Test Accuracy - \",accuracy*100,\"%\")\n",
        "print(\" \\nConfusion Matrix- \")\n",
        "print(confusion_matrix)"
      ],
      "execution_count": null,
      "outputs": [
        {
          "output_type": "stream",
          "text": [
            "Test Accuracy -  99.14 %\n",
            " \n",
            "Confusion Matrix- \n",
            "[[ 974    1    1    0    0    0    3    1    0    0]\n",
            " [   0 1132    0    1    0    1    1    0    0    0]\n",
            " [   1    0 1023    0    0    0    0    6    2    0]\n",
            " [   0    0    1 1006    0    1    0    0    2    0]\n",
            " [   0    0    1    0  972    0    4    1    1    3]\n",
            " [   0    0    0    5    0  883    2    1    1    0]\n",
            " [   5    2    0    0    1    1  947    1    1    0]\n",
            " [   0    2    3    0    0    0    0 1021    1    1]\n",
            " [   1    0    1    1    1    1    0    1  966    2]\n",
            " [   1    2    0    1    7    3    0    3    2  990]]\n"
          ],
          "name": "stdout"
        }
      ]
    },
    {
      "cell_type": "markdown",
      "metadata": {
        "id": "pjB5nO_1dJZK"
      },
      "source": [
        "The baseline SGD model with dropout 0.25 has a test accuracy of 99.14% which is slighlty higher than the baseline SGD model."
      ]
    },
    {
      "cell_type": "markdown",
      "metadata": {
        "id": "G6UBXMKijbSs"
      },
      "source": [
        "##Define the CNN Model\n",
        "\n",
        "####dropout-0.5"
      ]
    },
    {
      "cell_type": "markdown",
      "metadata": {
        "id": "AmIW-XU51i5A"
      },
      "source": [
        "Dropout of 0.50 added to the CNN Model."
      ]
    },
    {
      "cell_type": "code",
      "metadata": {
        "id": "sYlLKsrbjTun"
      },
      "source": [
        "class Net(nn.Module):\n",
        "    def __init__(self):\n",
        "        super(Net, self).__init__()\n",
        "        \n",
        "        self.conv_block = nn.Sequential(\n",
        "            nn.Conv2d(1, 32, kernel_size=3, stride=1, padding=1),\n",
        "            nn.ReLU(inplace=True),\n",
        "            nn.Conv2d(32, 64, kernel_size=3, stride=1, padding=1),\n",
        "            nn.ReLU(inplace=True),\n",
        "            nn.MaxPool2d(kernel_size=2, stride=2),\n",
        "            nn.Conv2d(64, 128, kernel_size=3, stride=1, padding=1),\n",
        "            nn.ReLU(inplace=True),\n",
        "            nn.MaxPool2d(kernel_size=2, stride=2) \n",
        "        )\n",
        "        self.linear_block = nn.Sequential(\n",
        "            nn.Linear(128*7*7, 128),\n",
        "            nn.BatchNorm1d(128),\n",
        "            nn.ReLU(inplace=True),\n",
        "            nn.Dropout(0.50), #dropout of 0.5 value added\n",
        "            nn.Linear(128, 64),\n",
        "            nn.BatchNorm1d(64),\n",
        "            nn.ReLU(inplace=True),\n",
        "            nn.Dropout(0.50), #dropout of 0.5 value added\n",
        "            nn.Linear(64, 10)\n",
        "        )\n",
        "    def forward(self, x):\n",
        "        x = self.conv_block(x)\n",
        "        x = x.view(x.size(0), -1)\n",
        "        x = self.linear_block(x)\n",
        "        \n",
        "        return x"
      ],
      "execution_count": null,
      "outputs": []
    },
    {
      "cell_type": "markdown",
      "metadata": {
        "id": "k7g0kYrbjTuy"
      },
      "source": [
        "Glorat Initialisation "
      ]
    },
    {
      "cell_type": "code",
      "metadata": {
        "id": "vWztpsIjjTuz"
      },
      "source": [
        "def init_weights(m): \n",
        "  if type(m) == nn.Linear:\n",
        "    torch.nn.init.xavier_normal_(m.weight)"
      ],
      "execution_count": null,
      "outputs": []
    },
    {
      "cell_type": "code",
      "metadata": {
        "colab": {
          "base_uri": "https://localhost:8080/"
        },
        "id": "fPx23TWQjTuz",
        "outputId": "d51c4590-5f32-419e-ab48-ae4e1f8a7867"
      },
      "source": [
        "conv_model = Net()\n",
        "conv_model.apply(init_weights) #Initialising the weights using the glorat Initialisation method\n",
        "conv_model "
      ],
      "execution_count": null,
      "outputs": [
        {
          "output_type": "execute_result",
          "data": {
            "text/plain": [
              "Net(\n",
              "  (conv_block): Sequential(\n",
              "    (0): Conv2d(1, 32, kernel_size=(3, 3), stride=(1, 1), padding=(1, 1))\n",
              "    (1): ReLU(inplace=True)\n",
              "    (2): Conv2d(32, 64, kernel_size=(3, 3), stride=(1, 1), padding=(1, 1))\n",
              "    (3): ReLU(inplace=True)\n",
              "    (4): MaxPool2d(kernel_size=2, stride=2, padding=0, dilation=1, ceil_mode=False)\n",
              "    (5): Conv2d(64, 128, kernel_size=(3, 3), stride=(1, 1), padding=(1, 1))\n",
              "    (6): ReLU(inplace=True)\n",
              "    (7): MaxPool2d(kernel_size=2, stride=2, padding=0, dilation=1, ceil_mode=False)\n",
              "  )\n",
              "  (linear_block): Sequential(\n",
              "    (0): Linear(in_features=6272, out_features=128, bias=True)\n",
              "    (1): BatchNorm1d(128, eps=1e-05, momentum=0.1, affine=True, track_running_stats=True)\n",
              "    (2): ReLU(inplace=True)\n",
              "    (3): Dropout(p=0.5, inplace=False)\n",
              "    (4): Linear(in_features=128, out_features=64, bias=True)\n",
              "    (5): BatchNorm1d(64, eps=1e-05, momentum=0.1, affine=True, track_running_stats=True)\n",
              "    (6): ReLU(inplace=True)\n",
              "    (7): Dropout(p=0.5, inplace=False)\n",
              "    (8): Linear(in_features=64, out_features=10, bias=True)\n",
              "  )\n",
              ")"
            ]
          },
          "metadata": {
            "tags": []
          },
          "execution_count": 12
        }
      ]
    },
    {
      "cell_type": "markdown",
      "metadata": {
        "id": "D0qAPyUyjTu0"
      },
      "source": [
        "###Defining the optimizer and loss functions\n",
        "\n",
        "SGD Optimiser - \n",
        "params:- learning rate-0.05,momentum-0.9 \n",
        "and using the Cross Entropy Loss Function\n",
        "\n",
        "Learning Rate Schedular adjusting 10% every 10 epochs\n",
        "\n",
        "torch.cuda to check if any gpu is available to use it. Google Collab GPU was used here to run the files."
      ]
    },
    {
      "cell_type": "code",
      "metadata": {
        "colab": {
          "base_uri": "https://localhost:8080/"
        },
        "id": "HiOhZ5I_jTu0",
        "outputId": "c7bd6a80-d3cc-45a1-be1c-db4e85bc6e28"
      },
      "source": [
        "optimizer = torch.optim.SGD(params=conv_model.parameters(), lr=hyperparam.lr, momentum=hyperparam.moment)\n",
        "exp_lr_scheduler = StepLR(optimizer, step_size=10, gamma=0.10) #learning rate scheduler\n",
        "criterion = nn.CrossEntropyLoss() #cross entropy loss to calculate the loss between the predicted and the actual\n",
        "if torch.cuda.is_available(): # To check if any gpu is available to run on\n",
        "    print(\"GPU available\")\n",
        "    conv_model = conv_model.cuda()\n",
        "    criterion = criterion.cuda()"
      ],
      "execution_count": null,
      "outputs": [
        {
          "output_type": "stream",
          "text": [
            "GPU available\n"
          ],
          "name": "stdout"
        }
      ]
    },
    {
      "cell_type": "markdown",
      "metadata": {
        "id": "rhoVqM5PjTu2"
      },
      "source": [
        "###Training the Model"
      ]
    },
    {
      "cell_type": "code",
      "metadata": {
        "colab": {
          "base_uri": "https://localhost:8080/"
        },
        "id": "E3f35w82jTu2",
        "outputId": "90e34267-c082-40a3-ffcf-eba2520e4999"
      },
      "source": [
        "#Train the DNN\n",
        "tr_avgLoss_list = []\n",
        "tr_accuracy_list =[]\n",
        "dev_avgLoss_list = []\n",
        "dev_accuracy_list = []\n",
        "\n",
        "#loop over epochs\n",
        "for epoch in range(hyperparam.num_epochs):\n",
        "    tr_num_correct = 0\n",
        "    tr_num_samples = 0\n",
        "    tr_total_loss = 0.0\n",
        "    dev_num_correct = 0\n",
        "    dev_num_samples = 0\n",
        "    dev_total_loss = 0.0\n",
        "    \n",
        "    #Training\n",
        "    conv_model.train(True) \n",
        "    exp_lr_scheduler.step() #to decrease the lr by 10% every 10 epochs because as you move towards the minima the steps size needs to decrease so it doesnt jump over the minima\n",
        "\n",
        "    with torch.set_grad_enabled(True):\n",
        "        for local_batch, local_labels in train_loader:\n",
        "            local_batch=local_batch.unsqueeze(1)\n",
        "            \n",
        "            if torch.cuda.is_available():\n",
        "              local_batch = local_batch.cuda()\n",
        "              local_labels = local_labels.cuda()\n",
        "            \n",
        "            optimizer.zero_grad()\n",
        "            \n",
        "            \n",
        "            local_batch = local_batch.float()\n",
        "            local_labels = local_labels.float()\n",
        "            \n",
        "            #Model computations\n",
        "            out1 = conv_model(local_batch)\n",
        "            \n",
        "            #Cross Entropy loss calculation\n",
        "            ploss = criterion(out1, local_labels.long())\n",
        "            tr_total_loss += ploss*hyperparam.bs\n",
        "            \n",
        "            #Backpropogation\n",
        "            ploss.backward() #gradient calculation\n",
        "            optimizer.step() #weight update\n",
        "            \n",
        "            sel_class = torch.argmax(out1, dim=1) #chooses the maximum value of the softmax layer\n",
        "            \n",
        "            tr_num_correct += sel_class.eq(local_labels).sum().item()\n",
        "            tr_num_samples += hyperparam.bs\n",
        "        \n",
        "        tr_avgLoss = tr_total_loss/len(train_loader.dataset)\n",
        "        tr_avgLoss_list.append(tr_avgLoss)\n",
        "        \n",
        "        tr_accuracy = tr_num_correct/tr_num_samples\n",
        "        tr_accuracy_list.append(tr_accuracy)\n",
        "\n",
        "    #validation \n",
        "    with torch.set_grad_enabled(False):\n",
        "      conv_model.eval()\n",
        "\n",
        "      for local_batch,local_labels in val_loader:\n",
        "        local_batch=local_batch.unsqueeze(1)\n",
        "\n",
        "        local_batch=local_batch.float()\n",
        "        local_labels=local_labels.float()\n",
        "        \n",
        "        if torch.cuda.is_available():\n",
        "            local_batch = local_batch.cuda()\n",
        "            local_labels = local_labels.cuda()\n",
        "        #Model computations2\n",
        "        out1=conv_model(local_batch)\n",
        "\n",
        "        #CrossEntropy loss calculation\n",
        "        pLoss=criterion(out1,local_labels.long())\n",
        "        dev_total_loss +=ploss*hyperparam.bs\n",
        "        sel_class=torch.argmax(out1,dim=1)\n",
        "\n",
        "        dev_num_correct+=sel_class.eq(local_labels).sum().item()\n",
        "\n",
        "        dev_num_samples+=hyperparam.bs\n",
        "\n",
        "      dev_avgLoss=dev_total_loss/len(val_loader.dataset)\n",
        "      dev_avgLoss_list.append(dev_avgLoss)\n",
        "\n",
        "      dev_accuracy=dev_num_correct/dev_num_samples\n",
        "      dev_accuracy_list.append(dev_accuracy)\n",
        "    print(\"Accuracy for \",epoch,\" epoch -\",\"train_accuracy-\",tr_accuracy,\" Validation_accuracy- \",dev_accuracy)\n",
        "\n"
      ],
      "execution_count": null,
      "outputs": [
        {
          "output_type": "stream",
          "text": [
            "/usr/local/lib/python3.7/dist-packages/torch/optim/lr_scheduler.py:134: UserWarning: Detected call of `lr_scheduler.step()` before `optimizer.step()`. In PyTorch 1.1.0 and later, you should call them in the opposite order: `optimizer.step()` before `lr_scheduler.step()`.  Failure to do this will result in PyTorch skipping the first value of the learning rate schedule. See more details at https://pytorch.org/docs/stable/optim.html#how-to-adjust-learning-rate\n",
            "  \"https://pytorch.org/docs/stable/optim.html#how-to-adjust-learning-rate\", UserWarning)\n",
            "/usr/local/lib/python3.7/dist-packages/torch/utils/data/dataloader.py:477: UserWarning: This DataLoader will create 6 worker processes in total. Our suggested max number of worker in current system is 2, which is smaller than what this DataLoader is going to create. Please be aware that excessive worker creation might get DataLoader running slow or even freeze, lower the worker number to avoid potential slowness/freeze if necessary.\n",
            "  cpuset_checked))\n"
          ],
          "name": "stderr"
        },
        {
          "output_type": "stream",
          "text": [
            "Accuracy for  0  epoch - train_accuracy- 0.7853333333333333  Validation_accuracy-  0.3433333333333333\n",
            "Accuracy for  1  epoch - train_accuracy- 0.8857592592592592  Validation_accuracy-  0.2841666666666667\n",
            "Accuracy for  2  epoch - train_accuracy- 0.9145185185185185  Validation_accuracy-  0.49\n",
            "Accuracy for  3  epoch - train_accuracy- 0.9309444444444445  Validation_accuracy-  0.2901666666666667\n",
            "Accuracy for  4  epoch - train_accuracy- 0.9382962962962963  Validation_accuracy-  0.14966666666666667\n",
            "Accuracy for  5  epoch - train_accuracy- 0.9461111111111111  Validation_accuracy-  0.43383333333333335\n",
            "Accuracy for  6  epoch - train_accuracy- 0.9504259259259259  Validation_accuracy-  0.47433333333333333\n",
            "Accuracy for  7  epoch - train_accuracy- 0.9539814814814814  Validation_accuracy-  0.8298333333333333\n",
            "Accuracy for  8  epoch - train_accuracy- 0.9532592592592593  Validation_accuracy-  0.2415\n",
            "Accuracy for  9  epoch - train_accuracy- 0.9620555555555556  Validation_accuracy-  0.8968333333333334\n",
            "Accuracy for  10  epoch - train_accuracy- 0.9660740740740741  Validation_accuracy-  0.9826666666666667\n",
            "Accuracy for  11  epoch - train_accuracy- 0.9666296296296296  Validation_accuracy-  0.9743333333333334\n",
            "Accuracy for  12  epoch - train_accuracy- 0.9668703703703704  Validation_accuracy-  0.974\n",
            "Accuracy for  13  epoch - train_accuracy- 0.9681851851851851  Validation_accuracy-  0.9805\n",
            "Accuracy for  14  epoch - train_accuracy- 0.9682962962962963  Validation_accuracy-  0.9788333333333333\n",
            "Accuracy for  15  epoch - train_accuracy- 0.9679444444444445  Validation_accuracy-  0.9843333333333333\n",
            "Accuracy for  16  epoch - train_accuracy- 0.9695555555555555  Validation_accuracy-  0.9775\n",
            "Accuracy for  17  epoch - train_accuracy- 0.9698148148148148  Validation_accuracy-  0.9746666666666667\n",
            "Accuracy for  18  epoch - train_accuracy- 0.9691666666666666  Validation_accuracy-  0.9775\n",
            "Accuracy for  19  epoch - train_accuracy- 0.9707222222222223  Validation_accuracy-  0.9858333333333333\n",
            "Accuracy for  20  epoch - train_accuracy- 0.9690555555555556  Validation_accuracy-  0.9846666666666667\n",
            "Accuracy for  21  epoch - train_accuracy- 0.9703888888888889  Validation_accuracy-  0.9858333333333333\n",
            "Accuracy for  22  epoch - train_accuracy- 0.9704259259259259  Validation_accuracy-  0.9858333333333333\n",
            "Accuracy for  23  epoch - train_accuracy- 0.9716666666666667  Validation_accuracy-  0.9848333333333333\n",
            "Accuracy for  24  epoch - train_accuracy- 0.9712592592592593  Validation_accuracy-  0.9853333333333333\n",
            "Accuracy for  25  epoch - train_accuracy- 0.9702962962962963  Validation_accuracy-  0.9858333333333333\n",
            "Accuracy for  26  epoch - train_accuracy- 0.9704259259259259  Validation_accuracy-  0.9858333333333333\n",
            "Accuracy for  27  epoch - train_accuracy- 0.9721666666666666  Validation_accuracy-  0.985\n",
            "Accuracy for  28  epoch - train_accuracy- 0.9707777777777777  Validation_accuracy-  0.985\n",
            "Accuracy for  29  epoch - train_accuracy- 0.9706851851851852  Validation_accuracy-  0.9851666666666666\n",
            "Accuracy for  30  epoch - train_accuracy- 0.9715  Validation_accuracy-  0.9866666666666667\n",
            "Accuracy for  31  epoch - train_accuracy- 0.9705925925925926  Validation_accuracy-  0.9855\n",
            "Accuracy for  32  epoch - train_accuracy- 0.9709074074074074  Validation_accuracy-  0.9848333333333333\n",
            "Accuracy for  33  epoch - train_accuracy- 0.9715370370370371  Validation_accuracy-  0.9855\n",
            "Accuracy for  34  epoch - train_accuracy- 0.9712777777777778  Validation_accuracy-  0.985\n",
            "Accuracy for  35  epoch - train_accuracy- 0.9712592592592593  Validation_accuracy-  0.9853333333333333\n",
            "Accuracy for  36  epoch - train_accuracy- 0.9716666666666667  Validation_accuracy-  0.986\n",
            "Accuracy for  37  epoch - train_accuracy- 0.9710740740740741  Validation_accuracy-  0.9858333333333333\n",
            "Accuracy for  38  epoch - train_accuracy- 0.9708703703703704  Validation_accuracy-  0.9845\n",
            "Accuracy for  39  epoch - train_accuracy- 0.9723148148148149  Validation_accuracy-  0.9856666666666667\n",
            "Accuracy for  40  epoch - train_accuracy- 0.9715555555555555  Validation_accuracy-  0.9855\n",
            "Accuracy for  41  epoch - train_accuracy- 0.9721666666666666  Validation_accuracy-  0.9858333333333333\n",
            "Accuracy for  42  epoch - train_accuracy- 0.9720555555555556  Validation_accuracy-  0.986\n",
            "Accuracy for  43  epoch - train_accuracy- 0.9711296296296297  Validation_accuracy-  0.9861666666666666\n",
            "Accuracy for  44  epoch - train_accuracy- 0.9727222222222223  Validation_accuracy-  0.986\n",
            "Accuracy for  45  epoch - train_accuracy- 0.9710925925925926  Validation_accuracy-  0.9853333333333333\n",
            "Accuracy for  46  epoch - train_accuracy- 0.9712592592592593  Validation_accuracy-  0.9855\n",
            "Accuracy for  47  epoch - train_accuracy- 0.9721481481481481  Validation_accuracy-  0.9858333333333333\n",
            "Accuracy for  48  epoch - train_accuracy- 0.9708703703703704  Validation_accuracy-  0.9855\n",
            "Accuracy for  49  epoch - train_accuracy- 0.9708333333333333  Validation_accuracy-  0.9851666666666666\n"
          ],
          "name": "stdout"
        }
      ]
    },
    {
      "cell_type": "markdown",
      "metadata": {
        "id": "TEXTB31qjTu3"
      },
      "source": [
        "###Plotting the Learning Curves - for the Test and the Validation Sets"
      ]
    },
    {
      "cell_type": "code",
      "metadata": {
        "colab": {
          "base_uri": "https://localhost:8080/",
          "height": 1000
        },
        "id": "fzceQfedjTu3",
        "outputId": "07b548ab-610b-4b6d-b510-438aa30a50bd"
      },
      "source": [
        "plt.plot(np.arange(0,hyperparam.num_epochs,1),tr_accuracy_list)\n",
        "plt.xlabel(\"epochs\")\n",
        "plt.ylabel(\"train_accuracy\")\n",
        "plt.show()\n",
        "\n",
        "plt.plot(np.arange(0,hyperparam.num_epochs,1),dev_accuracy_list)\n",
        "plt.xlabel(\"epochs\")\n",
        "plt.ylabel(\"validation_accuracy\")\n",
        "plt.show()\n",
        "\n",
        "plt.plot(np.arange(0,hyperparam.num_epochs,1),tr_avgLoss_list)\n",
        "plt.xlabel(\"epochs\")\n",
        "plt.ylabel(\"train_errors\")\n",
        "plt.show()\n",
        "\n",
        "plt.plot(np.arange(0,hyperparam.num_epochs,1),dev_avgLoss_list)\n",
        "plt.xlabel(\"epochs\")\n",
        "plt.ylabel(\"validation_errors\")\n",
        "plt.show()"
      ],
      "execution_count": null,
      "outputs": [
        {
          "output_type": "display_data",
          "data": {
            "image/png": "[encoded data removed]",
            "text/plain": [
              "<Figure size 432x288 with 1 Axes>"
            ]
          },
          "metadata": {
            "tags": [],
            "needs_background": "light"
          }
        },
        {
          "output_type": "display_data",
          "data": {
            "image/png": "[encoded data removed]",
            "text/plain": [
              "<Figure size 432x288 with 1 Axes>"
            ]
          },
          "metadata": {
            "tags": [],
            "needs_background": "light"
          }
        },
        {
          "output_type": "display_data",
          "data": {
            "image/png": "[encoded data removed]",
            "text/plain": [
              "<Figure size 432x288 with 1 Axes>"
            ]
          },
          "metadata": {
            "tags": [],
            "needs_background": "light"
          }
        },
        {
          "output_type": "display_data",
          "data": {
            "image/png": "[encoded data removed]",
            "text/plain": [
              "<Figure size 432x288 with 1 Axes>"
            ]
          },
          "metadata": {
            "tags": [],
            "needs_background": "light"
          }
        }
      ]
    },
    {
      "cell_type": "markdown",
      "metadata": {
        "id": "W3U9sMxujTu3"
      },
      "source": [
        "With dropout of 0.50 the train accuracy is good from the beggining . The validation accuracy imporves after 10 epochs as the learning rate reduces over time due to the learning rate scheduling and the model accuracy improves quicker when compared to the dropouts of 0.25 and 0.75"
      ]
    },
    {
      "cell_type": "markdown",
      "metadata": {
        "id": "jkrGyUgijTu4"
      },
      "source": [
        "###Test Set\n"
      ]
    },
    {
      "cell_type": "code",
      "metadata": {
        "id": "5T6e-X5ujTu4"
      },
      "source": [
        " def make_predictions(data_loader):\n",
        "    conv_model.eval()\n",
        "    test_preds = torch.LongTensor()\n",
        "    \n",
        "    for i, data in enumerate(data_loader):\n",
        "        data = data.unsqueeze(1)\n",
        "        \n",
        "        if torch.cuda.is_available():\n",
        "            data = data.cuda()\n",
        "            \n",
        "        output = conv_model(data.float()) #convert to float here as well\n",
        "        \n",
        "        preds = output.cpu().data.max(1, keepdim=True)[1]\n",
        "        test_preds = torch.cat((test_preds, preds), dim=0)\n",
        "        \n",
        "    return test_preds"
      ],
      "execution_count": null,
      "outputs": []
    },
    {
      "cell_type": "code",
      "metadata": {
        "colab": {
          "base_uri": "https://localhost:8080/"
        },
        "id": "kfnJvmeijTu4",
        "outputId": "7fdd469e-8f76-4cb3-b984-a181b0f08f08"
      },
      "source": [
        "test_set_preds = make_predictions(test_loader)"
      ],
      "execution_count": null,
      "outputs": [
        {
          "output_type": "stream",
          "text": [
            "/usr/local/lib/python3.7/dist-packages/torch/utils/data/dataloader.py:477: UserWarning: This DataLoader will create 6 worker processes in total. Our suggested max number of worker in current system is 2, which is smaller than what this DataLoader is going to create. Please be aware that excessive worker creation might get DataLoader running slow or even freeze, lower the worker number to avoid potential slowness/freeze if necessary.\n",
            "  cpuset_checked))\n"
          ],
          "name": "stderr"
        }
      ]
    },
    {
      "cell_type": "markdown",
      "metadata": {
        "id": "5Z71K5l1jTu5"
      },
      "source": [
        "Predicted Labels"
      ]
    },
    {
      "cell_type": "code",
      "metadata": {
        "colab": {
          "base_uri": "https://localhost:8080/",
          "height": 202
        },
        "id": "LRRsSbqzjTu5",
        "outputId": "392c7d0a-328c-4fbd-8ab8-80310e6a5e6a"
      },
      "source": [
        "submission_df=pd.DataFrame()\n",
        "submission_df[\"label\"]=test_set_preds.numpy().squeeze()\n",
        "submission_df.head()"
      ],
      "execution_count": null,
      "outputs": [
        {
          "output_type": "execute_result",
          "data": {
            "text/html": [
              "<div>\n",
              "<style scoped>\n",
              "    .dataframe tbody tr th:only-of-type {\n",
              "        vertical-align: middle;\n",
              "    }\n",
              "\n",
              "    .dataframe tbody tr th {\n",
              "        vertical-align: top;\n",
              "    }\n",
              "\n",
              "    .dataframe thead th {\n",
              "        text-align: right;\n",
              "    }\n",
              "</style>\n",
              "<table border=\"1\" class=\"dataframe\">\n",
              "  <thead>\n",
              "    <tr style=\"text-align: right;\">\n",
              "      <th></th>\n",
              "      <th>label</th>\n",
              "    </tr>\n",
              "  </thead>\n",
              "  <tbody>\n",
              "    <tr>\n",
              "      <th>0</th>\n",
              "      <td>7</td>\n",
              "    </tr>\n",
              "    <tr>\n",
              "      <th>1</th>\n",
              "      <td>2</td>\n",
              "    </tr>\n",
              "    <tr>\n",
              "      <th>2</th>\n",
              "      <td>1</td>\n",
              "    </tr>\n",
              "    <tr>\n",
              "      <th>3</th>\n",
              "      <td>0</td>\n",
              "    </tr>\n",
              "    <tr>\n",
              "      <th>4</th>\n",
              "      <td>4</td>\n",
              "    </tr>\n",
              "  </tbody>\n",
              "</table>\n",
              "</div>"
            ],
            "text/plain": [
              "   label\n",
              "0      7\n",
              "1      2\n",
              "2      1\n",
              "3      0\n",
              "4      4"
            ]
          },
          "metadata": {
            "tags": []
          },
          "execution_count": 18
        }
      ]
    },
    {
      "cell_type": "markdown",
      "metadata": {
        "id": "fKaxhFlxjTu5"
      },
      "source": [
        "###Test Accuracy and the Confusion Matrix on the test Set\n"
      ]
    },
    {
      "cell_type": "code",
      "metadata": {
        "colab": {
          "base_uri": "https://localhost:8080/"
        },
        "id": "vHaNFsayjTu5",
        "outputId": "01813c9f-a9c7-40d3-bce4-847b704a9b9e"
      },
      "source": [
        "from sklearn.metrics import confusion_matrix\n",
        "from sklearn.metrics import accuracy_score\n",
        "\n",
        "y_true = mnist[\"target\"][60000:].astype(int)\n",
        "y_pred = np.array(submission_df[\"label\"])\n",
        "accuracy=accuracy_score(y_true,y_pred)\n",
        "confusion_matrix=confusion_matrix(y_true, y_pred)\n",
        "print(\"Test Accuracy - \",accuracy*100,\"%\")\n",
        "print(\" \\nConfusion Matrix- \")\n",
        "print(confusion_matrix)"
      ],
      "execution_count": null,
      "outputs": [
        {
          "output_type": "stream",
          "text": [
            "Test Accuracy -  98.71 %\n",
            " \n",
            "Confusion Matrix- \n",
            "[[ 973    0    0    1    0    1    3    1    1    0]\n",
            " [   0 1127    1    2    0    3    1    1    0    0]\n",
            " [   2    3 1022    0    1    0    0    3    0    1]\n",
            " [   1    0    0 1000    0    2    0    6    1    0]\n",
            " [   0    0    1    0  972    0    4    0    1    4]\n",
            " [   2    0    0    2    0  884    2    1    1    0]\n",
            " [   6    1    0    0    4    3  944    0    0    0]\n",
            " [   0    4    8    1    0    1    0 1010    1    3]\n",
            " [   4    1    1    2    1    1    0    2  960    2]\n",
            " [   3    4    0    2    6    5    0    4    6  979]]\n"
          ],
          "name": "stdout"
        }
      ]
    },
    {
      "cell_type": "markdown",
      "metadata": {
        "id": "TwQIUJE1jTu5"
      },
      "source": [
        "The baseline SGD model with batch normalisation has a test accuracy of \n",
        "98.71% which is slighlty lower than the baseline SGD model with dropout\n",
        "0.25%."
      ]
    },
    {
      "cell_type": "markdown",
      "metadata": {
        "id": "0aHrW67u2PQm"
      },
      "source": [
        "##Define the CNN Model\n",
        "####dropout-0.75"
      ]
    },
    {
      "cell_type": "markdown",
      "metadata": {
        "id": "TteQd-p42Rcq"
      },
      "source": [
        "Dropout of 0.75 added to the CNN Model"
      ]
    },
    {
      "cell_type": "code",
      "metadata": {
        "id": "bn7eFDZajVQu"
      },
      "source": [
        "class Net(nn.Module):\n",
        "    def __init__(self):\n",
        "        super(Net, self).__init__()\n",
        "        \n",
        "        self.conv_block = nn.Sequential(\n",
        "            nn.Conv2d(1, 32, kernel_size=3, stride=1, padding=1),\n",
        "            nn.ReLU(inplace=True),\n",
        "            nn.Conv2d(32, 64, kernel_size=3, stride=1, padding=1),\n",
        "            nn.ReLU(inplace=True),\n",
        "            nn.MaxPool2d(kernel_size=2, stride=2),\n",
        "            nn.Conv2d(64, 128, kernel_size=3, stride=1, padding=1),\n",
        "            nn.ReLU(inplace=True),\n",
        "            nn.MaxPool2d(kernel_size=2, stride=2) \n",
        "        )\n",
        "        self.linear_block = nn.Sequential(\n",
        "            nn.Linear(128*7*7, 128),\n",
        "            nn.BatchNorm1d(128),\n",
        "            nn.ReLU(inplace=True),\n",
        "            nn.Dropout(0.75), #dropout of 0.75 added\n",
        "            nn.Linear(128, 64),\n",
        "            nn.BatchNorm1d(64),\n",
        "            nn.ReLU(inplace=True),\n",
        "            nn.Dropout(0.75), #dropout of 0.75 added\n",
        "            nn.Linear(64, 10)\n",
        "        )\n",
        "    def forward(self, x):\n",
        "        x = self.conv_block(x)\n",
        "        x = x.view(x.size(0), -1)\n",
        "        x = self.linear_block(x)\n",
        "        \n",
        "        return x"
      ],
      "execution_count": null,
      "outputs": []
    },
    {
      "cell_type": "markdown",
      "metadata": {
        "id": "Z2MGarb5jVQu"
      },
      "source": [
        "Glorat Initialisation "
      ]
    },
    {
      "cell_type": "code",
      "metadata": {
        "id": "g4QZP9RVjVQu"
      },
      "source": [
        "def init_weights(m): \n",
        "  if type(m) == nn.Linear:\n",
        "    torch.nn.init.xavier_normal_(m.weight)"
      ],
      "execution_count": null,
      "outputs": []
    },
    {
      "cell_type": "code",
      "metadata": {
        "colab": {
          "base_uri": "https://localhost:8080/"
        },
        "id": "JwT1gUR8jVQu",
        "outputId": "8a796637-45c0-4ab3-b1db-0e7c97b04de2"
      },
      "source": [
        "conv_model = Net()\n",
        "conv_model.apply(init_weights) #Initialising the weights using the glorat Initialisation method\n",
        "conv_model "
      ],
      "execution_count": null,
      "outputs": [
        {
          "output_type": "execute_result",
          "data": {
            "text/plain": [
              "Net(\n",
              "  (conv_block): Sequential(\n",
              "    (0): Conv2d(1, 32, kernel_size=(3, 3), stride=(1, 1), padding=(1, 1))\n",
              "    (1): ReLU(inplace=True)\n",
              "    (2): Conv2d(32, 64, kernel_size=(3, 3), stride=(1, 1), padding=(1, 1))\n",
              "    (3): ReLU(inplace=True)\n",
              "    (4): MaxPool2d(kernel_size=2, stride=2, padding=0, dilation=1, ceil_mode=False)\n",
              "    (5): Conv2d(64, 128, kernel_size=(3, 3), stride=(1, 1), padding=(1, 1))\n",
              "    (6): ReLU(inplace=True)\n",
              "    (7): MaxPool2d(kernel_size=2, stride=2, padding=0, dilation=1, ceil_mode=False)\n",
              "  )\n",
              "  (linear_block): Sequential(\n",
              "    (0): Linear(in_features=6272, out_features=128, bias=True)\n",
              "    (1): BatchNorm1d(128, eps=1e-05, momentum=0.1, affine=True, track_running_stats=True)\n",
              "    (2): ReLU(inplace=True)\n",
              "    (3): Dropout(p=0.75, inplace=False)\n",
              "    (4): Linear(in_features=128, out_features=64, bias=True)\n",
              "    (5): BatchNorm1d(64, eps=1e-05, momentum=0.1, affine=True, track_running_stats=True)\n",
              "    (6): ReLU(inplace=True)\n",
              "    (7): Dropout(p=0.75, inplace=False)\n",
              "    (8): Linear(in_features=64, out_features=10, bias=True)\n",
              "  )\n",
              ")"
            ]
          },
          "metadata": {
            "tags": []
          },
          "execution_count": 12
        }
      ]
    },
    {
      "cell_type": "markdown",
      "metadata": {
        "id": "fZhHtHEbjVQv"
      },
      "source": [
        "###Defining the optimizer and loss functions\n",
        "\n",
        "SGD Optimiser - \n",
        "params:- learning rate-0.05,momentum-0.9 \n",
        "and using the Cross Entropy Loss Function\n",
        "\n",
        "Learning Rate Schedular adjusting 10% every 10 epochs\n",
        "\n",
        "torch.cuda to check if any gpu is available to use it. Google Collab GPU was used here to run the files."
      ]
    },
    {
      "cell_type": "code",
      "metadata": {
        "colab": {
          "base_uri": "https://localhost:8080/"
        },
        "id": "n5cAZJbrjVQv",
        "outputId": "34d1719f-07fb-4084-8dee-a9087c727f5f"
      },
      "source": [
        "optimizer = torch.optim.SGD(params=conv_model.parameters(), lr=hyperparam.lr, momentum=hyperparam.moment)\n",
        "exp_lr_scheduler = StepLR(optimizer, step_size=10, gamma=0.10) #learning rate scheduler\n",
        "criterion = nn.CrossEntropyLoss() #cross entropy loss to calculate the loss between the predicted and the actual\n",
        "if torch.cuda.is_available(): # To check if any gpu is available to run on\n",
        "    print(\"GPU available\")\n",
        "    conv_model = conv_model.cuda()\n",
        "    criterion = criterion.cuda()"
      ],
      "execution_count": null,
      "outputs": [
        {
          "output_type": "stream",
          "text": [
            "GPU available\n"
          ],
          "name": "stdout"
        }
      ]
    },
    {
      "cell_type": "markdown",
      "metadata": {
        "id": "ycAIGnlTjVQv"
      },
      "source": [
        "###Training the Model"
      ]
    },
    {
      "cell_type": "code",
      "metadata": {
        "colab": {
          "base_uri": "https://localhost:8080/"
        },
        "id": "moIIE5D0jVQv",
        "outputId": "3b0ac3dc-4537-45cd-ec13-c92e756882ab"
      },
      "source": [
        "#Train the DNN\n",
        "tr_avgLoss_list = []\n",
        "tr_accuracy_list =[]\n",
        "dev_avgLoss_list = []\n",
        "dev_accuracy_list = []\n",
        "\n",
        "#loop over epochs\n",
        "for epoch in range(hyperparam.num_epochs):\n",
        "    tr_num_correct = 0\n",
        "    tr_num_samples = 0\n",
        "    tr_total_loss = 0.0\n",
        "    dev_num_correct = 0\n",
        "    dev_num_samples = 0\n",
        "    dev_total_loss = 0.0\n",
        "    \n",
        "    #Training\n",
        "    conv_model.train(True) \n",
        "    exp_lr_scheduler.step() #to decrease the lr by 10% every 10 epochs because as you move towards the minima the steps size needs to decrease so it doesnt jump over the minima\n",
        "\n",
        "    with torch.set_grad_enabled(True):\n",
        "        for local_batch, local_labels in train_loader:\n",
        "            local_batch=local_batch.unsqueeze(1)\n",
        "            \n",
        "            if torch.cuda.is_available():\n",
        "              local_batch = local_batch.cuda()\n",
        "              local_labels = local_labels.cuda()\n",
        "            \n",
        "            optimizer.zero_grad()\n",
        "            \n",
        "            \n",
        "            local_batch = local_batch.float()\n",
        "            local_labels = local_labels.float()\n",
        "            \n",
        "            #Model computations\n",
        "            out1 = conv_model(local_batch)\n",
        "            \n",
        "            #Cross Entropy loss calculation\n",
        "            ploss = criterion(out1, local_labels.long())\n",
        "            tr_total_loss += ploss*hyperparam.bs\n",
        "            \n",
        "            #Backpropogation\n",
        "            ploss.backward() #gradient calculation\n",
        "            optimizer.step() #weight update\n",
        "            \n",
        "            sel_class = torch.argmax(out1, dim=1) #chooses the maximum value of the softmax layer\n",
        "            \n",
        "            tr_num_correct += sel_class.eq(local_labels).sum().item()\n",
        "            tr_num_samples += hyperparam.bs\n",
        "        \n",
        "        tr_avgLoss = tr_total_loss/len(train_loader.dataset)\n",
        "        tr_avgLoss_list.append(tr_avgLoss)\n",
        "        \n",
        "        tr_accuracy = tr_num_correct/tr_num_samples\n",
        "        tr_accuracy_list.append(tr_accuracy)\n",
        "\n",
        "    #validation \n",
        "    with torch.set_grad_enabled(False):\n",
        "      conv_model.eval()\n",
        "\n",
        "      for local_batch,local_labels in val_loader:\n",
        "        local_batch=local_batch.unsqueeze(1)\n",
        "\n",
        "        local_batch=local_batch.float()\n",
        "        local_labels=local_labels.float()\n",
        "        \n",
        "        if torch.cuda.is_available():\n",
        "            local_batch = local_batch.cuda()\n",
        "            local_labels = local_labels.cuda()\n",
        "\n",
        "        #Model computations2\n",
        "        out1=conv_model(local_batch)\n",
        "\n",
        "        #CrossEntropy loss calculation\n",
        "        pLoss=criterion(out1,local_labels.long())\n",
        "        dev_total_loss +=ploss*hyperparam.bs\n",
        "        sel_class=torch.argmax(out1,dim=1)\n",
        "\n",
        "        dev_num_correct+=sel_class.eq(local_labels).sum().item()\n",
        "\n",
        "        dev_num_samples+=hyperparam.bs\n",
        "\n",
        "      dev_avgLoss=dev_total_loss/len(val_loader.dataset)\n",
        "      dev_avgLoss_list.append(dev_avgLoss)\n",
        "\n",
        "      dev_accuracy=dev_num_correct/dev_num_samples\n",
        "      dev_accuracy_list.append(dev_accuracy)\n",
        "    print(\"Accuracy for \",epoch,\" epoch -\",\"train_accuracy-\",tr_accuracy,\" Validation_accuracy- \",dev_accuracy)\n",
        "\n"
      ],
      "execution_count": null,
      "outputs": [
        {
          "output_type": "stream",
          "text": [
            "/usr/local/lib/python3.7/dist-packages/torch/optim/lr_scheduler.py:134: UserWarning: Detected call of `lr_scheduler.step()` before `optimizer.step()`. In PyTorch 1.1.0 and later, you should call them in the opposite order: `optimizer.step()` before `lr_scheduler.step()`.  Failure to do this will result in PyTorch skipping the first value of the learning rate schedule. See more details at https://pytorch.org/docs/stable/optim.html#how-to-adjust-learning-rate\n",
            "  \"https://pytorch.org/docs/stable/optim.html#how-to-adjust-learning-rate\", UserWarning)\n",
            "/usr/local/lib/python3.7/dist-packages/torch/utils/data/dataloader.py:477: UserWarning: This DataLoader will create 6 worker processes in total. Our suggested max number of worker in current system is 2, which is smaller than what this DataLoader is going to create. Please be aware that excessive worker creation might get DataLoader running slow or even freeze, lower the worker number to avoid potential slowness/freeze if necessary.\n",
            "  cpuset_checked))\n"
          ],
          "name": "stderr"
        },
        {
          "output_type": "stream",
          "text": [
            "Accuracy for  0  epoch - train_accuracy- 0.5477407407407408  Validation_accuracy-  0.1045\n",
            "Accuracy for  1  epoch - train_accuracy- 0.6852962962962963  Validation_accuracy-  0.1045\n",
            "Accuracy for  2  epoch - train_accuracy- 0.7227592592592592  Validation_accuracy-  0.0975\n",
            "Accuracy for  3  epoch - train_accuracy- 0.7508518518518519  Validation_accuracy-  0.09866666666666667\n",
            "Accuracy for  4  epoch - train_accuracy- 0.7694814814814814  Validation_accuracy-  0.0975\n",
            "Accuracy for  5  epoch - train_accuracy- 0.7882592592592592  Validation_accuracy-  0.20566666666666666\n",
            "Accuracy for  6  epoch - train_accuracy- 0.8017962962962963  Validation_accuracy-  0.11233333333333333\n",
            "Accuracy for  7  epoch - train_accuracy- 0.8126666666666666  Validation_accuracy-  0.19083333333333333\n",
            "Accuracy for  8  epoch - train_accuracy- 0.8266481481481481  Validation_accuracy-  0.09866666666666667\n",
            "Accuracy for  9  epoch - train_accuracy- 0.8497222222222223  Validation_accuracy-  0.16683333333333333\n",
            "Accuracy for  10  epoch - train_accuracy- 0.8556481481481482  Validation_accuracy-  0.11316666666666667\n",
            "Accuracy for  11  epoch - train_accuracy- 0.8593333333333333  Validation_accuracy-  0.49133333333333334\n",
            "Accuracy for  12  epoch - train_accuracy- 0.8610555555555556  Validation_accuracy-  0.39566666666666667\n",
            "Accuracy for  13  epoch - train_accuracy- 0.8632592592592593  Validation_accuracy-  0.6175\n",
            "Accuracy for  14  epoch - train_accuracy- 0.8619074074074075  Validation_accuracy-  0.1935\n",
            "Accuracy for  15  epoch - train_accuracy- 0.8666296296296296  Validation_accuracy-  0.44016666666666665\n",
            "Accuracy for  16  epoch - train_accuracy- 0.8685185185185185  Validation_accuracy-  0.3975\n",
            "Accuracy for  17  epoch - train_accuracy- 0.8672222222222222  Validation_accuracy-  0.6743333333333333\n",
            "Accuracy for  18  epoch - train_accuracy- 0.8653518518518518  Validation_accuracy-  0.6811666666666667\n",
            "Accuracy for  19  epoch - train_accuracy- 0.8694074074074074  Validation_accuracy-  0.9625\n",
            "Accuracy for  20  epoch - train_accuracy- 0.8693518518518518  Validation_accuracy-  0.9591666666666666\n",
            "Accuracy for  21  epoch - train_accuracy- 0.8717962962962963  Validation_accuracy-  0.8955\n",
            "Accuracy for  22  epoch - train_accuracy- 0.8715555555555555  Validation_accuracy-  0.926\n",
            "Accuracy for  23  epoch - train_accuracy- 0.8713888888888889  Validation_accuracy-  0.9533333333333334\n",
            "Accuracy for  24  epoch - train_accuracy- 0.8732777777777778  Validation_accuracy-  0.9476666666666667\n",
            "Accuracy for  25  epoch - train_accuracy- 0.8672777777777778  Validation_accuracy-  0.9195\n",
            "Accuracy for  26  epoch - train_accuracy- 0.8708703703703704  Validation_accuracy-  0.9588333333333333\n",
            "Accuracy for  27  epoch - train_accuracy- 0.8733148148148148  Validation_accuracy-  0.9495\n",
            "Accuracy for  28  epoch - train_accuracy- 0.8706851851851852  Validation_accuracy-  0.9628333333333333\n",
            "Accuracy for  29  epoch - train_accuracy- 0.8720740740740741  Validation_accuracy-  0.9636666666666667\n",
            "Accuracy for  30  epoch - train_accuracy- 0.8718333333333333  Validation_accuracy-  0.9635\n",
            "Accuracy for  31  epoch - train_accuracy- 0.8718703703703704  Validation_accuracy-  0.964\n",
            "Accuracy for  32  epoch - train_accuracy- 0.8731296296296296  Validation_accuracy-  0.963\n",
            "Accuracy for  33  epoch - train_accuracy- 0.8700925925925926  Validation_accuracy-  0.9625\n",
            "Accuracy for  34  epoch - train_accuracy- 0.8727777777777778  Validation_accuracy-  0.9636666666666667\n",
            "Accuracy for  35  epoch - train_accuracy- 0.8709444444444444  Validation_accuracy-  0.9626666666666667\n",
            "Accuracy for  36  epoch - train_accuracy- 0.8708518518518519  Validation_accuracy-  0.9598333333333333\n",
            "Accuracy for  37  epoch - train_accuracy- 0.8720740740740741  Validation_accuracy-  0.9631666666666666\n",
            "Accuracy for  38  epoch - train_accuracy- 0.8721666666666666  Validation_accuracy-  0.9638333333333333\n",
            "Accuracy for  39  epoch - train_accuracy- 0.8725185185185185  Validation_accuracy-  0.9631666666666666\n",
            "Accuracy for  40  epoch - train_accuracy- 0.872537037037037  Validation_accuracy-  0.9643333333333334\n",
            "Accuracy for  41  epoch - train_accuracy- 0.8707777777777778  Validation_accuracy-  0.9628333333333333\n",
            "Accuracy for  42  epoch - train_accuracy- 0.8742222222222222  Validation_accuracy-  0.9635\n",
            "Accuracy for  43  epoch - train_accuracy- 0.8743518518518518  Validation_accuracy-  0.9643333333333334\n",
            "Accuracy for  44  epoch - train_accuracy- 0.8724074074074074  Validation_accuracy-  0.9636666666666667\n",
            "Accuracy for  45  epoch - train_accuracy- 0.8720925925925926  Validation_accuracy-  0.9645\n",
            "Accuracy for  46  epoch - train_accuracy- 0.8738518518518519  Validation_accuracy-  0.9633333333333334\n",
            "Accuracy for  47  epoch - train_accuracy- 0.8718888888888889  Validation_accuracy-  0.9633333333333334\n",
            "Accuracy for  48  epoch - train_accuracy- 0.8698888888888889  Validation_accuracy-  0.965\n",
            "Accuracy for  49  epoch - train_accuracy- 0.871537037037037  Validation_accuracy-  0.9635\n"
          ],
          "name": "stdout"
        }
      ]
    },
    {
      "cell_type": "markdown",
      "metadata": {
        "id": "e5Xw3Tz3jVQw"
      },
      "source": [
        "###Plotting the Learning Curves - for the Test and the Validation Sets"
      ]
    },
    {
      "cell_type": "code",
      "metadata": {
        "colab": {
          "base_uri": "https://localhost:8080/",
          "height": 1000
        },
        "id": "Pcsfe1gXjVQw",
        "outputId": "25c8732d-e336-4189-c74c-516960f9c7df"
      },
      "source": [
        "plt.plot(np.arange(0,hyperparam.num_epochs,1),tr_accuracy_list)\n",
        "plt.xlabel(\"epochs\")\n",
        "plt.ylabel(\"train_accuracy\")\n",
        "plt.show()\n",
        "\n",
        "plt.plot(np.arange(0,hyperparam.num_epochs,1),dev_accuracy_list)\n",
        "plt.xlabel(\"epochs\")\n",
        "plt.ylabel(\"validation_accuracy\")\n",
        "plt.show()\n",
        "\n",
        "plt.plot(np.arange(0,hyperparam.num_epochs,1),tr_avgLoss_list)\n",
        "plt.xlabel(\"epochs\")\n",
        "plt.ylabel(\"train_errors\")\n",
        "plt.show()\n",
        "\n",
        "plt.plot(np.arange(0,hyperparam.num_epochs,1),dev_avgLoss_list)\n",
        "plt.xlabel(\"epochs\")\n",
        "plt.ylabel(\"validation_errors\")\n",
        "plt.show()"
      ],
      "execution_count": null,
      "outputs": [
        {
          "output_type": "display_data",
          "data": {
            "image/png": "[encoded data removed]",
            "text/plain": [
              "<Figure size 432x288 with 1 Axes>"
            ]
          },
          "metadata": {
            "tags": [],
            "needs_background": "light"
          }
        },
        {
          "output_type": "display_data",
          "data": {
            "image/png": "[encoded data removed]",
            "text/plain": [
              "<Figure size 432x288 with 1 Axes>"
            ]
          },
          "metadata": {
            "tags": [],
            "needs_background": "light"
          }
        },
        {
          "output_type": "display_data",
          "data": {
            "image/png": "[encoded data removed]",
            "text/plain": [
              "<Figure size 432x288 with 1 Axes>"
            ]
          },
          "metadata": {
            "tags": [],
            "needs_background": "light"
          }
        },
        {
          "output_type": "display_data",
          "data": {
            "image/png": "[encoded data removed]",
            "text/plain": [
              "<Figure size 432x288 with 1 Axes>"
            ]
          },
          "metadata": {
            "tags": [],
            "needs_background": "light"
          }
        }
      ]
    },
    {
      "cell_type": "markdown",
      "metadata": {
        "id": "kLiG_WjGjVQw"
      },
      "source": [
        "With dropout of 0.75 the train accuracy is low initially in the first few epochs after which it increases . The validation accuracy improves after 20 epochs as the learning rate reduces over time due to the learning rate scheduling."
      ]
    },
    {
      "cell_type": "markdown",
      "metadata": {
        "id": "1onGiutAjVQx"
      },
      "source": [
        "###Test Set\n"
      ]
    },
    {
      "cell_type": "code",
      "metadata": {
        "id": "4r5AoAJ7jVQx"
      },
      "source": [
        " def make_predictions(data_loader):\n",
        "    conv_model.eval()\n",
        "    test_preds = torch.LongTensor()\n",
        "    \n",
        "    for i, data in enumerate(data_loader):\n",
        "        data = data.unsqueeze(1)\n",
        "        \n",
        "        if torch.cuda.is_available():\n",
        "            data = data.cuda()\n",
        "            \n",
        "        output = conv_model(data.float()) #convert to float here as well\n",
        "        \n",
        "        preds = output.cpu().data.max(1, keepdim=True)[1]\n",
        "        test_preds = torch.cat((test_preds, preds), dim=0)\n",
        "        \n",
        "    return test_preds"
      ],
      "execution_count": null,
      "outputs": []
    },
    {
      "cell_type": "code",
      "metadata": {
        "colab": {
          "base_uri": "https://localhost:8080/"
        },
        "id": "uYzCCN-gjVQx",
        "outputId": "5b3d93ee-61f9-452d-f99e-00f4882fcdef"
      },
      "source": [
        "test_set_preds = make_predictions(test_loader)"
      ],
      "execution_count": null,
      "outputs": [
        {
          "output_type": "stream",
          "text": [
            "/usr/local/lib/python3.7/dist-packages/torch/utils/data/dataloader.py:477: UserWarning: This DataLoader will create 6 worker processes in total. Our suggested max number of worker in current system is 2, which is smaller than what this DataLoader is going to create. Please be aware that excessive worker creation might get DataLoader running slow or even freeze, lower the worker number to avoid potential slowness/freeze if necessary.\n",
            "  cpuset_checked))\n"
          ],
          "name": "stderr"
        }
      ]
    },
    {
      "cell_type": "markdown",
      "metadata": {
        "id": "b6A5-sMHjVQx"
      },
      "source": [
        "Predicted Labels"
      ]
    },
    {
      "cell_type": "code",
      "metadata": {
        "colab": {
          "base_uri": "https://localhost:8080/",
          "height": 202
        },
        "id": "ZBjRerZtjVQx",
        "outputId": "3d37c9d8-b528-4ffa-bee5-791a4e9b5170"
      },
      "source": [
        "submission_df=pd.DataFrame()\n",
        "submission_df[\"label\"]=test_set_preds.numpy().squeeze()\n",
        "submission_df.head()"
      ],
      "execution_count": null,
      "outputs": [
        {
          "output_type": "execute_result",
          "data": {
            "text/html": [
              "<div>\n",
              "<style scoped>\n",
              "    .dataframe tbody tr th:only-of-type {\n",
              "        vertical-align: middle;\n",
              "    }\n",
              "\n",
              "    .dataframe tbody tr th {\n",
              "        vertical-align: top;\n",
              "    }\n",
              "\n",
              "    .dataframe thead th {\n",
              "        text-align: right;\n",
              "    }\n",
              "</style>\n",
              "<table border=\"1\" class=\"dataframe\">\n",
              "  <thead>\n",
              "    <tr style=\"text-align: right;\">\n",
              "      <th></th>\n",
              "      <th>label</th>\n",
              "    </tr>\n",
              "  </thead>\n",
              "  <tbody>\n",
              "    <tr>\n",
              "      <th>0</th>\n",
              "      <td>7</td>\n",
              "    </tr>\n",
              "    <tr>\n",
              "      <th>1</th>\n",
              "      <td>2</td>\n",
              "    </tr>\n",
              "    <tr>\n",
              "      <th>2</th>\n",
              "      <td>1</td>\n",
              "    </tr>\n",
              "    <tr>\n",
              "      <th>3</th>\n",
              "      <td>0</td>\n",
              "    </tr>\n",
              "    <tr>\n",
              "      <th>4</th>\n",
              "      <td>4</td>\n",
              "    </tr>\n",
              "  </tbody>\n",
              "</table>\n",
              "</div>"
            ],
            "text/plain": [
              "   label\n",
              "0      7\n",
              "1      2\n",
              "2      1\n",
              "3      0\n",
              "4      4"
            ]
          },
          "metadata": {
            "tags": []
          },
          "execution_count": 18
        }
      ]
    },
    {
      "cell_type": "markdown",
      "metadata": {
        "id": "fK96oOVijVQx"
      },
      "source": [
        "###Test Accuracy and the Confusion Matrix on the test Set\n"
      ]
    },
    {
      "cell_type": "code",
      "metadata": {
        "colab": {
          "base_uri": "https://localhost:8080/"
        },
        "id": "GG85U-UujVQy",
        "outputId": "d5b8fbcb-9901-4f0d-fe26-7a7fcc2abfa6"
      },
      "source": [
        "from sklearn.metrics import confusion_matrix\n",
        "from sklearn.metrics import accuracy_score\n",
        "\n",
        "y_true = mnist[\"target\"][60000:].astype(int)\n",
        "y_pred = np.array(submission_df[\"label\"])\n",
        "accuracy=accuracy_score(y_true,y_pred)\n",
        "confusion_matrix=confusion_matrix(y_true, y_pred)\n",
        "print(\"Test Accuracy - \",accuracy*100,\"%\")\n",
        "print(\" \\nConfusion Matrix- \")\n",
        "print(confusion_matrix)"
      ],
      "execution_count": null,
      "outputs": [
        {
          "output_type": "stream",
          "text": [
            "Test Accuracy -  96.64 %\n",
            " \n",
            "Confusion Matrix- \n",
            "[[ 964    0    2    0    0    2    5    1    5    1]\n",
            " [   0 1121    4    1    0    0    5    1    3    0]\n",
            " [   3    5  981   17    2    0    4   10    8    2]\n",
            " [   0    0    5  976    0    5    0    5   17    2]\n",
            " [   0    0    1    0  951    0   12    0    2   16]\n",
            " [   2    1    2   13    0  858    4    1    8    3]\n",
            " [   5    4    1    0    6   11  930    0    1    0]\n",
            " [   1    8   12   10    0    0    0  982    0   15]\n",
            " [   8    0    2    4    5    2    1    4  935   13]\n",
            " [   3    3    1    6   13    1    0    7    9  966]]\n"
          ],
          "name": "stdout"
        }
      ]
    },
    {
      "cell_type": "markdown",
      "metadata": {
        "id": "3tJ5YQ1ejVQy"
      },
      "source": [
        "The baseline SGD model with dropout rate of 0.75 has a test accuracy of \n",
        "96.64 % which is lower than the baseline SGD model with dropout rates of \n",
        "0.25 and 0.50. "
      ]
    },
    {
      "cell_type": "markdown",
      "metadata": {
        "id": "l76rXo2sPzAc"
      },
      "source": [
        "###Inference\n",
        "After running the model with the different dropout rates, from the observations based on this data I infer that with increase in the dropout rates the test accuracy tends to drop slightly. But it helps to regularize and thus may help with other data where the data is more spreadout."
      ]
    }
  ]
}