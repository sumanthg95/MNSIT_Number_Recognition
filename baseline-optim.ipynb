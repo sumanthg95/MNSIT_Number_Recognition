{
  "nbformat": 4,
  "nbformat_minor": 0,
  "metadata": {
    "colab": {
      "name": "CNN_FINAL_baseline.ipynb",
      "provenance": [],
      "collapsed_sections": []
    },
    "kernelspec": {
      "name": "python3",
      "display_name": "Python 3"
    },
    "language_info": {
      "name": "python"
    },
    "accelerator": "GPU"
  },
  "cells": [
    {
      "cell_type": "markdown",
      "metadata": {
        "id": "xNVjC7_Bc3Ov"
      },
      "source": [
        "#Optimizers - RMSProp, Adam , Nesterov"
      ]
    },
    {
      "cell_type": "code",
      "metadata": {
        "id": "w2F6iYP5TTim"
      },
      "source": [
        "from sklearn.datasets import fetch_openml\n",
        "mnist=fetch_openml(\"mnist_784\",version=1)"
      ],
      "execution_count": 2,
      "outputs": []
    },
    {
      "cell_type": "code",
      "metadata": {
        "id": "Ea34yu4lTZLD"
      },
      "source": [
        "from sklearn.datasets import fetch_openml\n",
        "import numpy as np\n",
        "import pandas as pd\n",
        "import matplotlib as mpl\n",
        "from torch.utils.data import DataLoader, TensorDataset\n",
        "import matplotlib.pyplot as plt\n",
        "from torchvision.utils import make_grid\n",
        "from sklearn.model_selection import StratifiedShuffleSplit\n",
        "import collections\n",
        "import torch\n",
        "import torch.nn as nn\n",
        "import torch.nn.functional as F\n",
        "from torch.autograd import Variable\n",
        "import torch.optim as optim\n",
        "import torch.utils.data as data\n",
        "import random\n",
        "from scipy.io import savemat\n",
        "import os \n",
        "from os import path\n",
        "from sklearn.preprocessing import normalize\n",
        "from torch.nn.utils import clip_grad_norm_\n",
        "import torch.nn.parallel.data_parallel as data_parallel\n",
        "from sklearn.metrics import confusion_matrix\n",
        "from torch.optim.lr_scheduler import StepLR"
      ],
      "execution_count": 3,
      "outputs": []
    },
    {
      "cell_type": "markdown",
      "metadata": {
        "id": "hBkPy_-wZTLS"
      },
      "source": [
        "Storing the MNSIT data into X and y"
      ]
    },
    {
      "cell_type": "code",
      "metadata": {
        "colab": {
          "base_uri": "https://localhost:8080/"
        },
        "id": "26R6URhvTa4P",
        "outputId": "e73e0383-1024-45cb-c406-70070c25583b"
      },
      "source": [
        "import numpy as np\n",
        "X,y=mnist[\"data\"],mnist[\"target\"]\n",
        "y=y.astype(int)\n",
        "X=((X/255.)-.5)*2\n",
        "print(X.shape,y.shape)\n",
        "print(min(y),max(y))\n",
        "print(type(X),type(y))\n",
        "print(np.min(X), np.max(X))"
      ],
      "execution_count": 4,
      "outputs": [
        {
          "output_type": "stream",
          "text": [
            "(70000, 784) (70000,)\n",
            "0 9\n",
            "<class 'numpy.ndarray'> <class 'numpy.ndarray'>\n",
            "-1.0 1.0\n"
          ],
          "name": "stdout"
        }
      ]
    },
    {
      "cell_type": "markdown",
      "metadata": {
        "id": "9fokla-NZXRr"
      },
      "source": [
        "Defining a class hyperparam to store the values of learning rate, number of epochs,mini-batch size and momentum."
      ]
    },
    {
      "cell_type": "code",
      "metadata": {
        "id": "-eR9-XmUTc15"
      },
      "source": [
        "# Define key hyperparameters\n",
        "class hyperparam:\n",
        "    \n",
        "    lr = 0.05  # learning rate\n",
        "    num_epochs = 50  # Number of epochs\n",
        "    bs = 50  # Mini-batch size \n",
        "    moment = 0.9 # Momentum SGD "
      ],
      "execution_count": 5,
      "outputs": []
    },
    {
      "cell_type": "markdown",
      "metadata": {
        "id": "EL4fK8FqZqsP"
      },
      "source": [
        "###Splitting into train and test data"
      ]
    },
    {
      "cell_type": "code",
      "metadata": {
        "id": "LI8tBGiUTeo0"
      },
      "source": [
        "X_train, X_test, y_train, y_test = X[:60000], X[60000:], y[:60000], y[60000:] #train_images, val_images, train_labels, val_labels"
      ],
      "execution_count": 6,
      "outputs": []
    },
    {
      "cell_type": "markdown",
      "metadata": {
        "id": "CGpBsvgyZvdh"
      },
      "source": [
        "Separate into labels and training images and reshape the images"
      ]
    },
    {
      "cell_type": "code",
      "metadata": {
        "colab": {
          "base_uri": "https://localhost:8080/"
        },
        "id": "naPtAwABTh5o",
        "outputId": "43907906-8b6d-4413-e6b0-2620e6bcf62c"
      },
      "source": [
        "split = StratifiedShuffleSplit(n_splits=1, test_size=0.1, random_state = 42)\n",
        "\n",
        "for train_index, val_index in split.split(X_train,y_train):\n",
        "    X_train_strat = X[train_index,:]\n",
        "    y_train_strat = y[train_index]\n",
        "    \n",
        "    X_dev_strat = X[val_index,:]\n",
        "    y_dev_strat = y[val_index]\n",
        "\n",
        "print(X_train_strat.shape,y_train_strat.shape,X_dev_strat.shape,y_dev_strat.shape)"
      ],
      "execution_count": 7,
      "outputs": [
        {
          "output_type": "stream",
          "text": [
            "(54000, 784) (54000,) (6000, 784) (6000,)\n"
          ],
          "name": "stdout"
        }
      ]
    },
    {
      "cell_type": "code",
      "metadata": {
        "id": "xfC1GOTmTkF7"
      },
      "source": [
        "train_images = X_train_strat.reshape(X_train_strat.shape[0], 28, 28) #reshape the images to 54000,28,28 from 54000,784\n",
        "val_images = X_dev_strat.reshape(X_dev_strat.shape[0], 28, 28)\n",
        "test_images = X_test.reshape(X_test.shape[0], 28, 28)"
      ],
      "execution_count": 8,
      "outputs": []
    },
    {
      "cell_type": "markdown",
      "metadata": {
        "id": "dWsEuhRJZyxf"
      },
      "source": [
        "Converting images to tensors and normalising them"
      ]
    },
    {
      "cell_type": "code",
      "metadata": {
        "id": "fp5bcLXJTl3O"
      },
      "source": [
        "#train\n",
        "train_images_tensor = torch.tensor(train_images)/255.0\n",
        "train_labels_tensor = torch.tensor(y_train_strat)\n",
        "train_tensor = TensorDataset(train_images_tensor, train_labels_tensor)\n",
        "\n",
        "#val\n",
        "val_images_tensor = torch.tensor(val_images)/255.0\n",
        "val_labels_tensor = torch.tensor(y_dev_strat)\n",
        "val_tensor = TensorDataset(val_images_tensor, val_labels_tensor)\n",
        "\n",
        "#test\n",
        "test_images_tensor = torch.tensor(test_images)/255.0"
      ],
      "execution_count": 9,
      "outputs": []
    },
    {
      "cell_type": "markdown",
      "metadata": {
        "id": "j7SJWChnZ1kD"
      },
      "source": [
        "Load images into the data generator"
      ]
    },
    {
      "cell_type": "code",
      "metadata": {
        "colab": {
          "base_uri": "https://localhost:8080/"
        },
        "id": "m_3eLvX8Tnpa",
        "outputId": "e6a8f1c1-668f-40be-caa0-5af8c2a85fa6"
      },
      "source": [
        "train_loader = DataLoader(train_tensor, batch_size=50, num_workers=6, shuffle=True)\n",
        "val_loader = DataLoader(val_tensor, batch_size=50, num_workers=6, shuffle=True)\n",
        "test_loader = DataLoader(test_images_tensor, batch_size=50, num_workers=6, shuffle=False)"
      ],
      "execution_count": 10,
      "outputs": [
        {
          "output_type": "stream",
          "text": [
            "/usr/local/lib/python3.7/dist-packages/torch/utils/data/dataloader.py:477: UserWarning: This DataLoader will create 6 worker processes in total. Our suggested max number of worker in current system is 2, which is smaller than what this DataLoader is going to create. Please be aware that excessive worker creation might get DataLoader running slow or even freeze, lower the worker number to avoid potential slowness/freeze if necessary.\n",
            "  cpuset_checked))\n"
          ],
          "name": "stderr"
        }
      ]
    },
    {
      "cell_type": "markdown",
      "metadata": {
        "id": "1oPs8-zcZ9P0"
      },
      "source": [
        "###Define the CNN Model"
      ]
    },
    {
      "cell_type": "code",
      "metadata": {
        "id": "Ha2nWUE7TpvN"
      },
      "source": [
        "class Net(nn.Module):\n",
        "    def __init__(self):\n",
        "        super(Net, self).__init__()\n",
        "        \n",
        "        self.conv_block = nn.Sequential(\n",
        "            nn.Conv2d(1, 32, kernel_size=3, stride=1, padding=1),\n",
        "            nn.ReLU(inplace=True),\n",
        "            nn.Conv2d(32, 64, kernel_size=3, stride=1, padding=1),\n",
        "            nn.ReLU(inplace=True),\n",
        "            nn.MaxPool2d(kernel_size=2, stride=2),\n",
        "            nn.Conv2d(64, 128, kernel_size=3, stride=1, padding=1),\n",
        "            nn.ReLU(inplace=True),\n",
        "            nn.MaxPool2d(kernel_size=2, stride=2) \n",
        "        )\n",
        "        self.linear_block = nn.Sequential(\n",
        "            nn.Linear(128*7*7, 128),\n",
        "            nn.BatchNorm1d(128),\n",
        "            nn.ReLU(inplace=True),\n",
        "            nn.Linear(128, 64),\n",
        "            nn.BatchNorm1d(64),\n",
        "            nn.ReLU(inplace=True),\n",
        "            nn.Linear(64, 10)\n",
        "        )\n",
        "    def forward(self, x):\n",
        "        x = self.conv_block(x)\n",
        "        x = x.view(x.size(0), -1)\n",
        "        x = self.linear_block(x)\n",
        "        \n",
        "        return x"
      ],
      "execution_count": 11,
      "outputs": []
    },
    {
      "cell_type": "markdown",
      "metadata": {
        "id": "1XvWyFS-mzq9"
      },
      "source": [
        "Glorat Initialisation "
      ]
    },
    {
      "cell_type": "code",
      "metadata": {
        "id": "EBTX-Kb7SddR"
      },
      "source": [
        "def init_weights(m): \n",
        "  if type(m) == nn.Linear:\n",
        "    torch.nn.init.xavier_normal_(m.weight)"
      ],
      "execution_count": 12,
      "outputs": []
    },
    {
      "cell_type": "code",
      "metadata": {
        "colab": {
          "base_uri": "https://localhost:8080/"
        },
        "id": "ZK8dHwjSTzGC",
        "outputId": "31a1de7b-93fb-41ef-bcd3-28a1932f940b"
      },
      "source": [
        "conv_model = Net()\n",
        "conv_model.apply(init_weights) #Initialising the weights using the glorat Initialisation method\n",
        "conv_model "
      ],
      "execution_count": 13,
      "outputs": [
        {
          "output_type": "execute_result",
          "data": {
            "text/plain": [
              "Net(\n",
              "  (conv_block): Sequential(\n",
              "    (0): Conv2d(1, 32, kernel_size=(3, 3), stride=(1, 1), padding=(1, 1))\n",
              "    (1): ReLU(inplace=True)\n",
              "    (2): Conv2d(32, 64, kernel_size=(3, 3), stride=(1, 1), padding=(1, 1))\n",
              "    (3): ReLU(inplace=True)\n",
              "    (4): MaxPool2d(kernel_size=2, stride=2, padding=0, dilation=1, ceil_mode=False)\n",
              "    (5): Conv2d(64, 128, kernel_size=(3, 3), stride=(1, 1), padding=(1, 1))\n",
              "    (6): ReLU(inplace=True)\n",
              "    (7): MaxPool2d(kernel_size=2, stride=2, padding=0, dilation=1, ceil_mode=False)\n",
              "  )\n",
              "  (linear_block): Sequential(\n",
              "    (0): Linear(in_features=6272, out_features=128, bias=True)\n",
              "    (1): BatchNorm1d(128, eps=1e-05, momentum=0.1, affine=True, track_running_stats=True)\n",
              "    (2): ReLU(inplace=True)\n",
              "    (3): Linear(in_features=128, out_features=64, bias=True)\n",
              "    (4): BatchNorm1d(64, eps=1e-05, momentum=0.1, affine=True, track_running_stats=True)\n",
              "    (5): ReLU(inplace=True)\n",
              "    (6): Linear(in_features=64, out_features=10, bias=True)\n",
              "  )\n",
              ")"
            ]
          },
          "metadata": {
            "tags": []
          },
          "execution_count": 13
        }
      ]
    },
    {
      "cell_type": "markdown",
      "metadata": {
        "id": "h-56yrapXwNM"
      },
      "source": [
        "##RMSProp Optimizer"
      ]
    },
    {
      "cell_type": "markdown",
      "metadata": {
        "id": "F3AT7c_SnUmI"
      },
      "source": [
        "###Defining the optimizer and loss functions\n",
        "\n",
        "**RMSProp** Optimiser - \n",
        "params:- learning rate-0.05,momentum-0.9 \n",
        "and using the Cross Entropy Loss Function\n",
        "\n",
        "Learning Rate Schedular adjusting 10% every 10 epochs\n",
        "\n",
        "torch.cuda to check if any gpu is available to use it. Google Collab GPU was used here to run the files."
      ]
    },
    {
      "cell_type": "code",
      "metadata": {
        "colab": {
          "base_uri": "https://localhost:8080/"
        },
        "id": "meieCQ_yVJZL",
        "outputId": "7dc4687a-3d8a-4891-f903-eea16c730b3c"
      },
      "source": [
        "optimizer = torch.optim.RMSprop(params=conv_model.parameters(), lr=hyperparam.lr,momentum=0.9) #RMSProp optimiser\n",
        "exp_lr_scheduler = StepLR(optimizer, step_size=10, gamma=0.1)\n",
        "criterion = nn.CrossEntropyLoss()\n",
        "if torch.cuda.is_available():\n",
        "    print(\"GPU available\")\n",
        "    conv_model = conv_model.cuda()\n",
        "    criterion = criterion.cuda()"
      ],
      "execution_count": 14,
      "outputs": [
        {
          "output_type": "stream",
          "text": [
            "GPU available\n"
          ],
          "name": "stdout"
        }
      ]
    },
    {
      "cell_type": "markdown",
      "metadata": {
        "id": "I8CahrmEaag4"
      },
      "source": [
        "###Training the Model"
      ]
    },
    {
      "cell_type": "code",
      "metadata": {
        "colab": {
          "base_uri": "https://localhost:8080/"
        },
        "id": "GufCZAJwdi6l",
        "outputId": "8ceca34d-79ef-4f75-80e9-cf1fba881872"
      },
      "source": [
        "#Train the DNN\n",
        "tr_avgLoss_list = []\n",
        "tr_accuracy_list =[]\n",
        "dev_avgLoss_list = []\n",
        "dev_accuracy_list = []\n",
        "\n",
        "#loop over epochs\n",
        "for epoch in range(hyperparam.num_epochs):\n",
        "    tr_num_correct = 0\n",
        "    tr_num_samples = 0\n",
        "    tr_total_loss = 0.0\n",
        "    dev_num_correct = 0\n",
        "    dev_num_samples = 0\n",
        "    dev_total_loss = 0.0\n",
        "    \n",
        "    #Training\n",
        "    conv_model.train(True) \n",
        "    exp_lr_scheduler.step() #to decrease the lr by 10% every 10 epochs because as you move towards the minima the steps size needs to decrease so it doesnt jump over the minima\n",
        "\n",
        "    with torch.set_grad_enabled(True):\n",
        "        for local_batch, local_labels in train_loader:\n",
        "            local_batch=local_batch.unsqueeze(1)\n",
        "            \n",
        "            if torch.cuda.is_available():\n",
        "              local_batch = local_batch.cuda()\n",
        "              local_labels = local_labels.cuda()\n",
        "            \n",
        "            optimizer.zero_grad()\n",
        "            \n",
        "            \n",
        "            local_batch = local_batch.float()\n",
        "            local_labels = local_labels.float()\n",
        "            \n",
        "            #Model computations\n",
        "            out1 = conv_model(local_batch)\n",
        "            \n",
        "            #Cross Entropy loss calculation\n",
        "            ploss = criterion(out1, local_labels.long())\n",
        "            tr_total_loss += ploss*hyperparam.bs\n",
        "            \n",
        "            #Backpropogation\n",
        "            ploss.backward() #gradient calculation\n",
        "            optimizer.step() #weight update\n",
        "            \n",
        "            sel_class = torch.argmax(out1, dim=1) #chooses the maximum value of the softmax layer\n",
        "            \n",
        "            tr_num_correct += sel_class.eq(local_labels).sum().item()\n",
        "            tr_num_samples += hyperparam.bs\n",
        "        \n",
        "        tr_avgLoss = tr_total_loss/len(train_loader.dataset)\n",
        "        tr_avgLoss_list.append(tr_avgLoss)\n",
        "        \n",
        "        tr_accuracy = tr_num_correct/tr_num_samples\n",
        "        tr_accuracy_list.append(tr_accuracy)\n",
        "\n",
        "    #validation \n",
        "    with torch.set_grad_enabled(False):\n",
        "      conv_model.eval()\n",
        "\n",
        "      for local_batch,local_labels in val_loader:\n",
        "        local_batch=local_batch.unsqueeze(1)\n",
        "\n",
        "        local_batch=local_batch.float()\n",
        "        local_labels=local_labels.float()\n",
        "        \n",
        "        if torch.cuda.is_available():\n",
        "            local_batch = local_batch.cuda()\n",
        "            local_labels = local_labels.cuda()\n",
        "        #Model computations2\n",
        "        out1=conv_model(local_batch)\n",
        "\n",
        "        #CrossEntropy loss calculation\n",
        "        pLoss=criterion(out1,local_labels.long())\n",
        "        dev_total_loss +=ploss*hyperparam.bs\n",
        "        sel_class=torch.argmax(out1,dim=1)\n",
        "\n",
        "        dev_num_correct+=sel_class.eq(local_labels).sum().item()\n",
        "\n",
        "        dev_num_samples+=hyperparam.bs\n",
        "\n",
        "      dev_avgLoss=dev_total_loss/len(val_loader.dataset)\n",
        "      dev_avgLoss_list.append(dev_avgLoss)\n",
        "\n",
        "      dev_accuracy=dev_num_correct/dev_num_samples\n",
        "      dev_accuracy_list.append(dev_accuracy)\n",
        "    print(\"Accuracy for \",epoch,\" epoch -\",\"train_accuracy-\",tr_accuracy,\" Validation_accuracy- \",dev_accuracy)\n",
        "\n"
      ],
      "execution_count": 15,
      "outputs": [
        {
          "output_type": "stream",
          "text": [
            "/usr/local/lib/python3.7/dist-packages/torch/optim/lr_scheduler.py:134: UserWarning: Detected call of `lr_scheduler.step()` before `optimizer.step()`. In PyTorch 1.1.0 and later, you should call them in the opposite order: `optimizer.step()` before `lr_scheduler.step()`.  Failure to do this will result in PyTorch skipping the first value of the learning rate schedule. See more details at https://pytorch.org/docs/stable/optim.html#how-to-adjust-learning-rate\n",
            "  \"https://pytorch.org/docs/stable/optim.html#how-to-adjust-learning-rate\", UserWarning)\n",
            "/usr/local/lib/python3.7/dist-packages/torch/utils/data/dataloader.py:477: UserWarning: This DataLoader will create 6 worker processes in total. Our suggested max number of worker in current system is 2, which is smaller than what this DataLoader is going to create. Please be aware that excessive worker creation might get DataLoader running slow or even freeze, lower the worker number to avoid potential slowness/freeze if necessary.\n",
            "  cpuset_checked))\n"
          ],
          "name": "stderr"
        },
        {
          "output_type": "stream",
          "text": [
            "Accuracy for  0  epoch - train_accuracy- 0.5111111111111111  Validation_accuracy-  0.14516666666666667\n",
            "Accuracy for  1  epoch - train_accuracy- 0.7656111111111111  Validation_accuracy-  0.09933333333333333\n",
            "Accuracy for  2  epoch - train_accuracy- 0.867574074074074  Validation_accuracy-  0.09733333333333333\n",
            "Accuracy for  3  epoch - train_accuracy- 0.927962962962963  Validation_accuracy-  0.09933333333333333\n",
            "Accuracy for  4  epoch - train_accuracy- 0.9373148148148148  Validation_accuracy-  0.09733333333333333\n",
            "Accuracy for  5  epoch - train_accuracy- 0.9416111111111111  Validation_accuracy-  0.09733333333333333\n",
            "Accuracy for  6  epoch - train_accuracy- 0.9445555555555556  Validation_accuracy-  0.09783333333333333\n",
            "Accuracy for  7  epoch - train_accuracy- 0.9415925925925926  Validation_accuracy-  0.05683333333333333\n",
            "Accuracy for  8  epoch - train_accuracy- 0.9411666666666667  Validation_accuracy-  0.0975\n",
            "Accuracy for  9  epoch - train_accuracy- 0.966925925925926  Validation_accuracy-  0.8241666666666667\n",
            "Accuracy for  10  epoch - train_accuracy- 0.9734444444444444  Validation_accuracy-  0.9593333333333334\n",
            "Accuracy for  11  epoch - train_accuracy- 0.9767962962962963  Validation_accuracy-  0.9553333333333334\n",
            "Accuracy for  12  epoch - train_accuracy- 0.977  Validation_accuracy-  0.8933333333333333\n",
            "Accuracy for  13  epoch - train_accuracy- 0.9787592592592592  Validation_accuracy-  0.971\n",
            "Accuracy for  14  epoch - train_accuracy- 0.9794074074074074  Validation_accuracy-  0.873\n",
            "Accuracy for  15  epoch - train_accuracy- 0.980462962962963  Validation_accuracy-  0.824\n",
            "Accuracy for  16  epoch - train_accuracy- 0.9811111111111112  Validation_accuracy-  0.8031666666666667\n",
            "Accuracy for  17  epoch - train_accuracy- 0.9818148148148148  Validation_accuracy-  0.9615\n",
            "Accuracy for  18  epoch - train_accuracy- 0.9827222222222223  Validation_accuracy-  0.9381666666666667\n",
            "Accuracy for  19  epoch - train_accuracy- 0.9859814814814815  Validation_accuracy-  0.9821666666666666\n",
            "Accuracy for  20  epoch - train_accuracy- 0.9861296296296296  Validation_accuracy-  0.982\n",
            "Accuracy for  21  epoch - train_accuracy- 0.9863703703703703  Validation_accuracy-  0.9823333333333333\n",
            "Accuracy for  22  epoch - train_accuracy- 0.9856296296296296  Validation_accuracy-  0.98\n",
            "Accuracy for  23  epoch - train_accuracy- 0.9858703703703704  Validation_accuracy-  0.9833333333333333\n",
            "Accuracy for  24  epoch - train_accuracy- 0.9850925925925926  Validation_accuracy-  0.9826666666666667\n",
            "Accuracy for  25  epoch - train_accuracy- 0.9861296296296296  Validation_accuracy-  0.983\n",
            "Accuracy for  26  epoch - train_accuracy- 0.9866111111111111  Validation_accuracy-  0.9811666666666666\n",
            "Accuracy for  27  epoch - train_accuracy- 0.9863518518518518  Validation_accuracy-  0.9835\n",
            "Accuracy for  28  epoch - train_accuracy- 0.9867037037037037  Validation_accuracy-  0.984\n",
            "Accuracy for  29  epoch - train_accuracy- 0.9873333333333333  Validation_accuracy-  0.9838333333333333\n",
            "Accuracy for  30  epoch - train_accuracy- 0.9865  Validation_accuracy-  0.9838333333333333\n",
            "Accuracy for  31  epoch - train_accuracy- 0.9867037037037037  Validation_accuracy-  0.9845\n",
            "Accuracy for  32  epoch - train_accuracy- 0.9866296296296296  Validation_accuracy-  0.984\n",
            "Accuracy for  33  epoch - train_accuracy- 0.9872037037037037  Validation_accuracy-  0.9836666666666667\n",
            "Accuracy for  34  epoch - train_accuracy- 0.9869444444444444  Validation_accuracy-  0.9845\n",
            "Accuracy for  35  epoch - train_accuracy- 0.9869629629629629  Validation_accuracy-  0.9845\n",
            "Accuracy for  36  epoch - train_accuracy- 0.9876296296296296  Validation_accuracy-  0.9843333333333333\n",
            "Accuracy for  37  epoch - train_accuracy- 0.9866851851851852  Validation_accuracy-  0.9835\n",
            "Accuracy for  38  epoch - train_accuracy- 0.9871111111111112  Validation_accuracy-  0.9836666666666667\n",
            "Accuracy for  39  epoch - train_accuracy- 0.9870740740740741  Validation_accuracy-  0.9836666666666667\n",
            "Accuracy for  40  epoch - train_accuracy- 0.986574074074074  Validation_accuracy-  0.983\n",
            "Accuracy for  41  epoch - train_accuracy- 0.9869259259259259  Validation_accuracy-  0.9846666666666667\n",
            "Accuracy for  42  epoch - train_accuracy- 0.9876851851851852  Validation_accuracy-  0.9836666666666667\n",
            "Accuracy for  43  epoch - train_accuracy- 0.987037037037037  Validation_accuracy-  0.9843333333333333\n",
            "Accuracy for  44  epoch - train_accuracy- 0.9878518518518519  Validation_accuracy-  0.9838333333333333\n",
            "Accuracy for  45  epoch - train_accuracy- 0.9878703703703704  Validation_accuracy-  0.9841666666666666\n",
            "Accuracy for  46  epoch - train_accuracy- 0.9865185185185186  Validation_accuracy-  0.9846666666666667\n",
            "Accuracy for  47  epoch - train_accuracy- 0.9867962962962963  Validation_accuracy-  0.9848333333333333\n",
            "Accuracy for  48  epoch - train_accuracy- 0.9868148148148148  Validation_accuracy-  0.9833333333333333\n",
            "Accuracy for  49  epoch - train_accuracy- 0.9868333333333333  Validation_accuracy-  0.9841666666666666\n"
          ],
          "name": "stdout"
        }
      ]
    },
    {
      "cell_type": "markdown",
      "metadata": {
        "id": "VjU3RecGapPO"
      },
      "source": [
        "###Plotting the Learning Curves - for the Test and the Validation Sets"
      ]
    },
    {
      "cell_type": "code",
      "metadata": {
        "colab": {
          "base_uri": "https://localhost:8080/",
          "height": 1000
        },
        "id": "aL0uxZfO0IqN",
        "outputId": "20a90587-203b-4838-aa49-196998c21733"
      },
      "source": [
        "plt.plot(np.arange(0,hyperparam.num_epochs,1),tr_accuracy_list)\n",
        "plt.xlabel(\"epochs\")\n",
        "plt.ylabel(\"train_accuracy\")\n",
        "plt.show()\n",
        "\n",
        "plt.plot(np.arange(0,hyperparam.num_epochs,1),dev_accuracy_list)\n",
        "plt.xlabel(\"epochs\")\n",
        "plt.ylabel(\"validation_accuracy\")\n",
        "plt.show()\n",
        "\n",
        "plt.plot(np.arange(0,hyperparam.num_epochs,1),tr_avgLoss_list)\n",
        "plt.xlabel(\"epochs\")\n",
        "plt.ylabel(\"train_errors\")\n",
        "plt.show()\n",
        "\n",
        "plt.plot(np.arange(0,hyperparam.num_epochs,1),dev_avgLoss_list)\n",
        "plt.xlabel(\"epochs\")\n",
        "plt.ylabel(\"validation_errors\")\n",
        "plt.show()"
      ],
      "execution_count": 16,
      "outputs": [
        {
          "output_type": "display_data",
          "data": {
            "image/png": "[encoded data removed]",
            "text/plain": [
              "<Figure size 432x288 with 1 Axes>"
            ]
          },
          "metadata": {
            "tags": [],
            "needs_background": "light"
          }
        },
        {
          "output_type": "display_data",
          "data": {
            "image/png": "[encoded data removed]",
            "text/plain": [
              "<Figure size 432x288 with 1 Axes>"
            ]
          },
          "metadata": {
            "tags": [],
            "needs_background": "light"
          }
        },
        {
          "output_type": "display_data",
          "data": {
            "image/png": "[encoded data removed]",
            "text/plain": [
              "<Figure size 432x288 with 1 Axes>"
            ]
          },
          "metadata": {
            "tags": [],
            "needs_background": "light"
          }
        },
        {
          "output_type": "display_data",
          "data": {
            "image/png": "[encoded data removed]",
            "text/plain": [
              "<Figure size 432x288 with 1 Axes>"
            ]
          },
          "metadata": {
            "tags": [],
            "needs_background": "light"
          }
        }
      ]
    },
    {
      "cell_type": "markdown",
      "metadata": {
        "id": "tFarj0NXajzj"
      },
      "source": [
        "With the RMSPRop optimiser the train accuracy is good and it does not overfit or underfit and the validation accuracy improves after the tenth epoch hence convergence happens quicker than SGD."
      ]
    },
    {
      "cell_type": "markdown",
      "metadata": {
        "id": "71dO3qVen0F_"
      },
      "source": [
        "###Test Set\n"
      ]
    },
    {
      "cell_type": "code",
      "metadata": {
        "id": "Ac1n9AKdVXcz"
      },
      "source": [
        " def make_predictions(data_loader):\n",
        "    conv_model.eval()\n",
        "    test_preds = torch.LongTensor()\n",
        "    \n",
        "    for i, data in enumerate(data_loader):\n",
        "        data = data.unsqueeze(1)\n",
        "        \n",
        "        if torch.cuda.is_available():\n",
        "            data = data.cuda()\n",
        "            \n",
        "        output = conv_model(data.float()) #convert to float here as well\n",
        "        \n",
        "        preds = output.cpu().data.max(1, keepdim=True)[1]\n",
        "        test_preds = torch.cat((test_preds, preds), dim=0)\n",
        "        \n",
        "    return test_preds"
      ],
      "execution_count": 17,
      "outputs": []
    },
    {
      "cell_type": "code",
      "metadata": {
        "colab": {
          "base_uri": "https://localhost:8080/"
        },
        "id": "jCP57qwFXSFc",
        "outputId": "0fd24179-19f9-444a-d99b-4fbb206d447a"
      },
      "source": [
        "test_set_preds = make_predictions(test_loader)"
      ],
      "execution_count": 18,
      "outputs": [
        {
          "output_type": "stream",
          "text": [
            "/usr/local/lib/python3.7/dist-packages/torch/utils/data/dataloader.py:477: UserWarning: This DataLoader will create 6 worker processes in total. Our suggested max number of worker in current system is 2, which is smaller than what this DataLoader is going to create. Please be aware that excessive worker creation might get DataLoader running slow or even freeze, lower the worker number to avoid potential slowness/freeze if necessary.\n",
            "  cpuset_checked))\n"
          ],
          "name": "stderr"
        }
      ]
    },
    {
      "cell_type": "markdown",
      "metadata": {
        "id": "dw7xEGe5n3uQ"
      },
      "source": [
        "Predicted Labels"
      ]
    },
    {
      "cell_type": "code",
      "metadata": {
        "colab": {
          "base_uri": "https://localhost:8080/",
          "height": 202
        },
        "id": "U39xRp07XXIM",
        "outputId": "a26e8712-ae7c-463f-f340-d5c92d68b349"
      },
      "source": [
        "submission_df=pd.DataFrame()\n",
        "submission_df[\"label\"]=test_set_preds.numpy().squeeze()\n",
        "submission_df.head()"
      ],
      "execution_count": 19,
      "outputs": [
        {
          "output_type": "execute_result",
          "data": {
            "text/html": [
              "<div>\n",
              "<style scoped>\n",
              "    .dataframe tbody tr th:only-of-type {\n",
              "        vertical-align: middle;\n",
              "    }\n",
              "\n",
              "    .dataframe tbody tr th {\n",
              "        vertical-align: top;\n",
              "    }\n",
              "\n",
              "    .dataframe thead th {\n",
              "        text-align: right;\n",
              "    }\n",
              "</style>\n",
              "<table border=\"1\" class=\"dataframe\">\n",
              "  <thead>\n",
              "    <tr style=\"text-align: right;\">\n",
              "      <th></th>\n",
              "      <th>label</th>\n",
              "    </tr>\n",
              "  </thead>\n",
              "  <tbody>\n",
              "    <tr>\n",
              "      <th>0</th>\n",
              "      <td>7</td>\n",
              "    </tr>\n",
              "    <tr>\n",
              "      <th>1</th>\n",
              "      <td>2</td>\n",
              "    </tr>\n",
              "    <tr>\n",
              "      <th>2</th>\n",
              "      <td>1</td>\n",
              "    </tr>\n",
              "    <tr>\n",
              "      <th>3</th>\n",
              "      <td>0</td>\n",
              "    </tr>\n",
              "    <tr>\n",
              "      <th>4</th>\n",
              "      <td>4</td>\n",
              "    </tr>\n",
              "  </tbody>\n",
              "</table>\n",
              "</div>"
            ],
            "text/plain": [
              "   label\n",
              "0      7\n",
              "1      2\n",
              "2      1\n",
              "3      0\n",
              "4      4"
            ]
          },
          "metadata": {
            "tags": []
          },
          "execution_count": 19
        }
      ]
    },
    {
      "cell_type": "markdown",
      "metadata": {
        "id": "ppvoDxbIn7zd"
      },
      "source": [
        "###Test Accuracy and the Confusion Matrix on the test Set\n"
      ]
    },
    {
      "cell_type": "code",
      "metadata": {
        "colab": {
          "base_uri": "https://localhost:8080/"
        },
        "id": "LobbPXi1XjSY",
        "outputId": "9c029dba-2881-4701-d445-bdd9896c98cd"
      },
      "source": [
        "from sklearn.metrics import confusion_matrix\n",
        "from sklearn.metrics import accuracy_score\n",
        "\n",
        "y_true = mnist[\"target\"][60000:].astype(int)\n",
        "y_pred = np.array(submission_df[\"label\"])\n",
        "accuracy=accuracy_score(y_true,y_pred)\n",
        "confusion_matrix=confusion_matrix(y_true, y_pred)\n",
        "print(\"Test Accuracy - \",accuracy*100,\"%\")\n",
        "print(\" \\nConfusion Matrix- \")\n",
        "print(confusion_matrix)"
      ],
      "execution_count": 20,
      "outputs": [
        {
          "output_type": "stream",
          "text": [
            "Test Accuracy -  98.57000000000001 %\n",
            " \n",
            "Confusion Matrix- \n",
            "[[ 973    0    2    0    0    0    2    1    2    0]\n",
            " [   0 1128    0    0    0    0    2    2    3    0]\n",
            " [   1    2 1022    1    0    0    0    6    0    0]\n",
            " [   0    1    4  993    0    7    0    0    4    1]\n",
            " [   0    0    0    0  976    0    1    1    2    2]\n",
            " [   0    0    1    5    0  876    5    0    5    0]\n",
            " [   6    2    0    0    1    3  942    0    4    0]\n",
            " [   0    2    6    0    2    0    0 1016    1    1]\n",
            " [   1    0    2    1    2    4    0    3  961    0]\n",
            " [   0    1    0    4   14    1    0    7   12  970]]\n"
          ],
          "name": "stdout"
        }
      ]
    },
    {
      "cell_type": "markdown",
      "metadata": {
        "id": "pjB5nO_1dJZK"
      },
      "source": [
        "The RMSProp model  has a test accuracy of 98.57% which is slighlty lower than the baseline SGD model."
      ]
    },
    {
      "cell_type": "markdown",
      "metadata": {
        "id": "IXlyq-_-6PFI"
      },
      "source": [
        "##Adam Optimizer"
      ]
    },
    {
      "cell_type": "markdown",
      "metadata": {
        "id": "TlaCKYDJ6RwM"
      },
      "source": [
        "###Defining the optimizer and loss functions\n",
        "\n",
        "**Adam** Optimiser - \n",
        "params:- learning rate-0.05 \n",
        "and using the Cross Entropy Loss Function\n",
        "\n",
        "Learning Rate Schedular adjusting 10% every 10 epochs\n",
        "\n",
        "torch.cuda to check if any gpu is available to use it. Google Collab GPU was used here to run the files."
      ]
    },
    {
      "cell_type": "code",
      "metadata": {
        "colab": {
          "base_uri": "https://localhost:8080/"
        },
        "id": "rXr7KIPw6RwM",
        "outputId": "d59cfbc2-8f0f-459f-f0fa-1bcb41bc18a7"
      },
      "source": [
        "optimizer = optim.Adam(params=conv_model.parameters(), lr=hyperparam.lr) #0.0001\n",
        "exp_lr_scheduler = StepLR(optimizer, step_size=10, gamma=0.1)\n",
        "\n",
        "criterion = nn.CrossEntropyLoss()\n",
        "if torch.cuda.is_available():\n",
        "    print(\"GPU available\")\n",
        "    conv_model = conv_model.cuda()\n",
        "    criterion = criterion.cuda()"
      ],
      "execution_count": 13,
      "outputs": [
        {
          "output_type": "stream",
          "text": [
            "GPU available\n"
          ],
          "name": "stdout"
        }
      ]
    },
    {
      "cell_type": "markdown",
      "metadata": {
        "id": "1tIeY6r46RwN"
      },
      "source": [
        "###Training the Model"
      ]
    },
    {
      "cell_type": "code",
      "metadata": {
        "colab": {
          "base_uri": "https://localhost:8080/"
        },
        "id": "FWtEEMfH6RwN",
        "outputId": "3cd184d2-46c0-4424-e095-459ea9f41456"
      },
      "source": [
        "#Train the DNN\n",
        "tr_avgLoss_list = []\n",
        "tr_accuracy_list =[]\n",
        "dev_avgLoss_list = []\n",
        "dev_accuracy_list = []\n",
        "\n",
        "#loop over epochs\n",
        "for epoch in range(hyperparam.num_epochs):\n",
        "    tr_num_correct = 0\n",
        "    tr_num_samples = 0\n",
        "    tr_total_loss = 0.0\n",
        "    dev_num_correct = 0\n",
        "    dev_num_samples = 0\n",
        "    dev_total_loss = 0.0\n",
        "    \n",
        "    #Training\n",
        "    conv_model.train(True) \n",
        "    exp_lr_scheduler.step() #to decrease the lr by 10% every 10 epochs because as you move towards the minima the steps size needs to decrease so it doesnt jump over the minima\n",
        "\n",
        "    with torch.set_grad_enabled(True):\n",
        "        for local_batch, local_labels in train_loader:\n",
        "            local_batch=local_batch.unsqueeze(1)\n",
        "            \n",
        "            if torch.cuda.is_available():\n",
        "              local_batch = local_batch.cuda()\n",
        "              local_labels = local_labels.cuda()\n",
        "            \n",
        "            optimizer.zero_grad()\n",
        "            \n",
        "            \n",
        "            local_batch = local_batch.float()\n",
        "            local_labels = local_labels.float()\n",
        "            \n",
        "            #Model computations\n",
        "            out1 = conv_model(local_batch)\n",
        "            \n",
        "            #Cross Entropy loss calculation\n",
        "            ploss = criterion(out1, local_labels.long())\n",
        "            tr_total_loss += ploss*hyperparam.bs\n",
        "            \n",
        "            #Backpropogation\n",
        "            ploss.backward() #gradient calculation\n",
        "            optimizer.step() #weight update\n",
        "            #scheduler.step() \n",
        "            \n",
        "            sel_class = torch.argmax(out1, dim=1) #chooses the maximum value of the softmax layer\n",
        "            \n",
        "            tr_num_correct += sel_class.eq(local_labels).sum().item()\n",
        "            tr_num_samples += hyperparam.bs\n",
        "        \n",
        "        tr_avgLoss = tr_total_loss/len(train_loader.dataset)\n",
        "        tr_avgLoss_list.append(tr_avgLoss)\n",
        "        \n",
        "        tr_accuracy = tr_num_correct/tr_num_samples\n",
        "        tr_accuracy_list.append(tr_accuracy)\n",
        "\n",
        "    #validation \n",
        "    with torch.set_grad_enabled(False):\n",
        "      conv_model.eval()\n",
        "\n",
        "      for local_batch,local_labels in val_loader:\n",
        "        local_batch=local_batch.unsqueeze(1)\n",
        "\n",
        "        local_batch=local_batch.float()\n",
        "        local_labels=local_labels.float()\n",
        "        \n",
        "        if torch.cuda.is_available():\n",
        "            local_batch = local_batch.cuda()\n",
        "            local_labels = local_labels.cuda()\n",
        "            \n",
        "        #Model computations2\n",
        "        out1=conv_model(local_batch)\n",
        "\n",
        "        #CrossEntropy loss calculation\n",
        "        pLoss=criterion(out1,local_labels.long())\n",
        "        dev_total_loss +=ploss*hyperparam.bs\n",
        "        sel_class=torch.argmax(out1,dim=1)\n",
        "\n",
        "        dev_num_correct+=sel_class.eq(local_labels).sum().item()\n",
        "\n",
        "        #print(correction)\n",
        "        dev_num_samples+=hyperparam.bs\n",
        "\n",
        "      dev_avgLoss=dev_total_loss/len(val_loader.dataset)\n",
        "      dev_avgLoss_list.append(dev_avgLoss)\n",
        "\n",
        "      dev_accuracy=dev_num_correct/dev_num_samples\n",
        "      dev_accuracy_list.append(dev_accuracy)\n",
        "    print(\"Accuracy for \",epoch,\" epoch -\",\"train_accuracy-\",tr_accuracy,\" Validation_accuracy- \",dev_accuracy)\n",
        "\n"
      ],
      "execution_count": 14,
      "outputs": [
        {
          "output_type": "stream",
          "text": [
            "/usr/local/lib/python3.7/dist-packages/torch/optim/lr_scheduler.py:134: UserWarning: Detected call of `lr_scheduler.step()` before `optimizer.step()`. In PyTorch 1.1.0 and later, you should call them in the opposite order: `optimizer.step()` before `lr_scheduler.step()`.  Failure to do this will result in PyTorch skipping the first value of the learning rate schedule. See more details at https://pytorch.org/docs/stable/optim.html#how-to-adjust-learning-rate\n",
            "  \"https://pytorch.org/docs/stable/optim.html#how-to-adjust-learning-rate\", UserWarning)\n",
            "/usr/local/lib/python3.7/dist-packages/torch/utils/data/dataloader.py:477: UserWarning: This DataLoader will create 6 worker processes in total. Our suggested max number of worker in current system is 2, which is smaller than what this DataLoader is going to create. Please be aware that excessive worker creation might get DataLoader running slow or even freeze, lower the worker number to avoid potential slowness/freeze if necessary.\n",
            "  cpuset_checked))\n"
          ],
          "name": "stderr"
        },
        {
          "output_type": "stream",
          "text": [
            "Accuracy for  0  epoch - train_accuracy- 0.9359259259259259  Validation_accuracy-  0.11233333333333333\n",
            "Accuracy for  1  epoch - train_accuracy- 0.967462962962963  Validation_accuracy-  0.11233333333333333\n",
            "Accuracy for  2  epoch - train_accuracy- 0.9727962962962963  Validation_accuracy-  0.09933333333333333\n",
            "Accuracy for  3  epoch - train_accuracy- 0.9740925925925926  Validation_accuracy-  0.09866666666666667\n",
            "Accuracy for  4  epoch - train_accuracy- 0.9803333333333333  Validation_accuracy-  0.22233333333333333\n",
            "Accuracy for  5  epoch - train_accuracy- 0.9832592592592593  Validation_accuracy-  0.14766666666666667\n",
            "Accuracy for  6  epoch - train_accuracy- 0.9817037037037037  Validation_accuracy-  0.18166666666666667\n",
            "Accuracy for  7  epoch - train_accuracy- 0.9832777777777778  Validation_accuracy-  0.271\n",
            "Accuracy for  8  epoch - train_accuracy- 0.9856481481481482  Validation_accuracy-  0.09866666666666667\n",
            "Accuracy for  9  epoch - train_accuracy- 0.9935  Validation_accuracy-  0.9771666666666666\n",
            "Accuracy for  10  epoch - train_accuracy- 0.9952962962962963  Validation_accuracy-  0.9835\n",
            "Accuracy for  11  epoch - train_accuracy- 0.9963518518518518  Validation_accuracy-  0.9386666666666666\n",
            "Accuracy for  12  epoch - train_accuracy- 0.9960925925925926  Validation_accuracy-  0.6266666666666667\n",
            "Accuracy for  13  epoch - train_accuracy- 0.9966666666666667  Validation_accuracy-  0.983\n",
            "Accuracy for  14  epoch - train_accuracy- 0.9972592592592593  Validation_accuracy-  0.8925\n",
            "Accuracy for  15  epoch - train_accuracy- 0.9972222222222222  Validation_accuracy-  0.7826666666666666\n",
            "Accuracy for  16  epoch - train_accuracy- 0.9972777777777778  Validation_accuracy-  0.6756666666666666\n",
            "Accuracy for  17  epoch - train_accuracy- 0.9975185185185185  Validation_accuracy-  0.471\n",
            "Accuracy for  18  epoch - train_accuracy- 0.9977962962962963  Validation_accuracy-  0.7015\n",
            "Accuracy for  19  epoch - train_accuracy- 0.9984814814814815  Validation_accuracy-  0.99\n",
            "Accuracy for  20  epoch - train_accuracy- 0.9983888888888889  Validation_accuracy-  0.9876666666666667\n",
            "Accuracy for  21  epoch - train_accuracy- 0.9983703703703704  Validation_accuracy-  0.9885\n",
            "Accuracy for  22  epoch - train_accuracy- 0.998537037037037  Validation_accuracy-  0.9895\n",
            "Accuracy for  23  epoch - train_accuracy- 0.9981111111111111  Validation_accuracy-  0.9878333333333333\n",
            "Accuracy for  24  epoch - train_accuracy- 0.9988703703703704  Validation_accuracy-  0.9896666666666667\n",
            "Accuracy for  25  epoch - train_accuracy- 0.9985  Validation_accuracy-  0.9891666666666666\n",
            "Accuracy for  26  epoch - train_accuracy- 0.9983888888888889  Validation_accuracy-  0.9886666666666667\n",
            "Accuracy for  27  epoch - train_accuracy- 0.9982592592592593  Validation_accuracy-  0.989\n",
            "Accuracy for  28  epoch - train_accuracy- 0.9988148148148148  Validation_accuracy-  0.9893333333333333\n",
            "Accuracy for  29  epoch - train_accuracy- 0.9987222222222222  Validation_accuracy-  0.9901666666666666\n",
            "Accuracy for  30  epoch - train_accuracy- 0.9987962962962963  Validation_accuracy-  0.9898333333333333\n",
            "Accuracy for  31  epoch - train_accuracy- 0.9986481481481482  Validation_accuracy-  0.9903333333333333\n",
            "Accuracy for  32  epoch - train_accuracy- 0.9989259259259259  Validation_accuracy-  0.9896666666666667\n",
            "Accuracy for  33  epoch - train_accuracy- 0.9986296296296296  Validation_accuracy-  0.9898333333333333\n",
            "Accuracy for  34  epoch - train_accuracy- 0.9987777777777778  Validation_accuracy-  0.99\n",
            "Accuracy for  35  epoch - train_accuracy- 0.9987222222222222  Validation_accuracy-  0.9901666666666666\n",
            "Accuracy for  36  epoch - train_accuracy- 0.9987592592592592  Validation_accuracy-  0.9903333333333333\n",
            "Accuracy for  37  epoch - train_accuracy- 0.9987037037037036  Validation_accuracy-  0.9901666666666666\n",
            "Accuracy for  38  epoch - train_accuracy- 0.9986666666666667  Validation_accuracy-  0.9901666666666666\n",
            "Accuracy for  39  epoch - train_accuracy- 0.9988333333333334  Validation_accuracy-  0.9898333333333333\n",
            "Accuracy for  40  epoch - train_accuracy- 0.9986666666666667  Validation_accuracy-  0.9901666666666666\n",
            "Accuracy for  41  epoch - train_accuracy- 0.9989629629629629  Validation_accuracy-  0.9911666666666666\n",
            "Accuracy for  42  epoch - train_accuracy- 0.9988518518518519  Validation_accuracy-  0.99\n",
            "Accuracy for  43  epoch - train_accuracy- 0.9985185185185185  Validation_accuracy-  0.9903333333333333\n",
            "Accuracy for  44  epoch - train_accuracy- 0.9987037037037036  Validation_accuracy-  0.9901666666666666\n",
            "Accuracy for  45  epoch - train_accuracy- 0.9987037037037036  Validation_accuracy-  0.99\n",
            "Accuracy for  46  epoch - train_accuracy- 0.9984814814814815  Validation_accuracy-  0.9898333333333333\n",
            "Accuracy for  47  epoch - train_accuracy- 0.9987777777777778  Validation_accuracy-  0.99\n",
            "Accuracy for  48  epoch - train_accuracy- 0.9987407407407407  Validation_accuracy-  0.9901666666666666\n",
            "Accuracy for  49  epoch - train_accuracy- 0.9987407407407407  Validation_accuracy-  0.9896666666666667\n"
          ],
          "name": "stdout"
        }
      ]
    },
    {
      "cell_type": "markdown",
      "metadata": {
        "id": "woUIa-GX6RwO"
      },
      "source": [
        "###Plotting the Learning Curves - for the Test and the Validation Sets"
      ]
    },
    {
      "cell_type": "code",
      "metadata": {
        "colab": {
          "base_uri": "https://localhost:8080/",
          "height": 1000
        },
        "id": "1hxv05Lm6RwP",
        "outputId": "6fc670ae-5a17-4627-fca6-6dd5ceb2f894"
      },
      "source": [
        "plt.plot(np.arange(0,hyperparam.num_epochs,1),tr_accuracy_list)\n",
        "plt.xlabel(\"epochs\")\n",
        "plt.ylabel(\"train_accuracy\")\n",
        "plt.show()\n",
        "\n",
        "plt.plot(np.arange(0,hyperparam.num_epochs,1),dev_accuracy_list)\n",
        "plt.xlabel(\"epochs\")\n",
        "plt.ylabel(\"validation_accuracy\")\n",
        "plt.show()\n",
        "\n",
        "plt.plot(np.arange(0,hyperparam.num_epochs,1),tr_avgLoss_list)\n",
        "plt.xlabel(\"epochs\")\n",
        "plt.ylabel(\"train_errors\")\n",
        "plt.show()\n",
        "\n",
        "plt.plot(np.arange(0,hyperparam.num_epochs,1),dev_avgLoss_list)\n",
        "plt.xlabel(\"epochs\")\n",
        "plt.ylabel(\"validation_errors\")\n",
        "plt.show()"
      ],
      "execution_count": 15,
      "outputs": [
        {
          "output_type": "display_data",
          "data": {
            "image/png": "[encoded data removed]",
            "text/plain": [
              "<Figure size 432x288 with 1 Axes>"
            ]
          },
          "metadata": {
            "tags": [],
            "needs_background": "light"
          }
        },
        {
          "output_type": "display_data",
          "data": {
            "image/png": "[encoded data removed]",
            "text/plain": [
              "<Figure size 432x288 with 1 Axes>"
            ]
          },
          "metadata": {
            "tags": [],
            "needs_background": "light"
          }
        },
        {
          "output_type": "display_data",
          "data": {
            "image/png": "[encoded data removed]",
            "text/plain": [
              "<Figure size 432x288 with 1 Axes>"
            ]
          },
          "metadata": {
            "tags": [],
            "needs_background": "light"
          }
        },
        {
          "output_type": "display_data",
          "data": {
            "image/png": "[encoded data removed]",
            "text/plain": [
              "<Figure size 432x288 with 1 Axes>"
            ]
          },
          "metadata": {
            "tags": [],
            "needs_background": "light"
          }
        }
      ]
    },
    {
      "cell_type": "markdown",
      "metadata": {
        "id": "DRUfaJM46RwP"
      },
      "source": [
        "With the Adam optimiser the validation accuracy improves after the tenth epoch so the model converges quickly compared to SGD which takes around 20 epochs. "
      ]
    },
    {
      "cell_type": "markdown",
      "metadata": {
        "id": "uGwuV9EC6RwQ"
      },
      "source": [
        "###Test Set\n"
      ]
    },
    {
      "cell_type": "code",
      "metadata": {
        "id": "ZibPZA6K6RwQ"
      },
      "source": [
        " def make_predictions(data_loader):\n",
        "    conv_model.eval()\n",
        "    test_preds = torch.LongTensor()\n",
        "    \n",
        "    for i, data in enumerate(data_loader):\n",
        "        data = data.unsqueeze(1)\n",
        "        \n",
        "        if torch.cuda.is_available():\n",
        "            data = data.cuda()\n",
        "            \n",
        "        output = conv_model(data.float()) #convert to float here as well\n",
        "        \n",
        "        preds = output.cpu().data.max(1, keepdim=True)[1]\n",
        "        test_preds = torch.cat((test_preds, preds), dim=0)\n",
        "        \n",
        "    return test_preds"
      ],
      "execution_count": 16,
      "outputs": []
    },
    {
      "cell_type": "code",
      "metadata": {
        "colab": {
          "base_uri": "https://localhost:8080/"
        },
        "id": "prFDAAJx6RwQ",
        "outputId": "9e86542c-39e1-47c3-f4d5-7af9c0d741e6"
      },
      "source": [
        "test_set_preds = make_predictions(test_loader)"
      ],
      "execution_count": 17,
      "outputs": [
        {
          "output_type": "stream",
          "text": [
            "/usr/local/lib/python3.7/dist-packages/torch/utils/data/dataloader.py:477: UserWarning: This DataLoader will create 6 worker processes in total. Our suggested max number of worker in current system is 2, which is smaller than what this DataLoader is going to create. Please be aware that excessive worker creation might get DataLoader running slow or even freeze, lower the worker number to avoid potential slowness/freeze if necessary.\n",
            "  cpuset_checked))\n"
          ],
          "name": "stderr"
        }
      ]
    },
    {
      "cell_type": "markdown",
      "metadata": {
        "id": "nAacGCdS6RwQ"
      },
      "source": [
        "Predicted Labels"
      ]
    },
    {
      "cell_type": "code",
      "metadata": {
        "colab": {
          "base_uri": "https://localhost:8080/",
          "height": 202
        },
        "id": "llGT52Ik6RwQ",
        "outputId": "7477a916-0977-4e82-da1b-38c654788c88"
      },
      "source": [
        "submission_df=pd.DataFrame()\n",
        "submission_df[\"label\"]=test_set_preds.numpy().squeeze()\n",
        "submission_df.head()"
      ],
      "execution_count": 18,
      "outputs": [
        {
          "output_type": "execute_result",
          "data": {
            "text/html": [
              "<div>\n",
              "<style scoped>\n",
              "    .dataframe tbody tr th:only-of-type {\n",
              "        vertical-align: middle;\n",
              "    }\n",
              "\n",
              "    .dataframe tbody tr th {\n",
              "        vertical-align: top;\n",
              "    }\n",
              "\n",
              "    .dataframe thead th {\n",
              "        text-align: right;\n",
              "    }\n",
              "</style>\n",
              "<table border=\"1\" class=\"dataframe\">\n",
              "  <thead>\n",
              "    <tr style=\"text-align: right;\">\n",
              "      <th></th>\n",
              "      <th>label</th>\n",
              "    </tr>\n",
              "  </thead>\n",
              "  <tbody>\n",
              "    <tr>\n",
              "      <th>0</th>\n",
              "      <td>7</td>\n",
              "    </tr>\n",
              "    <tr>\n",
              "      <th>1</th>\n",
              "      <td>2</td>\n",
              "    </tr>\n",
              "    <tr>\n",
              "      <th>2</th>\n",
              "      <td>1</td>\n",
              "    </tr>\n",
              "    <tr>\n",
              "      <th>3</th>\n",
              "      <td>0</td>\n",
              "    </tr>\n",
              "    <tr>\n",
              "      <th>4</th>\n",
              "      <td>4</td>\n",
              "    </tr>\n",
              "  </tbody>\n",
              "</table>\n",
              "</div>"
            ],
            "text/plain": [
              "   label\n",
              "0      7\n",
              "1      2\n",
              "2      1\n",
              "3      0\n",
              "4      4"
            ]
          },
          "metadata": {
            "tags": []
          },
          "execution_count": 18
        }
      ]
    },
    {
      "cell_type": "markdown",
      "metadata": {
        "id": "wQMKiv5I6RwR"
      },
      "source": [
        "###Test Accuracy and the Confusion Matrix on the test Set\n"
      ]
    },
    {
      "cell_type": "code",
      "metadata": {
        "colab": {
          "base_uri": "https://localhost:8080/"
        },
        "id": "bM_tyMUf6RwR",
        "outputId": "23e7d667-9348-43c6-f63a-1731748f400b"
      },
      "source": [
        "from sklearn.metrics import confusion_matrix\n",
        "from sklearn.metrics import accuracy_score\n",
        "\n",
        "y_true = mnist[\"target\"][60000:].astype(int)\n",
        "y_pred = np.array(submission_df[\"label\"])\n",
        "accuracy=accuracy_score(y_true,y_pred)\n",
        "confusion_matrix=confusion_matrix(y_true, y_pred)\n",
        "print(\"Test Accuracy - \",accuracy*100,\"%\")\n",
        "print(\" \\nConfusion Matrix- \")\n",
        "print(confusion_matrix)"
      ],
      "execution_count": 19,
      "outputs": [
        {
          "output_type": "stream",
          "text": [
            "Test Accuracy -  99.21 %\n",
            " \n",
            "Confusion Matrix- \n",
            "[[ 977    1    0    0    0    0    1    1    0    0]\n",
            " [   0 1129    0    2    0    1    0    1    2    0]\n",
            " [   0    0 1025    1    0    0    0    5    1    0]\n",
            " [   0    0    0 1005    0    3    0    0    2    0]\n",
            " [   0    0    1    0  976    0    1    0    0    4]\n",
            " [   0    0    0    3    0  886    2    0    1    0]\n",
            " [   4    2    0    0    2    2  947    0    1    0]\n",
            " [   0    1    3    1    0    0    0 1017    3    3]\n",
            " [   2    0    3    0    0    2    0    0  965    2]\n",
            " [   0    0    0    0    7    4    0    4    0  994]]\n"
          ],
          "name": "stdout"
        }
      ]
    },
    {
      "cell_type": "markdown",
      "metadata": {
        "id": "xCJoJvzN6RwR"
      },
      "source": [
        "The Adam optimizer gives an test accuracy of 99.21% which is slighlty higher than the baseline SGD model. "
      ]
    },
    {
      "cell_type": "markdown",
      "metadata": {
        "id": "eNRvXeBy6cFz"
      },
      "source": [
        "##Nesterov Optimizer"
      ]
    },
    {
      "cell_type": "markdown",
      "metadata": {
        "id": "6i1nq_pO6j-b"
      },
      "source": [
        "###Defining the optimizer and loss functions\n",
        "\n",
        "**Nesterov**  Optimiser - \n",
        "params:- learning rate-0.05,momentum-0.9 \n",
        "and using the Cross Entropy Loss Function\n",
        "\n",
        "Learning Rate Schedular adjusting 10% every 10 epochs\n",
        "\n",
        "torch.cuda to check if any gpu is available to use it. Google Collab GPU was used here to run the files."
      ]
    },
    {
      "cell_type": "code",
      "metadata": {
        "colab": {
          "base_uri": "https://localhost:8080/"
        },
        "id": "S2elFKbH6j-j",
        "outputId": "f5bcd91f-1fa7-48a1-b2d5-2e878c715a36"
      },
      "source": [
        "optimizer = torch.optim.SGD(params=conv_model.parameters(), lr=hyperparam.lr, momentum=hyperparam.moment,nesterov=True)\n",
        "exp_lr_scheduler = StepLR(optimizer, step_size=10, gamma=0.1)\n",
        "criterion = nn.CrossEntropyLoss()\n",
        "if torch.cuda.is_available():\n",
        "    print(\"GPU available\")\n",
        "    conv_model = conv_model.cuda()\n",
        "    criterion = criterion.cuda()"
      ],
      "execution_count": 13,
      "outputs": [
        {
          "output_type": "stream",
          "text": [
            "GPU available\n"
          ],
          "name": "stdout"
        }
      ]
    },
    {
      "cell_type": "markdown",
      "metadata": {
        "id": "MqRAJaVH6j-k"
      },
      "source": [
        "###Training the Model"
      ]
    },
    {
      "cell_type": "code",
      "metadata": {
        "colab": {
          "base_uri": "https://localhost:8080/"
        },
        "id": "34cGY02J6j-k",
        "outputId": "950e7b72-90d1-43f5-c9b8-06669644205c"
      },
      "source": [
        "#Train the DNN\n",
        "tr_avgLoss_list = []\n",
        "tr_accuracy_list =[]\n",
        "dev_avgLoss_list = []\n",
        "dev_accuracy_list = []\n",
        "\n",
        "#loop over epochs\n",
        "for epoch in range(hyperparam.num_epochs):\n",
        "    tr_num_correct = 0\n",
        "    tr_num_samples = 0\n",
        "    tr_total_loss = 0.0\n",
        "    dev_num_correct = 0\n",
        "    dev_num_samples = 0\n",
        "    dev_total_loss = 0.0\n",
        "    \n",
        "    #Training\n",
        "    conv_model.train(True) \n",
        "    exp_lr_scheduler.step() #to decrease the lr by 10% every 10 epochs because as you move towards the minima the steps size needs to decrease so it doesnt jump over the minima\n",
        "\n",
        "    with torch.set_grad_enabled(True):\n",
        "        for local_batch, local_labels in train_loader:\n",
        "            local_batch=local_batch.unsqueeze(1)\n",
        "            \n",
        "            if torch.cuda.is_available():\n",
        "              local_batch = local_batch.cuda()\n",
        "              local_labels = local_labels.cuda()\n",
        "            \n",
        "            optimizer.zero_grad()\n",
        "            \n",
        "            \n",
        "            local_batch = local_batch.float()\n",
        "            local_labels = local_labels.float()\n",
        "            #local_batch, local_labels = Variable(local_batch), Variable(local_labels)\n",
        "            \n",
        "            #Model computations\n",
        "            out1 = conv_model(local_batch)\n",
        "            \n",
        "            #Cross Entropy loss calculation\n",
        "            ploss = criterion(out1, local_labels.long())\n",
        "            tr_total_loss += ploss*hyperparam.bs\n",
        "            \n",
        "            #Backpropogation\n",
        "            ploss.backward() #gradient calculation\n",
        "            optimizer.step() #weight update\n",
        "            #scheduler.step() \n",
        "            \n",
        "            sel_class = torch.argmax(out1, dim=1) #chooses the maximum value of the softmax layer\n",
        "            \n",
        "            tr_num_correct += sel_class.eq(local_labels).sum().item()\n",
        "            tr_num_samples += hyperparam.bs\n",
        "        \n",
        "        tr_avgLoss = tr_total_loss/len(train_loader.dataset)\n",
        "        tr_avgLoss_list.append(tr_avgLoss)\n",
        "        \n",
        "        tr_accuracy = tr_num_correct/tr_num_samples\n",
        "        tr_accuracy_list.append(tr_accuracy)\n",
        "\n",
        "    #validation \n",
        "    with torch.set_grad_enabled(False):\n",
        "      conv_model.eval()\n",
        "\n",
        "      for local_batch,local_labels in val_loader:\n",
        "        local_batch=local_batch.unsqueeze(1)\n",
        "\n",
        "        local_batch=local_batch.float()\n",
        "        local_labels=local_labels.float()\n",
        "        #local_batch,local_labels=Variable(local_batch),Variable(local_labels)\n",
        "        \n",
        "        if torch.cuda.is_available():\n",
        "            local_batch = local_batch.cuda()\n",
        "            local_labels = local_labels.cuda()\n",
        "        #Model computations2\n",
        "        out1=conv_model(local_batch)\n",
        "\n",
        "        #CrossEntropy loss calculation\n",
        "        pLoss=criterion(out1,local_labels.long())\n",
        "        dev_total_loss +=ploss*hyperparam.bs\n",
        "        sel_class=torch.argmax(out1,dim=1)\n",
        "\n",
        "        dev_num_correct+=sel_class.eq(local_labels).sum().item()\n",
        "\n",
        "        #print(correction)\n",
        "        dev_num_samples+=hyperparam.bs\n",
        "\n",
        "      dev_avgLoss=dev_total_loss/len(val_loader.dataset)\n",
        "      dev_avgLoss_list.append(dev_avgLoss)\n",
        "\n",
        "      dev_accuracy=dev_num_correct/dev_num_samples\n",
        "      dev_accuracy_list.append(dev_accuracy)\n",
        "    print(\"Accuracy for \",epoch,\" epoch -\",\"train_accuracy-\",tr_accuracy,\" Validation_accuracy- \",dev_accuracy)\n",
        "\n"
      ],
      "execution_count": 14,
      "outputs": [
        {
          "output_type": "stream",
          "text": [
            "/usr/local/lib/python3.7/dist-packages/torch/optim/lr_scheduler.py:134: UserWarning: Detected call of `lr_scheduler.step()` before `optimizer.step()`. In PyTorch 1.1.0 and later, you should call them in the opposite order: `optimizer.step()` before `lr_scheduler.step()`.  Failure to do this will result in PyTorch skipping the first value of the learning rate schedule. See more details at https://pytorch.org/docs/stable/optim.html#how-to-adjust-learning-rate\n",
            "  \"https://pytorch.org/docs/stable/optim.html#how-to-adjust-learning-rate\", UserWarning)\n",
            "/usr/local/lib/python3.7/dist-packages/torch/utils/data/dataloader.py:477: UserWarning: This DataLoader will create 6 worker processes in total. Our suggested max number of worker in current system is 2, which is smaller than what this DataLoader is going to create. Please be aware that excessive worker creation might get DataLoader running slow or even freeze, lower the worker number to avoid potential slowness/freeze if necessary.\n",
            "  cpuset_checked))\n"
          ],
          "name": "stderr"
        },
        {
          "output_type": "stream",
          "text": [
            "Accuracy for  0  epoch - train_accuracy- 0.9213518518518519  Validation_accuracy-  0.1045\n",
            "Accuracy for  1  epoch - train_accuracy- 0.9648333333333333  Validation_accuracy-  0.09866666666666667\n",
            "Accuracy for  2  epoch - train_accuracy- 0.9755555555555555  Validation_accuracy-  0.09866666666666667\n",
            "Accuracy for  3  epoch - train_accuracy- 0.9801111111111112  Validation_accuracy-  0.14066666666666666\n",
            "Accuracy for  4  epoch - train_accuracy- 0.9837222222222223  Validation_accuracy-  0.21933333333333332\n",
            "Accuracy for  5  epoch - train_accuracy- 0.9857962962962963  Validation_accuracy-  0.0975\n",
            "Accuracy for  6  epoch - train_accuracy- 0.9879444444444444  Validation_accuracy-  0.2085\n",
            "Accuracy for  7  epoch - train_accuracy- 0.9885185185185185  Validation_accuracy-  0.2275\n",
            "Accuracy for  8  epoch - train_accuracy- 0.9902407407407408  Validation_accuracy-  0.16733333333333333\n",
            "Accuracy for  9  epoch - train_accuracy- 0.993462962962963  Validation_accuracy-  0.971\n",
            "Accuracy for  10  epoch - train_accuracy- 0.995  Validation_accuracy-  0.897\n",
            "Accuracy for  11  epoch - train_accuracy- 0.9953703703703703  Validation_accuracy-  0.899\n",
            "Accuracy for  12  epoch - train_accuracy- 0.9957592592592592  Validation_accuracy-  0.9268333333333333\n",
            "Accuracy for  13  epoch - train_accuracy- 0.9962592592592593  Validation_accuracy-  0.9085\n",
            "Accuracy for  14  epoch - train_accuracy- 0.9965740740740741  Validation_accuracy-  0.9873333333333333\n",
            "Accuracy for  15  epoch - train_accuracy- 0.9963703703703704  Validation_accuracy-  0.8495\n",
            "Accuracy for  16  epoch - train_accuracy- 0.9966111111111111  Validation_accuracy-  0.9321666666666667\n",
            "Accuracy for  17  epoch - train_accuracy- 0.9963703703703704  Validation_accuracy-  0.9846666666666667\n",
            "Accuracy for  18  epoch - train_accuracy- 0.9964444444444445  Validation_accuracy-  0.9093333333333333\n",
            "Accuracy for  19  epoch - train_accuracy- 0.9967962962962963  Validation_accuracy-  0.9891666666666666\n",
            "Accuracy for  20  epoch - train_accuracy- 0.9966666666666667  Validation_accuracy-  0.9898333333333333\n",
            "Accuracy for  21  epoch - train_accuracy- 0.9973703703703704  Validation_accuracy-  0.9895\n",
            "Accuracy for  22  epoch - train_accuracy- 0.9971666666666666  Validation_accuracy-  0.9905\n",
            "Accuracy for  23  epoch - train_accuracy- 0.997037037037037  Validation_accuracy-  0.9901666666666666\n",
            "Accuracy for  24  epoch - train_accuracy- 0.9968518518518519  Validation_accuracy-  0.9896666666666667\n",
            "Accuracy for  25  epoch - train_accuracy- 0.9974259259259259  Validation_accuracy-  0.9905\n",
            "Accuracy for  26  epoch - train_accuracy- 0.9971296296296296  Validation_accuracy-  0.9908333333333333\n",
            "Accuracy for  27  epoch - train_accuracy- 0.9973333333333333  Validation_accuracy-  0.9906666666666667\n",
            "Accuracy for  28  epoch - train_accuracy- 0.9969629629629629  Validation_accuracy-  0.9896666666666667\n",
            "Accuracy for  29  epoch - train_accuracy- 0.9974444444444445  Validation_accuracy-  0.9901666666666666\n",
            "Accuracy for  30  epoch - train_accuracy- 0.9968333333333333  Validation_accuracy-  0.9898333333333333\n",
            "Accuracy for  31  epoch - train_accuracy- 0.9974444444444445  Validation_accuracy-  0.9901666666666666\n",
            "Accuracy for  32  epoch - train_accuracy- 0.9971481481481481  Validation_accuracy-  0.9901666666666666\n",
            "Accuracy for  33  epoch - train_accuracy- 0.9969259259259259  Validation_accuracy-  0.9908333333333333\n",
            "Accuracy for  34  epoch - train_accuracy- 0.9973333333333333  Validation_accuracy-  0.9903333333333333\n",
            "Accuracy for  35  epoch - train_accuracy- 0.997  Validation_accuracy-  0.9906666666666667\n",
            "Accuracy for  36  epoch - train_accuracy- 0.9972777777777778  Validation_accuracy-  0.9901666666666666\n",
            "Accuracy for  37  epoch - train_accuracy- 0.9971296296296296  Validation_accuracy-  0.9906666666666667\n",
            "Accuracy for  38  epoch - train_accuracy- 0.9971851851851852  Validation_accuracy-  0.9901666666666666\n",
            "Accuracy for  39  epoch - train_accuracy- 0.9972592592592593  Validation_accuracy-  0.99\n",
            "Accuracy for  40  epoch - train_accuracy- 0.9967777777777778  Validation_accuracy-  0.9906666666666667\n",
            "Accuracy for  41  epoch - train_accuracy- 0.9974074074074074  Validation_accuracy-  0.9905\n",
            "Accuracy for  42  epoch - train_accuracy- 0.9972222222222222  Validation_accuracy-  0.9903333333333333\n",
            "Accuracy for  43  epoch - train_accuracy- 0.9969629629629629  Validation_accuracy-  0.9901666666666666\n",
            "Accuracy for  44  epoch - train_accuracy- 0.9973518518518518  Validation_accuracy-  0.9911666666666666\n",
            "Accuracy for  45  epoch - train_accuracy- 0.997462962962963  Validation_accuracy-  0.9903333333333333\n",
            "Accuracy for  46  epoch - train_accuracy- 0.9973518518518518  Validation_accuracy-  0.99\n",
            "Accuracy for  47  epoch - train_accuracy- 0.9972592592592593  Validation_accuracy-  0.99\n",
            "Accuracy for  48  epoch - train_accuracy- 0.9969074074074074  Validation_accuracy-  0.9903333333333333\n",
            "Accuracy for  49  epoch - train_accuracy- 0.9969444444444444  Validation_accuracy-  0.99\n"
          ],
          "name": "stdout"
        }
      ]
    },
    {
      "cell_type": "markdown",
      "metadata": {
        "id": "Yd_-vUkg6j-l"
      },
      "source": [
        "###Plotting the Learning Curves - for the Test and the Validation Sets"
      ]
    },
    {
      "cell_type": "code",
      "metadata": {
        "colab": {
          "base_uri": "https://localhost:8080/",
          "height": 1000
        },
        "id": "vqMAaEBm6j-l",
        "outputId": "a2e67314-1dbb-4c21-a329-53a4272e41a6"
      },
      "source": [
        "plt.plot(np.arange(0,hyperparam.num_epochs,1),tr_accuracy_list)\n",
        "plt.xlabel(\"epochs\")\n",
        "plt.ylabel(\"train_accuracy\")\n",
        "plt.show()\n",
        "\n",
        "plt.plot(np.arange(0,hyperparam.num_epochs,1),dev_accuracy_list)\n",
        "plt.xlabel(\"epochs\")\n",
        "plt.ylabel(\"validation_accuracy\")\n",
        "plt.show()\n",
        "\n",
        "plt.plot(np.arange(0,hyperparam.num_epochs,1),tr_avgLoss_list)\n",
        "plt.xlabel(\"epochs\")\n",
        "plt.ylabel(\"train_errors\")\n",
        "plt.show()\n",
        "\n",
        "plt.plot(np.arange(0,hyperparam.num_epochs,1),dev_avgLoss_list)\n",
        "plt.xlabel(\"epochs\")\n",
        "plt.ylabel(\"validation_errors\")\n",
        "plt.show()"
      ],
      "execution_count": 15,
      "outputs": [
        {
          "output_type": "display_data",
          "data": {
            "image/png": "[encoded data removed]",
            "text/plain": [
              "<Figure size 432x288 with 1 Axes>"
            ]
          },
          "metadata": {
            "tags": [],
            "needs_background": "light"
          }
        },
        {
          "output_type": "display_data",
          "data": {
            "image/png": "[encoded data removed]",
            "text/plain": [
              "<Figure size 432x288 with 1 Axes>"
            ]
          },
          "metadata": {
            "tags": [],
            "needs_background": "light"
          }
        },
        {
          "output_type": "display_data",
          "data": {
            "image/png": "[encoded data removed]",
            "text/plain": [
              "<Figure size 432x288 with 1 Axes>"
            ]
          },
          "metadata": {
            "tags": [],
            "needs_background": "light"
          }
        },
        {
          "output_type": "display_data",
          "data": {
            "image/png": "[encoded data removed]",
            "text/plain": [
              "<Figure size 432x288 with 1 Axes>"
            ]
          },
          "metadata": {
            "tags": [],
            "needs_background": "light"
          }
        }
      ]
    },
    {
      "cell_type": "markdown",
      "metadata": {
        "id": "vgagj6jJbrIr"
      },
      "source": [
        "With the Nesterov optimiser the validation accuracy improves after the tenth epoch so the model converges quickly compared to baseline SGD which takes around 20 epochs. "
      ]
    },
    {
      "cell_type": "markdown",
      "metadata": {
        "id": "ABp8CCVF6j-l"
      },
      "source": [
        "###Test Set\n"
      ]
    },
    {
      "cell_type": "code",
      "metadata": {
        "id": "u66eKW_i6j-m"
      },
      "source": [
        " def make_predictions(data_loader):\n",
        "    conv_model.eval()\n",
        "    test_preds = torch.LongTensor()\n",
        "    \n",
        "    for i, data in enumerate(data_loader):\n",
        "        data = data.unsqueeze(1)\n",
        "        \n",
        "        if torch.cuda.is_available():\n",
        "            data = data.cuda()\n",
        "            \n",
        "        output = conv_model(data.float()) #convert to float here as well\n",
        "        \n",
        "        preds = output.cpu().data.max(1, keepdim=True)[1]\n",
        "        test_preds = torch.cat((test_preds, preds), dim=0)\n",
        "        \n",
        "    return test_preds"
      ],
      "execution_count": 16,
      "outputs": []
    },
    {
      "cell_type": "code",
      "metadata": {
        "colab": {
          "base_uri": "https://localhost:8080/"
        },
        "id": "eK256PdZ6j-m",
        "outputId": "eaa98e16-19f4-45f0-9a52-1875dd5a4546"
      },
      "source": [
        "test_set_preds = make_predictions(test_loader)"
      ],
      "execution_count": 17,
      "outputs": [
        {
          "output_type": "stream",
          "text": [
            "/usr/local/lib/python3.7/dist-packages/torch/utils/data/dataloader.py:477: UserWarning: This DataLoader will create 6 worker processes in total. Our suggested max number of worker in current system is 2, which is smaller than what this DataLoader is going to create. Please be aware that excessive worker creation might get DataLoader running slow or even freeze, lower the worker number to avoid potential slowness/freeze if necessary.\n",
            "  cpuset_checked))\n"
          ],
          "name": "stderr"
        }
      ]
    },
    {
      "cell_type": "markdown",
      "metadata": {
        "id": "vzE7aify6j-m"
      },
      "source": [
        "Predicted Labels"
      ]
    },
    {
      "cell_type": "code",
      "metadata": {
        "colab": {
          "base_uri": "https://localhost:8080/",
          "height": 202
        },
        "id": "bVEw96vl6j-m",
        "outputId": "18434a8c-783e-496d-acad-1da814f120c2"
      },
      "source": [
        "submission_df=pd.DataFrame()\n",
        "submission_df[\"label\"]=test_set_preds.numpy().squeeze()\n",
        "submission_df.head()"
      ],
      "execution_count": 18,
      "outputs": [
        {
          "output_type": "execute_result",
          "data": {
            "text/html": [
              "<div>\n",
              "<style scoped>\n",
              "    .dataframe tbody tr th:only-of-type {\n",
              "        vertical-align: middle;\n",
              "    }\n",
              "\n",
              "    .dataframe tbody tr th {\n",
              "        vertical-align: top;\n",
              "    }\n",
              "\n",
              "    .dataframe thead th {\n",
              "        text-align: right;\n",
              "    }\n",
              "</style>\n",
              "<table border=\"1\" class=\"dataframe\">\n",
              "  <thead>\n",
              "    <tr style=\"text-align: right;\">\n",
              "      <th></th>\n",
              "      <th>label</th>\n",
              "    </tr>\n",
              "  </thead>\n",
              "  <tbody>\n",
              "    <tr>\n",
              "      <th>0</th>\n",
              "      <td>7</td>\n",
              "    </tr>\n",
              "    <tr>\n",
              "      <th>1</th>\n",
              "      <td>2</td>\n",
              "    </tr>\n",
              "    <tr>\n",
              "      <th>2</th>\n",
              "      <td>1</td>\n",
              "    </tr>\n",
              "    <tr>\n",
              "      <th>3</th>\n",
              "      <td>0</td>\n",
              "    </tr>\n",
              "    <tr>\n",
              "      <th>4</th>\n",
              "      <td>4</td>\n",
              "    </tr>\n",
              "  </tbody>\n",
              "</table>\n",
              "</div>"
            ],
            "text/plain": [
              "   label\n",
              "0      7\n",
              "1      2\n",
              "2      1\n",
              "3      0\n",
              "4      4"
            ]
          },
          "metadata": {
            "tags": []
          },
          "execution_count": 18
        }
      ]
    },
    {
      "cell_type": "markdown",
      "metadata": {
        "id": "Sf6jAJUI6j-m"
      },
      "source": [
        "###Test Accuracy and the Confusion Matrix on the test Set\n"
      ]
    },
    {
      "cell_type": "code",
      "metadata": {
        "colab": {
          "base_uri": "https://localhost:8080/"
        },
        "id": "EAZggBXI6j-n",
        "outputId": "efc3a7eb-aadd-4193-e1b8-b3cc1566d9da"
      },
      "source": [
        "from sklearn.metrics import confusion_matrix\n",
        "from sklearn.metrics import accuracy_score\n",
        "\n",
        "y_true = mnist[\"target\"][60000:].astype(int)\n",
        "y_pred = np.array(submission_df[\"label\"])\n",
        "accuracy=accuracy_score(y_true,y_pred)\n",
        "confusion_matrix=confusion_matrix(y_true, y_pred) "
      ],
      "execution_count": 19,
      "outputs": [
        {
          "output_type": "stream",
          "text": [
            "Test Accuracy -  99.07000000000001 %\n",
            " \n",
            "Confusion Matrix- \n",
            "[[ 973    1    0    1    0    0    2    1    2    0]\n",
            " [   0 1132    0    0    0    0    1    1    0    1]\n",
            " [   2    1 1025    0    0    0    0    3    1    0]\n",
            " [   0    0    1 1003    0    3    0    0    3    0]\n",
            " [   0    0    0    0  972    0    3    2    0    5]\n",
            " [   1    0    0    5    0  882    1    1    0    2]\n",
            " [   4    2    1    0    1    0  950    0    0    0]\n",
            " [   0    1    4    3    0    0    0 1013    1    6]\n",
            " [   1    0    1    2    0    1    0    0  964    5]\n",
            " [   1    0    0    1    6    2    0    4    2  993]]\n"
          ],
          "name": "stdout"
        }
      ]
    },
    {
      "cell_type": "markdown",
      "metadata": {
        "id": "i-Ji8xMc6j-n"
      },
      "source": [
        "The Nesterov optimizer gives a test accuracy of 99.07 % which is very similar to the SGD baseline model."
      ]
    }
  ]
}