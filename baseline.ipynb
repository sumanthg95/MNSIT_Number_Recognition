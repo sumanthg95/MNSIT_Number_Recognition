{
  "nbformat": 4,
  "nbformat_minor": 0,
  "metadata": {
    "colab": {
      "name": "CNN_baseline.ipynb",
      "provenance": [],
      "collapsed_sections": []
    },
    "kernelspec": {
      "name": "python3",
      "display_name": "Python 3"
    },
    "language_info": {
      "name": "python"
    },
    "accelerator": "GPU"
  },
  "cells": [
    {
      "cell_type": "markdown",
      "metadata": {
        "id": "QfA3ok8_dFy4"
      },
      "source": [
        "#Baseline SGD Model"
      ]
    },
    {
      "cell_type": "code",
      "metadata": {
        "id": "w2F6iYP5TTim"
      },
      "source": [
        "from sklearn.datasets import fetch_openml\n",
        "mnist=fetch_openml(\"mnist_784\",version=1)"
      ],
      "execution_count": null,
      "outputs": []
    },
    {
      "cell_type": "code",
      "metadata": {
        "id": "Ea34yu4lTZLD"
      },
      "source": [
        "from sklearn.datasets import fetch_openml\n",
        "import numpy as np\n",
        "import pandas as pd\n",
        "import matplotlib as mpl\n",
        "from torch.utils.data import DataLoader, TensorDataset\n",
        "import matplotlib.pyplot as plt\n",
        "from torchvision.utils import make_grid\n",
        "from sklearn.model_selection import StratifiedShuffleSplit\n",
        "import collections\n",
        "import torch\n",
        "import torch.nn as nn\n",
        "import torch.nn.functional as F\n",
        "from torch.autograd import Variable\n",
        "import torch.optim as optim\n",
        "import torch.utils.data as data\n",
        "import random\n",
        "from scipy.io import savemat\n",
        "import os \n",
        "from os import path\n",
        "from sklearn.preprocessing import normalize\n",
        "from torch.nn.utils import clip_grad_norm_\n",
        "import torch.nn.parallel.data_parallel as data_parallel\n",
        "from sklearn.metrics import confusion_matrix\n",
        "from torch.optim.lr_scheduler import StepLR"
      ],
      "execution_count": null,
      "outputs": []
    },
    {
      "cell_type": "markdown",
      "metadata": {
        "id": "hBkPy_-wZTLS"
      },
      "source": [
        "Storing the MNSIT data into X and y"
      ]
    },
    {
      "cell_type": "code",
      "metadata": {
        "colab": {
          "base_uri": "https://localhost:8080/"
        },
        "id": "26R6URhvTa4P",
        "outputId": "8a20ff76-7ae8-427f-b166-ee68cb002519"
      },
      "source": [
        "import numpy as np\n",
        "X,y=mnist[\"data\"],mnist[\"target\"]\n",
        "y=y.astype(int)\n",
        "X=((X/255.)-.5)*2\n",
        "print(X.shape,y.shape)\n",
        "print(min(y),max(y))\n",
        "print(type(X),type(y))\n",
        "print(np.min(X), np.max(X))"
      ],
      "execution_count": null,
      "outputs": [
        {
          "output_type": "stream",
          "text": [
            "(70000, 784) (70000,)\n",
            "0 9\n",
            "<class 'numpy.ndarray'> <class 'numpy.ndarray'>\n",
            "-1.0 1.0\n"
          ],
          "name": "stdout"
        }
      ]
    },
    {
      "cell_type": "markdown",
      "metadata": {
        "id": "9fokla-NZXRr"
      },
      "source": [
        "Defining a class hyperparam to store the values of learning rate, number of epochs,mini-batch size and momentum."
      ]
    },
    {
      "cell_type": "code",
      "metadata": {
        "id": "-eR9-XmUTc15"
      },
      "source": [
        "# Define key hyperparameters\n",
        "class hyperparam:\n",
        "    \n",
        "    lr = 0.05  # learning rate\n",
        "    num_epochs = 50  # Number of epochs\n",
        "    bs = 50  # Mini-batch size \n",
        "    moment = 0.9 # Momentum SGD "
      ],
      "execution_count": null,
      "outputs": []
    },
    {
      "cell_type": "markdown",
      "metadata": {
        "id": "EL4fK8FqZqsP"
      },
      "source": [
        "###Splitting into train and test data"
      ]
    },
    {
      "cell_type": "code",
      "metadata": {
        "id": "LI8tBGiUTeo0"
      },
      "source": [
        "X_train, X_test, y_train, y_test = X[:60000], X[60000:], y[:60000], y[60000:] #train_images, val_images, train_labels, val_labels"
      ],
      "execution_count": null,
      "outputs": []
    },
    {
      "cell_type": "markdown",
      "metadata": {
        "id": "CGpBsvgyZvdh"
      },
      "source": [
        "Separate into labels and training images and reshape the images"
      ]
    },
    {
      "cell_type": "code",
      "metadata": {
        "colab": {
          "base_uri": "https://localhost:8080/"
        },
        "id": "naPtAwABTh5o",
        "outputId": "2d2879be-ad3c-4411-d55d-d11af34686f1"
      },
      "source": [
        "split = StratifiedShuffleSplit(n_splits=1, test_size=0.1, random_state = 42)\n",
        "\n",
        "for train_index, val_index in split.split(X_train,y_train):\n",
        "    X_train_strat = X[train_index,:]\n",
        "    y_train_strat = y[train_index]\n",
        "    \n",
        "    X_dev_strat = X[val_index,:]\n",
        "    y_dev_strat = y[val_index]\n",
        "\n",
        "print(X_train_strat.shape,y_train_strat.shape,X_dev_strat.shape,y_dev_strat.shape)"
      ],
      "execution_count": null,
      "outputs": [
        {
          "output_type": "stream",
          "text": [
            "(54000, 784) (54000,) (6000, 784) (6000,)\n"
          ],
          "name": "stdout"
        }
      ]
    },
    {
      "cell_type": "code",
      "metadata": {
        "id": "xfC1GOTmTkF7"
      },
      "source": [
        "train_images = X_train_strat.reshape(X_train_strat.shape[0], 28, 28) #reshape the images to 54000,28,28 from 54000,784\n",
        "val_images = X_dev_strat.reshape(X_dev_strat.shape[0], 28, 28)\n",
        "test_images = X_test.reshape(X_test.shape[0], 28, 28)"
      ],
      "execution_count": null,
      "outputs": []
    },
    {
      "cell_type": "markdown",
      "metadata": {
        "id": "dWsEuhRJZyxf"
      },
      "source": [
        "Converting images to tensors and normalising them"
      ]
    },
    {
      "cell_type": "code",
      "metadata": {
        "id": "fp5bcLXJTl3O"
      },
      "source": [
        "#train\n",
        "train_images_tensor = torch.tensor(train_images)/255.0\n",
        "train_labels_tensor = torch.tensor(y_train_strat)\n",
        "train_tensor = TensorDataset(train_images_tensor, train_labels_tensor)\n",
        "\n",
        "#val\n",
        "val_images_tensor = torch.tensor(val_images)/255.0\n",
        "val_labels_tensor = torch.tensor(y_dev_strat)\n",
        "val_tensor = TensorDataset(val_images_tensor, val_labels_tensor)\n",
        "\n",
        "#test\n",
        "test_images_tensor = torch.tensor(test_images)/255.0"
      ],
      "execution_count": null,
      "outputs": []
    },
    {
      "cell_type": "markdown",
      "metadata": {
        "id": "j7SJWChnZ1kD"
      },
      "source": [
        "Load images into the data generator"
      ]
    },
    {
      "cell_type": "code",
      "metadata": {
        "colab": {
          "base_uri": "https://localhost:8080/"
        },
        "id": "m_3eLvX8Tnpa",
        "outputId": "032e4ff7-b96f-4643-976b-1f925fdf503f"
      },
      "source": [
        "train_loader = DataLoader(train_tensor, batch_size=50, num_workers=6, shuffle=True)\n",
        "val_loader = DataLoader(val_tensor, batch_size=50, num_workers=6, shuffle=True)\n",
        "test_loader = DataLoader(test_images_tensor, batch_size=50, num_workers=6, shuffle=False)"
      ],
      "execution_count": null,
      "outputs": [
        {
          "output_type": "stream",
          "text": [
            "/usr/local/lib/python3.7/dist-packages/torch/utils/data/dataloader.py:477: UserWarning: This DataLoader will create 6 worker processes in total. Our suggested max number of worker in current system is 2, which is smaller than what this DataLoader is going to create. Please be aware that excessive worker creation might get DataLoader running slow or even freeze, lower the worker number to avoid potential slowness/freeze if necessary.\n",
            "  cpuset_checked))\n"
          ],
          "name": "stderr"
        }
      ]
    },
    {
      "cell_type": "markdown",
      "metadata": {
        "id": "1oPs8-zcZ9P0"
      },
      "source": [
        "###Defining the CNN Model "
      ]
    },
    {
      "cell_type": "code",
      "metadata": {
        "id": "Ha2nWUE7TpvN"
      },
      "source": [
        "class Net(nn.Module):\n",
        "    def __init__(self):\n",
        "        super(Net, self).__init__()\n",
        "        \n",
        "        self.conv_block = nn.Sequential(\n",
        "            nn.Conv2d(1, 32, kernel_size=3, stride=1, padding=1),\n",
        "            nn.ReLU(inplace=True),\n",
        "            nn.Conv2d(32, 64, kernel_size=3, stride=1, padding=1),\n",
        "            nn.ReLU(inplace=True),\n",
        "            nn.MaxPool2d(kernel_size=2, stride=2),\n",
        "            nn.Conv2d(64, 128, kernel_size=3, stride=1, padding=1),\n",
        "            nn.ReLU(inplace=True),\n",
        "            nn.MaxPool2d(kernel_size=2, stride=2) \n",
        "        )\n",
        "        self.linear_block = nn.Sequential(\n",
        "            nn.Linear(128*7*7, 128),    #128*7*7 is derived using the formulae W2=((W1-F+2*P)/S)+1 for the Conv2d and W2=((W1-F)/S)+1 for maxpooling            \n",
        "            nn.BatchNorm1d(128),        #where P=padding, S=stride, F= filter size, W1 and W2 are the number of nodes in that layer     \n",
        "            nn.ReLU(inplace=True),\n",
        "            nn.Linear(128, 64),\n",
        "            nn.BatchNorm1d(64),\n",
        "            nn.ReLU(inplace=True),\n",
        "            nn.Linear(64, 10)\n",
        "        )\n",
        "    def forward(self, x):\n",
        "        x = self.conv_block(x)\n",
        "        x = x.view(x.size(0), -1)\n",
        "        x = self.linear_block(x)\n",
        "        \n",
        "        return x"
      ],
      "execution_count": null,
      "outputs": []
    },
    {
      "cell_type": "markdown",
      "metadata": {
        "id": "1XvWyFS-mzq9"
      },
      "source": [
        "Glorat Initialisation "
      ]
    },
    {
      "cell_type": "code",
      "metadata": {
        "id": "EBTX-Kb7SddR"
      },
      "source": [
        "def init_weights(m): \n",
        "  if type(m) == nn.Linear:\n",
        "    torch.nn.init.xavier_normal_(m.weight)"
      ],
      "execution_count": null,
      "outputs": []
    },
    {
      "cell_type": "code",
      "metadata": {
        "colab": {
          "base_uri": "https://localhost:8080/"
        },
        "id": "ZK8dHwjSTzGC",
        "outputId": "21461036-7db7-448a-f385-f771ae464781"
      },
      "source": [
        "conv_model = Net()\n",
        "conv_model.apply(init_weights) #Initialising the weights using the glorat Initialisation method\n",
        "conv_model "
      ],
      "execution_count": null,
      "outputs": [
        {
          "output_type": "execute_result",
          "data": {
            "text/plain": [
              "Net(\n",
              "  (conv_block): Sequential(\n",
              "    (0): Conv2d(1, 32, kernel_size=(3, 3), stride=(1, 1), padding=(1, 1))\n",
              "    (1): ReLU(inplace=True)\n",
              "    (2): Conv2d(32, 64, kernel_size=(3, 3), stride=(1, 1), padding=(1, 1))\n",
              "    (3): ReLU(inplace=True)\n",
              "    (4): MaxPool2d(kernel_size=2, stride=2, padding=0, dilation=1, ceil_mode=False)\n",
              "    (5): Conv2d(64, 128, kernel_size=(3, 3), stride=(1, 1), padding=(1, 1))\n",
              "    (6): ReLU(inplace=True)\n",
              "    (7): MaxPool2d(kernel_size=2, stride=2, padding=0, dilation=1, ceil_mode=False)\n",
              "  )\n",
              "  (linear_block): Sequential(\n",
              "    (0): Linear(in_features=6272, out_features=128, bias=True)\n",
              "    (1): BatchNorm1d(128, eps=1e-05, momentum=0.1, affine=True, track_running_stats=True)\n",
              "    (2): ReLU(inplace=True)\n",
              "    (3): Linear(in_features=128, out_features=64, bias=True)\n",
              "    (4): BatchNorm1d(64, eps=1e-05, momentum=0.1, affine=True, track_running_stats=True)\n",
              "    (5): ReLU(inplace=True)\n",
              "    (6): Linear(in_features=64, out_features=10, bias=True)\n",
              "  )\n",
              ")"
            ]
          },
          "metadata": {
            "tags": []
          },
          "execution_count": 13
        }
      ]
    },
    {
      "cell_type": "markdown",
      "metadata": {
        "id": "F3AT7c_SnUmI"
      },
      "source": [
        "###Defining the optimizer and loss functions\n",
        "\n",
        "SGD Optimiser - \n",
        "params:- learning rate-0.05,momentum-0.9 \n",
        "and using the Cross Entropy Loss Function\n",
        "\n",
        "Learning Rate Schedular adjusting 10% every 10 epochs\n",
        "\n",
        "torch.cuda to check if any gpu is available to use it. Google Collab GPU was used here to run the files."
      ]
    },
    {
      "cell_type": "code",
      "metadata": {
        "colab": {
          "base_uri": "https://localhost:8080/"
        },
        "id": "meieCQ_yVJZL",
        "outputId": "f9ccd527-5555-492d-8eff-0fad3778f4f2"
      },
      "source": [
        "optimizer = torch.optim.SGD(params=conv_model.parameters(), lr=hyperparam.lr, momentum=hyperparam.moment)\n",
        "exp_lr_scheduler = StepLR(optimizer, step_size=10, gamma=0.10) #learning rate scheduler\n",
        "criterion = nn.CrossEntropyLoss() #cross entropy loss to calculate the loss between the predicted and the actual\n",
        "if torch.cuda.is_available(): # To check if any gpu is available to run on\n",
        "    print(\"GPU available\")\n",
        "    conv_model = conv_model.cuda()\n",
        "    criterion = criterion.cuda()"
      ],
      "execution_count": null,
      "outputs": [
        {
          "output_type": "stream",
          "text": [
            "GPU available\n"
          ],
          "name": "stdout"
        }
      ]
    },
    {
      "cell_type": "markdown",
      "metadata": {
        "id": "I8CahrmEaag4"
      },
      "source": [
        "###Training the Model"
      ]
    },
    {
      "cell_type": "code",
      "metadata": {
        "colab": {
          "base_uri": "https://localhost:8080/"
        },
        "id": "GufCZAJwdi6l",
        "outputId": "1b1b8820-26e0-4776-ba0c-ff84903d1e88"
      },
      "source": [
        "#Train the DNN\n",
        "tr_avgLoss_list = []\n",
        "tr_accuracy_list =[]\n",
        "dev_avgLoss_list = []\n",
        "dev_accuracy_list = []\n",
        "\n",
        "#loop over epochs\n",
        "for epoch in range(hyperparam.num_epochs):\n",
        "    tr_num_correct = 0\n",
        "    tr_num_samples = 0\n",
        "    tr_total_loss = 0.0\n",
        "    dev_num_correct = 0\n",
        "    dev_num_samples = 0\n",
        "    dev_total_loss = 0.0\n",
        "    \n",
        "    #Training\n",
        "    conv_model.train(True) \n",
        "    exp_lr_scheduler.step() #to decrease the lr by 10% every 10 epochs because as you move towards the minima the steps size needs to decrease so it doesnt jump over the minima\n",
        "\n",
        "    with torch.set_grad_enabled(True):\n",
        "        for local_batch, local_labels in train_loader:\n",
        "            local_batch=local_batch.unsqueeze(1)\n",
        "            \n",
        "            if torch.cuda.is_available():\n",
        "              local_batch = local_batch.cuda()\n",
        "              local_labels = local_labels.cuda()\n",
        "            \n",
        "            optimizer.zero_grad()\n",
        "            \n",
        "            \n",
        "            local_batch = local_batch.float()\n",
        "            local_labels = local_labels.float()\n",
        "            \n",
        "            #Model computations\n",
        "            out1 = conv_model(local_batch)\n",
        "            \n",
        "            #Cross Entropy loss calculation\n",
        "            ploss = criterion(out1, local_labels.long())\n",
        "            tr_total_loss += ploss*hyperparam.bs\n",
        "            \n",
        "            #Backpropogation\n",
        "            ploss.backward() #gradient calculation\n",
        "            optimizer.step() #weight update\n",
        "            \n",
        "            sel_class = torch.argmax(out1, dim=1) #chooses the maximum value of the softmax layer\n",
        "            \n",
        "            tr_num_correct += sel_class.eq(local_labels).sum().item()\n",
        "            tr_num_samples += hyperparam.bs\n",
        "        \n",
        "        tr_avgLoss = tr_total_loss/len(train_loader.dataset)\n",
        "        tr_avgLoss_list.append(tr_avgLoss)\n",
        "        \n",
        "        tr_accuracy = tr_num_correct/tr_num_samples\n",
        "        tr_accuracy_list.append(tr_accuracy)\n",
        "\n",
        "    #validation \n",
        "    with torch.set_grad_enabled(False):\n",
        "      conv_model.eval()\n",
        "\n",
        "      for local_batch,local_labels in val_loader:\n",
        "        local_batch=local_batch.unsqueeze(1)\n",
        "\n",
        "        local_batch=local_batch.float()\n",
        "        local_labels=local_labels.float()\n",
        "        \n",
        "        if torch.cuda.is_available():\n",
        "            local_batch = local_batch.cuda()\n",
        "            local_labels = local_labels.cuda()\n",
        "        #Model computations2\n",
        "        out1=conv_model(local_batch)\n",
        "\n",
        "        #CrossEntropy loss calculation\n",
        "        pLoss=criterion(out1,local_labels.long())\n",
        "        dev_total_loss +=ploss*hyperparam.bs\n",
        "        sel_class=torch.argmax(out1,dim=1)\n",
        "\n",
        "        dev_num_correct+=sel_class.eq(local_labels).sum().item()\n",
        "\n",
        "        #print(correction)\n",
        "        dev_num_samples+=hyperparam.bs\n",
        "\n",
        "      dev_avgLoss=dev_total_loss/len(val_loader.dataset)\n",
        "      dev_avgLoss_list.append(dev_avgLoss)\n",
        "\n",
        "      dev_accuracy=dev_num_correct/dev_num_samples\n",
        "      dev_accuracy_list.append(dev_accuracy)\n",
        "    print(\"Accuracy for \",epoch,\" epoch -\",\"train_accuracy-\",tr_accuracy,\" Validation_accuracy- \",dev_accuracy)\n",
        "\n"
      ],
      "execution_count": null,
      "outputs": [
        {
          "output_type": "stream",
          "text": [
            "/usr/local/lib/python3.7/dist-packages/torch/optim/lr_scheduler.py:134: UserWarning: Detected call of `lr_scheduler.step()` before `optimizer.step()`. In PyTorch 1.1.0 and later, you should call them in the opposite order: `optimizer.step()` before `lr_scheduler.step()`.  Failure to do this will result in PyTorch skipping the first value of the learning rate schedule. See more details at https://pytorch.org/docs/stable/optim.html#how-to-adjust-learning-rate\n",
            "  \"https://pytorch.org/docs/stable/optim.html#how-to-adjust-learning-rate\", UserWarning)\n",
            "/usr/local/lib/python3.7/dist-packages/torch/utils/data/dataloader.py:477: UserWarning: This DataLoader will create 6 worker processes in total. Our suggested max number of worker in current system is 2, which is smaller than what this DataLoader is going to create. Please be aware that excessive worker creation might get DataLoader running slow or even freeze, lower the worker number to avoid potential slowness/freeze if necessary.\n",
            "  cpuset_checked))\n"
          ],
          "name": "stderr"
        },
        {
          "output_type": "stream",
          "text": [
            "Accuracy for  0 - train_accuracy- 0.9206666666666666  Validation_accuracy-  0.10216666666666667\n",
            "Accuracy for  1 - train_accuracy- 0.9643518518518519  Validation_accuracy-  0.09033333333333333\n",
            "Accuracy for  2 - train_accuracy- 0.9748888888888889  Validation_accuracy-  0.18516666666666667\n",
            "Accuracy for  3 - train_accuracy- 0.9807962962962963  Validation_accuracy-  0.09033333333333333\n",
            "Accuracy for  4 - train_accuracy- 0.9843703703703703  Validation_accuracy-  0.11233333333333333\n",
            "Accuracy for  5 - train_accuracy- 0.9858518518518519  Validation_accuracy-  0.10866666666666666\n",
            "Accuracy for  6 - train_accuracy- 0.9879074074074075  Validation_accuracy-  0.09033333333333333\n",
            "Accuracy for  7 - train_accuracy- 0.9906111111111111  Validation_accuracy-  0.177\n",
            "Accuracy for  8 - train_accuracy- 0.9914259259259259  Validation_accuracy-  0.16983333333333334\n",
            "Accuracy for  9 - train_accuracy- 0.995037037037037  Validation_accuracy-  0.4013333333333333\n",
            "Accuracy for  10 - train_accuracy- 0.9960185185185185  Validation_accuracy-  0.662\n",
            "Accuracy for  11 - train_accuracy- 0.9960185185185185  Validation_accuracy-  0.5651666666666667\n",
            "Accuracy for  12 - train_accuracy- 0.9964814814814815  Validation_accuracy-  0.9031666666666667\n",
            "Accuracy for  13 - train_accuracy- 0.9967407407407407  Validation_accuracy-  0.2708333333333333\n",
            "Accuracy for  14 - train_accuracy- 0.9966666666666667  Validation_accuracy-  0.37516666666666665\n",
            "Accuracy for  15 - train_accuracy- 0.9971296296296296  Validation_accuracy-  0.18066666666666667\n",
            "Accuracy for  16 - train_accuracy- 0.9974074074074074  Validation_accuracy-  0.777\n",
            "Accuracy for  17 - train_accuracy- 0.997462962962963  Validation_accuracy-  0.7086666666666667\n",
            "Accuracy for  18 - train_accuracy- 0.9972222222222222  Validation_accuracy-  0.37433333333333335\n",
            "Accuracy for  19 - train_accuracy- 0.9977037037037036  Validation_accuracy-  0.9886666666666667\n",
            "Accuracy for  20 - train_accuracy- 0.9977592592592592  Validation_accuracy-  0.987\n",
            "Accuracy for  21 - train_accuracy- 0.9979074074074074  Validation_accuracy-  0.9878333333333333\n",
            "Accuracy for  22 - train_accuracy- 0.9977962962962963  Validation_accuracy-  0.9888333333333333\n",
            "Accuracy for  23 - train_accuracy- 0.9975925925925926  Validation_accuracy-  0.9871666666666666\n",
            "Accuracy for  24 - train_accuracy- 0.9978148148148148  Validation_accuracy-  0.9886666666666667\n",
            "Accuracy for  25 - train_accuracy- 0.9981481481481481  Validation_accuracy-  0.9886666666666667\n",
            "Accuracy for  26 - train_accuracy- 0.9975925925925926  Validation_accuracy-  0.986\n",
            "Accuracy for  27 - train_accuracy- 0.9979814814814815  Validation_accuracy-  0.9871666666666666\n",
            "Accuracy for  28 - train_accuracy- 0.9978333333333333  Validation_accuracy-  0.9888333333333333\n",
            "Accuracy for  29 - train_accuracy- 0.9978333333333333  Validation_accuracy-  0.9891666666666666\n",
            "Accuracy for  30 - train_accuracy- 0.9976111111111111  Validation_accuracy-  0.9895\n",
            "Accuracy for  31 - train_accuracy- 0.9975185185185185  Validation_accuracy-  0.9888333333333333\n",
            "Accuracy for  32 - train_accuracy- 0.9976851851851852  Validation_accuracy-  0.9893333333333333\n",
            "Accuracy for  33 - train_accuracy- 0.9977407407407407  Validation_accuracy-  0.9895\n",
            "Accuracy for  34 - train_accuracy- 0.9978888888888889  Validation_accuracy-  0.9893333333333333\n",
            "Accuracy for  35 - train_accuracy- 0.9978518518518519  Validation_accuracy-  0.989\n",
            "Accuracy for  36 - train_accuracy- 0.9975740740740741  Validation_accuracy-  0.9891666666666666\n",
            "Accuracy for  37 - train_accuracy- 0.9981111111111111  Validation_accuracy-  0.9888333333333333\n",
            "Accuracy for  38 - train_accuracy- 0.9979259259259259  Validation_accuracy-  0.9885\n",
            "Accuracy for  39 - train_accuracy- 0.9979629629629629  Validation_accuracy-  0.989\n",
            "Accuracy for  40 - train_accuracy- 0.9982222222222222  Validation_accuracy-  0.9896666666666667\n",
            "Accuracy for  41 - train_accuracy- 0.9978148148148148  Validation_accuracy-  0.9893333333333333\n",
            "Accuracy for  42 - train_accuracy- 0.9973888888888889  Validation_accuracy-  0.9891666666666666\n",
            "Accuracy for  43 - train_accuracy- 0.9980925925925926  Validation_accuracy-  0.9891666666666666\n",
            "Accuracy for  44 - train_accuracy- 0.9979259259259259  Validation_accuracy-  0.9881666666666666\n",
            "Accuracy for  45 - train_accuracy- 0.9979814814814815  Validation_accuracy-  0.989\n",
            "Accuracy for  46 - train_accuracy- 0.9978703703703704  Validation_accuracy-  0.9893333333333333\n",
            "Accuracy for  47 - train_accuracy- 0.9981851851851852  Validation_accuracy-  0.9891666666666666\n",
            "Accuracy for  48 - train_accuracy- 0.9977592592592592  Validation_accuracy-  0.9898333333333333\n",
            "Accuracy for  49 - train_accuracy- 0.9979629629629629  Validation_accuracy-  0.989\n"
          ],
          "name": "stdout"
        }
      ]
    },
    {
      "cell_type": "markdown",
      "metadata": {
        "id": "VjU3RecGapPO"
      },
      "source": [
        "###Plotting the Learning Curves - for the Test and the Validation Sets"
      ]
    },
    {
      "cell_type": "code",
      "metadata": {
        "colab": {
          "base_uri": "https://localhost:8080/",
          "height": 1000
        },
        "id": "aL0uxZfO0IqN",
        "outputId": "efa36a72-a783-440d-b336-53e08de52ec0"
      },
      "source": [
        "plt.plot(np.arange(0,hyperparam.num_epochs,1),tr_accuracy_list)\n",
        "plt.xlabel(\"epochs\")\n",
        "plt.ylabel(\"train_accuracy\")\n",
        "plt.show()\n",
        "\n",
        "plt.plot(np.arange(0,hyperparam.num_epochs,1),dev_accuracy_list)\n",
        "plt.xlabel(\"epochs\")\n",
        "plt.ylabel(\"validation_accuracy\")\n",
        "plt.show()\n",
        "\n",
        "plt.plot(np.arange(0,hyperparam.num_epochs,1),tr_avgLoss_list)\n",
        "plt.xlabel(\"epochs\")\n",
        "plt.ylabel(\"train_errors\")\n",
        "plt.show()\n",
        "\n",
        "plt.plot(np.arange(0,hyperparam.num_epochs,1),dev_avgLoss_list)\n",
        "plt.xlabel(\"epochs\")\n",
        "plt.ylabel(\"validation_errors\")\n",
        "plt.show()"
      ],
      "execution_count": null,
      "outputs": [
        {
          "output_type": "display_data",
          "data": {
            "image/png": "[encoded data removed]",
            "text/plain": [
              "<Figure size 432x288 with 1 Axes>"
            ]
          },
          "metadata": {
            "tags": [],
            "needs_background": "light"
          }
        },
        {
          "output_type": "display_data",
          "data": {
            "image/png": "[encoded data removed]",
            "text/plain": [
              "<Figure size 432x288 with 1 Axes>"
            ]
          },
          "metadata": {
            "tags": [],
            "needs_background": "light"
          }
        },
        {
          "output_type": "display_data",
          "data": {
            "image/png": "[encoded data removed]",
            "text/plain": [
              "<Figure size 432x288 with 1 Axes>"
            ]
          },
          "metadata": {
            "tags": [],
            "needs_background": "light"
          }
        },
        {
          "output_type": "display_data",
          "data": {
            "image/png": "[encoded data removed]",
            "text/plain": [
              "<Figure size 432x288 with 1 Axes>"
            ]
          },
          "metadata": {
            "tags": [],
            "needs_background": "light"
          }
        }
      ]
    },
    {
      "cell_type": "markdown",
      "metadata": {
        "id": "tFarj0NXajzj"
      },
      "source": [
        "Inititially the SGD optimiser overfits the validation set until around 20 epochs and eventually the error rate for the validation set decreases after 20 epochs. This must be mainly beacuse the learning rate decreases every ten epochs as we are incorporating the learning rate schedular and it helps to converge the model later as it trains over the epochs. The validation accuracy is good at the end of 50 epochs.\n"
      ]
    },
    {
      "cell_type": "markdown",
      "metadata": {
        "id": "71dO3qVen0F_"
      },
      "source": [
        "###Test Set\n"
      ]
    },
    {
      "cell_type": "code",
      "metadata": {
        "id": "Ac1n9AKdVXcz"
      },
      "source": [
        " def make_predictions(data_loader):\n",
        "    conv_model.eval()\n",
        "    test_preds = torch.LongTensor()\n",
        "    \n",
        "    for i, data in enumerate(data_loader):\n",
        "        data = data.unsqueeze(1)\n",
        "        \n",
        "        if torch.cuda.is_available():\n",
        "            data = data.cuda()\n",
        "            \n",
        "        output = conv_model(data.float()) #convert to float here as well\n",
        "        \n",
        "        preds = output.cpu().data.max(1, keepdim=True)[1]\n",
        "        test_preds = torch.cat((test_preds, preds), dim=0)\n",
        "        \n",
        "    return test_preds"
      ],
      "execution_count": null,
      "outputs": []
    },
    {
      "cell_type": "code",
      "metadata": {
        "colab": {
          "base_uri": "https://localhost:8080/"
        },
        "id": "jCP57qwFXSFc",
        "outputId": "a2f4f116-cd60-4fe9-812d-35d6a1ad86a3"
      },
      "source": [
        "test_set_preds = make_predictions(test_loader)"
      ],
      "execution_count": null,
      "outputs": [
        {
          "output_type": "stream",
          "text": [
            "/usr/local/lib/python3.7/dist-packages/torch/utils/data/dataloader.py:477: UserWarning: This DataLoader will create 6 worker processes in total. Our suggested max number of worker in current system is 2, which is smaller than what this DataLoader is going to create. Please be aware that excessive worker creation might get DataLoader running slow or even freeze, lower the worker number to avoid potential slowness/freeze if necessary.\n",
            "  cpuset_checked))\n"
          ],
          "name": "stderr"
        }
      ]
    },
    {
      "cell_type": "markdown",
      "metadata": {
        "id": "dw7xEGe5n3uQ"
      },
      "source": [
        "Predicted Labels"
      ]
    },
    {
      "cell_type": "code",
      "metadata": {
        "colab": {
          "base_uri": "https://localhost:8080/",
          "height": 202
        },
        "id": "U39xRp07XXIM",
        "outputId": "2269719b-29cf-40c6-b3ec-be28f39f25d1"
      },
      "source": [
        "submission_df=pd.DataFrame()\n",
        "submission_df[\"label\"]=test_set_preds.numpy().squeeze()\n",
        "submission_df.head()"
      ],
      "execution_count": null,
      "outputs": [
        {
          "output_type": "execute_result",
          "data": {
            "text/html": [
              "<div>\n",
              "<style scoped>\n",
              "    .dataframe tbody tr th:only-of-type {\n",
              "        vertical-align: middle;\n",
              "    }\n",
              "\n",
              "    .dataframe tbody tr th {\n",
              "        vertical-align: top;\n",
              "    }\n",
              "\n",
              "    .dataframe thead th {\n",
              "        text-align: right;\n",
              "    }\n",
              "</style>\n",
              "<table border=\"1\" class=\"dataframe\">\n",
              "  <thead>\n",
              "    <tr style=\"text-align: right;\">\n",
              "      <th></th>\n",
              "      <th>label</th>\n",
              "    </tr>\n",
              "  </thead>\n",
              "  <tbody>\n",
              "    <tr>\n",
              "      <th>0</th>\n",
              "      <td>7</td>\n",
              "    </tr>\n",
              "    <tr>\n",
              "      <th>1</th>\n",
              "      <td>2</td>\n",
              "    </tr>\n",
              "    <tr>\n",
              "      <th>2</th>\n",
              "      <td>1</td>\n",
              "    </tr>\n",
              "    <tr>\n",
              "      <th>3</th>\n",
              "      <td>0</td>\n",
              "    </tr>\n",
              "    <tr>\n",
              "      <th>4</th>\n",
              "      <td>4</td>\n",
              "    </tr>\n",
              "  </tbody>\n",
              "</table>\n",
              "</div>"
            ],
            "text/plain": [
              "   label\n",
              "0      7\n",
              "1      2\n",
              "2      1\n",
              "3      0\n",
              "4      4"
            ]
          },
          "metadata": {
            "tags": []
          },
          "execution_count": 19
        }
      ]
    },
    {
      "cell_type": "markdown",
      "metadata": {
        "id": "ppvoDxbIn7zd"
      },
      "source": [
        "###Test Accuracy and the Confusion Matrix on the test Set\n"
      ]
    },
    {
      "cell_type": "code",
      "metadata": {
        "colab": {
          "base_uri": "https://localhost:8080/"
        },
        "id": "LobbPXi1XjSY",
        "outputId": "980ea84e-c367-432f-bb01-4243c5ab5d23"
      },
      "source": [
        "from sklearn.metrics import confusion_matrix\n",
        "from sklearn.metrics import accuracy_score\n",
        "\n",
        "y_true = mnist[\"target\"][60000:].astype(int)\n",
        "y_pred = np.array(submission_df[\"label\"])\n",
        "accuracy=accuracy_score(y_true,y_pred)\n",
        "confusion_matrix=confusion_matrix(y_true, y_pred)\n",
        "print(\"Test Accuracy - \",accuracy*100,\"%\")\n",
        "print(\" \\nConfusion Matrix- \")\n",
        "print(confusion_matrix)"
      ],
      "execution_count": null,
      "outputs": [
        {
          "output_type": "stream",
          "text": [
            "Test Accuracy -  99.15 %\n",
            " \n",
            "Confusion Matrix- \n",
            "[[ 975    0    0    0    0    1    2    1    1    0]\n",
            " [   0 1132    0    1    0    0    1    0    1    0]\n",
            " [   2    0 1025    0    0    0    0    4    1    0]\n",
            " [   0    0    0 1003    0    2    0    0    3    2]\n",
            " [   0    0    0    0  971    0    4    1    0    6]\n",
            " [   1    0    0    3    0  884    1    1    0    2]\n",
            " [   1    2    0    0    2    1  951    0    1    0]\n",
            " [   0    2    3    1    0    0    0 1019    1    2]\n",
            " [   1    0    2    2    0    2    0    1  962    4]\n",
            " [   1    0    0    2    6    3    0    4    0  993]]\n"
          ],
          "name": "stdout"
        }
      ]
    },
    {
      "cell_type": "markdown",
      "metadata": {
        "id": "pjB5nO_1dJZK"
      },
      "source": [
        "The baseline SGD model has a test accuracy of 99.15%. The SGD optimiser is good with the given baseline parameters."
      ]
    }
  ]
}